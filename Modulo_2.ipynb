{
  "nbformat": 4,
  "nbformat_minor": 0,
  "metadata": {
    "colab": {
      "provenance": [],
      "collapsed_sections": []
    },
    "kernelspec": {
      "name": "python3",
      "display_name": "Python 3"
    },
    "language_info": {
      "name": "python"
    }
  },
  "cells": [
    {
      "cell_type": "code",
      "execution_count": null,
      "metadata": {
        "id": "oyEUSUo28hjl"
      },
      "outputs": [],
      "source": []
    },
    {
      "cell_type": "code",
      "source": [],
      "metadata": {
        "id": "gAmab7K38-Hx"
      },
      "execution_count": null,
      "outputs": []
    },
    {
      "cell_type": "markdown",
      "source": [
        "##Trabajo con estructuras de datos (tuplas)\n",
        "* Las tuplas se ingresan con unos paréntesis\n",
        "* Son inmutables\n"
      ],
      "metadata": {
        "id": "EVqXgZX88l9_"
      }
    },
    {
      "cell_type": "code",
      "source": [
        "tuple1 = (\"disco\", 1, 1.2)\n",
        "print(tuple1)\n",
        "type(tuple1)"
      ],
      "metadata": {
        "colab": {
          "base_uri": "https://localhost:8080/"
        },
        "id": "scgtFkOI8q7e",
        "outputId": "1c108040-7e21-4342-ace2-d6bbd3a6e0eb"
      },
      "execution_count": null,
      "outputs": [
        {
          "output_type": "stream",
          "name": "stdout",
          "text": [
            "('disco', 1, 1.2)\n"
          ]
        },
        {
          "output_type": "execute_result",
          "data": {
            "text/plain": [
              "tuple"
            ]
          },
          "metadata": {},
          "execution_count": 3
        }
      ]
    },
    {
      "cell_type": "code",
      "source": [
        "tuple1[0]"
      ],
      "metadata": {
        "colab": {
          "base_uri": "https://localhost:8080/",
          "height": 35
        },
        "id": "Nps2wSQL9lk5",
        "outputId": "8b1aac14-180e-40de-de8b-fcc86d82b8d3"
      },
      "execution_count": null,
      "outputs": [
        {
          "output_type": "execute_result",
          "data": {
            "text/plain": [
              "'disco'"
            ],
            "application/vnd.google.colaboratory.intrinsic+json": {
              "type": "string"
            }
          },
          "metadata": {},
          "execution_count": 4
        }
      ]
    },
    {
      "cell_type": "code",
      "source": [
        "tuple2 = tuple1 + (\"Hard Rock\", 3.14)\n",
        "tuple2"
      ],
      "metadata": {
        "colab": {
          "base_uri": "https://localhost:8080/"
        },
        "id": "EhBLvcGb9xCB",
        "outputId": "3eb2dc7e-b3e5-4c44-f2b7-0ce4ebca67a2"
      },
      "execution_count": null,
      "outputs": [
        {
          "output_type": "execute_result",
          "data": {
            "text/plain": [
              "('disco', 1, 1.2, 'Hard Rock', 3.14)"
            ]
          },
          "metadata": {},
          "execution_count": 6
        }
      ]
    },
    {
      "cell_type": "code",
      "source": [
        "tuple2[3:5]\n",
        "len(tuple2)"
      ],
      "metadata": {
        "colab": {
          "base_uri": "https://localhost:8080/"
        },
        "id": "d3pMJGTN-EbV",
        "outputId": "81ac5a77-916c-4dc2-c692-a60a1e479828"
      },
      "execution_count": null,
      "outputs": [
        {
          "output_type": "execute_result",
          "data": {
            "text/plain": [
              "5"
            ]
          },
          "metadata": {},
          "execution_count": 8
        }
      ]
    },
    {
      "cell_type": "code",
      "source": [
        "#Nuevo ejemplo para mostrar que una tupla no es modificable sino que para cambiar el valor de alguna posicion en la tupla es necesario definir una nueva tupla\n",
        "\n",
        "notas = (3, 2, 8, 9, 3, 2, 1)\n",
        "notas\n",
        "notas =sorted(notas)\n",
        "notas"
      ],
      "metadata": {
        "colab": {
          "base_uri": "https://localhost:8080/"
        },
        "id": "T_IcNw3WAIIg",
        "outputId": "0c41edfc-5378-4d26-d5f8-4ff13d8893e1"
      },
      "execution_count": null,
      "outputs": [
        {
          "output_type": "execute_result",
          "data": {
            "text/plain": [
              "[1, 2, 2, 3, 3, 8, 9]"
            ]
          },
          "metadata": {},
          "execution_count": 14
        }
      ]
    },
    {
      "cell_type": "code",
      "source": [
        "notas"
      ],
      "metadata": {
        "colab": {
          "base_uri": "https://localhost:8080/"
        },
        "id": "MUOusVswAsSC",
        "outputId": "9d8039b9-7d19-440c-91e4-b853335dd03b"
      },
      "execution_count": null,
      "outputs": [
        {
          "output_type": "execute_result",
          "data": {
            "text/plain": [
              "[1, 2, 2, 3, 3, 8, 9]"
            ]
          },
          "metadata": {},
          "execution_count": 15
        }
      ]
    },
    {
      "cell_type": "markdown",
      "source": [
        "Las tuplas pueden contener también otras tuplas como se verá a continuación"
      ],
      "metadata": {
        "id": "QFcwypm5BbQQ"
      }
    },
    {
      "cell_type": "code",
      "source": [
        "tuple3 = (\"gato\", 5, (\"pulgas\", 3))\n",
        "tuple3"
      ],
      "metadata": {
        "colab": {
          "base_uri": "https://localhost:8080/"
        },
        "id": "PnRyJLVqBgyp",
        "outputId": "2501bfbf-71aa-4b72-f691-82494bbbabdd"
      },
      "execution_count": null,
      "outputs": [
        {
          "output_type": "execute_result",
          "data": {
            "text/plain": [
              "('gato', 5, ('pulgas', 3))"
            ]
          },
          "metadata": {},
          "execution_count": 18
        }
      ]
    },
    {
      "cell_type": "code",
      "source": [
        "#puedo acceder a la tupla dentro de la tupla con la misma indexación usada siempre\n",
        "print(tuple3[2])\n",
        "\n",
        "#Puedo acceder también a elementos dentro de la tupla que está dentro de la tupla. Por ejemplo si quiero acceder a pulgas haría:\n",
        "print(tuple3[2][0])\n",
        "\n",
        "#También puedo acceder a la la S de pulgas añadiendo otro corchete al final que indique la posición de la S\n",
        "tuple3[2][0][5]"
      ],
      "metadata": {
        "colab": {
          "base_uri": "https://localhost:8080/",
          "height": 70
        },
        "id": "GiwOyRLoBg5s",
        "outputId": "7e371709-ca16-487b-a1b5-ea745997b53d"
      },
      "execution_count": null,
      "outputs": [
        {
          "output_type": "stream",
          "name": "stdout",
          "text": [
            "('pulgas', 3)\n",
            "pulgas\n"
          ]
        },
        {
          "output_type": "execute_result",
          "data": {
            "text/plain": [
              "'s'"
            ],
            "application/vnd.google.colaboratory.intrinsic+json": {
              "type": "string"
            }
          },
          "metadata": {},
          "execution_count": 23
        }
      ]
    },
    {
      "cell_type": "markdown",
      "source": [
        "##Listas\n",
        "* Se ingresan con corchetes [   ]\n",
        "* Son mutables \n",
        "\n",
        "\n",
        "\n"
      ],
      "metadata": {
        "id": "Rjt6NRqECoK9"
      }
    },
    {
      "cell_type": "code",
      "source": [
        "L = [\"Andres Lopez\", 37, 1.68]\n",
        "L"
      ],
      "metadata": {
        "colab": {
          "base_uri": "https://localhost:8080/"
        },
        "id": "zwc1xOvWC-8e",
        "outputId": "50555d34-b1e5-4274-98a1-0bbef8ca71f4"
      },
      "execution_count": null,
      "outputs": [
        {
          "output_type": "execute_result",
          "data": {
            "text/plain": [
              "['Andres Lopez', 37, 1.68]"
            ]
          },
          "metadata": {},
          "execution_count": 30
        }
      ]
    },
    {
      "cell_type": "code",
      "source": [
        "L = [\"Andres Lopez\", 37, 1.68]\n",
        "\n",
        "#Puedo añadir elementos a la lista\n",
        "#Con el método extend estoy poniendo todos los elementos indicados al final de la lista\n",
        "L.extend([\"Salsa\", 250])\n",
        "L\n",
        "#Con append estoy anadiendo una lista copleta al final de la lista en una única posición\n",
        "L.append([\"Bachata\", \"carros de basura\"])\n",
        "L"
      ],
      "metadata": {
        "colab": {
          "base_uri": "https://localhost:8080/"
        },
        "id": "KQNw7nvwD5i6",
        "outputId": "da1e0917-8b39-4303-ee02-c7d806cef168"
      },
      "execution_count": null,
      "outputs": [
        {
          "output_type": "execute_result",
          "data": {
            "text/plain": [
              "['Andres Lopez', 37, 1.68, 'Salsa', 250, ['Bachata', 'carros de basura']]"
            ]
          },
          "metadata": {},
          "execution_count": 32
        }
      ]
    },
    {
      "cell_type": "code",
      "source": [
        "L[5]"
      ],
      "metadata": {
        "colab": {
          "base_uri": "https://localhost:8080/"
        },
        "id": "wRhrZRZIExqQ",
        "outputId": "34719d30-6466-4a0d-f249-386564c63a6c"
      },
      "execution_count": null,
      "outputs": [
        {
          "output_type": "execute_result",
          "data": {
            "text/plain": [
              "['Bachata', 'carros de basura']"
            ]
          },
          "metadata": {},
          "execution_count": 33
        }
      ]
    },
    {
      "cell_type": "code",
      "source": [
        "L = ['Andres Lopez', 37, 1.68, 'Salsa', 250, ['Bachata', 'carros de basura']]\n",
        "#Puedo borrar elementos de la lista. Aquì quiero borrar Bachata. Tuve que hacer doble indexado para indicar que se encuentra en la posción 5, y como\n",
        "#es una lista entonces me toca indicar la posición también dentro de esa segunda lista.\n",
        "del(L[5][0])\n",
        "L"
      ],
      "metadata": {
        "colab": {
          "base_uri": "https://localhost:8080/"
        },
        "id": "b_d6O68ZFC7z",
        "outputId": "d46868fb-2f41-45be-b58f-3a6914d6440f"
      },
      "execution_count": null,
      "outputs": [
        {
          "output_type": "execute_result",
          "data": {
            "text/plain": [
              "['Andres Lopez', 37, 1.68, 'Salsa', 250, ['carros de basura']]"
            ]
          },
          "metadata": {},
          "execution_count": 35
        }
      ]
    },
    {
      "cell_type": "code",
      "source": [
        "\n",
        "#Haciendo Aliasing and cloning. Aliasing es hacer que dos variables se refieran exactamente a la misma lista. Ejemplo:\n",
        "x= [\"pastel\", 10]\n",
        "x\n",
        "\n",
        "#Aliasing\n",
        "y = x\n",
        "y\n",
        "\n",
        "#voy a cambiar ahora pastel por taco en x y ver el efecto en y\n",
        "x[0] = \"taco\"\n",
        "print(x)\n",
        "\n",
        "print(y)\n",
        "\n",
        "#Como se puede ver en este ejemplo, cambiar algún elemento en la lista x también lo cambia en y pues las dos se refieren a la MISMA LISTA "
      ],
      "metadata": {
        "colab": {
          "base_uri": "https://localhost:8080/"
        },
        "id": "odOD3yhZGFaL",
        "outputId": "41628948-3027-4074-b55d-99f6fd714f54"
      },
      "execution_count": null,
      "outputs": [
        {
          "output_type": "stream",
          "name": "stdout",
          "text": [
            "['taco', 10]\n",
            "['taco', 10]\n"
          ]
        }
      ]
    },
    {
      "cell_type": "code",
      "source": [
        "#Ahora voy a hacer cloning: crear una lista distinta con base en otra\n",
        "x= [\"pastel\", 10]\n",
        "print(x)\n",
        "\n",
        "#Aliasing\n",
        "y = x[:]\n",
        "print(y)\n",
        "\n",
        "#voy a cambiar ahora pastel por taco en x y ver el efecto en y\n",
        "x[0] = \"taco\"\n",
        "print(x)\n",
        "\n",
        "print(y)\n",
        "\n",
        "#Aquí sòlo cambié la primera posición de x y dejé a y intacta"
      ],
      "metadata": {
        "colab": {
          "base_uri": "https://localhost:8080/"
        },
        "id": "S9bY-krAG8J7",
        "outputId": "b11dbb76-2e62-4885-e02d-8c9b3f51512a"
      },
      "execution_count": null,
      "outputs": [
        {
          "output_type": "stream",
          "name": "stdout",
          "text": [
            "['pastel', 10]\n",
            "['pastel', 10]\n",
            "['taco', 10]\n",
            "['pastel', 10]\n"
          ]
        }
      ]
    },
    {
      "cell_type": "markdown",
      "source": [
        "##Diccionarios - dictionaries\n",
        "\n",
        "* Igualmente son un conjunto de datos organizados\n",
        "* En vez de tener índices como en las tuplas se utilizan \"keys\"\n",
        "* Las Keys se indican cuando se crean los diccionarios. Son los primeros elementos ingresados.\n",
        "* Cada. key es única.\n",
        "* Van entre corchetes (curly braces) { }\n"
      ],
      "metadata": {
        "id": "27XtEOoIMw-I"
      }
    },
    {
      "cell_type": "code",
      "source": [
        "#Ejemplo de la creación de un diccionario\n",
        "\n",
        "D = {\"Título\": \"Ingeniero mecánico\", \"Edad\": 36, \"Tallas\": (1.68, \"M\", 30)}\n",
        "D"
      ],
      "metadata": {
        "colab": {
          "base_uri": "https://localhost:8080/"
        },
        "id": "AUuPf0U0-S9V",
        "outputId": "ef58e209-1d63-4060-9a8e-795a95238f3b"
      },
      "execution_count": 2,
      "outputs": [
        {
          "output_type": "execute_result",
          "data": {
            "text/plain": [
              "{'Título': 'Ingeniero mecánico', 'Edad': 36, 'Tallas': (1.68, 'M', 30)}"
            ]
          },
          "metadata": {},
          "execution_count": 2
        }
      ]
    },
    {
      "cell_type": "code",
      "source": [
        "D[\"Título\"]"
      ],
      "metadata": {
        "colab": {
          "base_uri": "https://localhost:8080/",
          "height": 36
        },
        "id": "tBTV5MRv-ukw",
        "outputId": "4d1855e7-af4d-4268-ac07-8595bb2045c7"
      },
      "execution_count": 3,
      "outputs": [
        {
          "output_type": "execute_result",
          "data": {
            "text/plain": [
              "'Ingeniero mecánico'"
            ],
            "application/vnd.google.colaboratory.intrinsic+json": {
              "type": "string"
            }
          },
          "metadata": {},
          "execution_count": 3
        }
      ]
    },
    {
      "cell_type": "code",
      "source": [
        "#Añadir una nueva entrada al diccionario\n",
        "D['Trabajo actual']=\"Director de caldiad\"\n",
        "D"
      ],
      "metadata": {
        "colab": {
          "base_uri": "https://localhost:8080/"
        },
        "id": "lr8-UZ1V_C6b",
        "outputId": "892b6433-8282-470f-af25-e7cdf38a25b8"
      },
      "execution_count": 5,
      "outputs": [
        {
          "output_type": "execute_result",
          "data": {
            "text/plain": [
              "{'Título': 'Ingeniero mecánico',\n",
              " 'Edad': 36,\n",
              " 'Tallas': (1.68, 'M', 30),\n",
              " 'Trabajo actual': 'Director de caldiad'}"
            ]
          },
          "metadata": {},
          "execution_count": 5
        }
      ]
    },
    {
      "cell_type": "code",
      "source": [
        "#Borrando una posición del diccionario\n",
        "#del(D['Edad'])\n",
        "#D\n",
        "\n",
        "D[\"Edad\"]=36\n",
        "D"
      ],
      "metadata": {
        "colab": {
          "base_uri": "https://localhost:8080/"
        },
        "id": "bjmNb5fQ_c1T",
        "outputId": "afd7ade0-3553-4ffb-9975-44251e63d205"
      },
      "execution_count": 9,
      "outputs": [
        {
          "output_type": "execute_result",
          "data": {
            "text/plain": [
              "{'Título': 'Ingeniero mecánico',\n",
              " 'Tallas': (1.68, 'M', 30),\n",
              " 'Trabajo actual': 'Director de caldiad',\n",
              " 'Edad': 36}"
            ]
          },
          "metadata": {},
          "execution_count": 9
        }
      ]
    },
    {
      "cell_type": "code",
      "source": [
        "#Entender si un elemento está en el diccionario. Busca por las llaves\n",
        "'Trabajo actual' in D"
      ],
      "metadata": {
        "colab": {
          "base_uri": "https://localhost:8080/"
        },
        "id": "IRj99R66_-_E",
        "outputId": "16fe1be2-5db8-4c94-d651-c0c179d89733"
      },
      "execution_count": 11,
      "outputs": [
        {
          "output_type": "execute_result",
          "data": {
            "text/plain": [
              "True"
            ]
          },
          "metadata": {},
          "execution_count": 11
        }
      ]
    },
    {
      "cell_type": "code",
      "source": [
        "#Obteniendo todas las llaves\n",
        "D.keys()\n",
        "D.values()"
      ],
      "metadata": {
        "colab": {
          "base_uri": "https://localhost:8080/"
        },
        "id": "zuI70W8yATWU",
        "outputId": "9b3682e0-1512-4f68-f0e9-07d8ef58bda3"
      },
      "execution_count": 13,
      "outputs": [
        {
          "output_type": "execute_result",
          "data": {
            "text/plain": [
              "dict_values(['Ingeniero mecánico', (1.68, 'M', 30), 'Director de caldiad', 36])"
            ]
          },
          "metadata": {},
          "execution_count": 13
        }
      ]
    },
    {
      "cell_type": "code",
      "source": [
        "#Otros ejemplos de diccionario creados del taller que aparece en la página de IBM\n",
        "\n",
        "\n",
        "Dict = {\"key1\": 1, \"key2\": \"2\", \"key3\": [3, 3, 3], \"key4\": (4, 4, 4), ('key5'): 5, (0, 1): 6}\n",
        "Dict"
      ],
      "metadata": {
        "colab": {
          "base_uri": "https://localhost:8080/"
        },
        "id": "4Ei8gnV-Bgtp",
        "outputId": "6944508e-d908-4300-f3ff-08c694151447"
      },
      "execution_count": 14,
      "outputs": [
        {
          "output_type": "execute_result",
          "data": {
            "text/plain": [
              "{'key1': 1,\n",
              " 'key2': '2',\n",
              " 'key3': [3, 3, 3],\n",
              " 'key4': (4, 4, 4),\n",
              " 'key5': 5,\n",
              " (0, 1): 6}"
            ]
          },
          "metadata": {},
          "execution_count": 14
        }
      ]
    },
    {
      "cell_type": "markdown",
      "source": [
        "##SETS o conjuntos\n",
        "* También se crean con corchetes\n",
        "* No son conmo los diccionarios en la medida que uno no especifica la llave de cada posición."
      ],
      "metadata": {
        "id": "0FKB2PcoDedH"
      }
    },
    {
      "cell_type": "code",
      "source": [
        "set1 = {\"amarillo\",\"azul\",\"rojo\"}\n",
        "set1"
      ],
      "metadata": {
        "colab": {
          "base_uri": "https://localhost:8080/"
        },
        "id": "zj9rDyN3Dp6X",
        "outputId": "f4703057-4709-4271-d6ba-e352c3ae50a0"
      },
      "execution_count": 15,
      "outputs": [
        {
          "output_type": "execute_result",
          "data": {
            "text/plain": [
              "{'amarillo', 'azul', 'rojo'}"
            ]
          },
          "metadata": {},
          "execution_count": 15
        }
      ]
    },
    {
      "cell_type": "code",
      "source": [
        "#Cuando se crea un conjunto, Python identifica los elementos únicos y elimina los repetidos\n",
        "set2= {\"amarillo\",\"azul\",\"rojo\",\"amarillo\",\"azul\",\"rojo\",\"amarillo\",\"azul\",\"rojo\"}\n",
        "set2"
      ],
      "metadata": {
        "colab": {
          "base_uri": "https://localhost:8080/"
        },
        "id": "GR3ItN0dD4NA",
        "outputId": "cc3c9b2b-7501-4d0c-bc68-e9c5e02b3e31"
      },
      "execution_count": 16,
      "outputs": [
        {
          "output_type": "execute_result",
          "data": {
            "text/plain": [
              "{'amarillo', 'azul', 'rojo'}"
            ]
          },
          "metadata": {},
          "execution_count": 16
        }
      ]
    },
    {
      "cell_type": "code",
      "source": [
        "#Es posible convertir un conjunto en una lista (set into a list). No sé para qué francamente.\n",
        "\n",
        "#lo que sigue es una lista\n",
        "album_list = [ \"Michael Jackson\", \"Thriller\", 1982, \"00:42:19\", \\\n",
        "              \"Pop, Rock, R&B\", 46.0, 65, \"30-Nov-82\", None, 10.0]\n",
        "\n",
        "print(album_list)\n",
        "\n",
        "album_list_conjunto = set(album_list)\n",
        "#print(album_list_conjunto)\n",
        "\n",
        "type(album_list_conjunto )"
      ],
      "metadata": {
        "colab": {
          "base_uri": "https://localhost:8080/"
        },
        "id": "jag1vRpfEvre",
        "outputId": "9471bbfd-a05d-4c28-bbe6-b749ccc213a7"
      },
      "execution_count": 24,
      "outputs": [
        {
          "output_type": "stream",
          "name": "stdout",
          "text": [
            "['Michael Jackson', 'Thriller', 1982, '00:42:19', 'Pop, Rock, R&B', 46.0, 65, '30-Nov-82', None, 10.0]\n"
          ]
        },
        {
          "output_type": "execute_result",
          "data": {
            "text/plain": [
              "set"
            ]
          },
          "metadata": {},
          "execution_count": 24
        }
      ]
    },
    {
      "cell_type": "code",
      "source": [
        "#operaciones entre conjuntos\n",
        "\n",
        "A = set([\"Thriller\", \"Back in Black\", \"AC/DC\"])\n",
        "type (A)\n",
        "\n",
        "#Adicionando cosas\n",
        "A.add(\"cañonazos bailables\")\n",
        "A"
      ],
      "metadata": {
        "colab": {
          "base_uri": "https://localhost:8080/"
        },
        "id": "1o4ZNch0FuE7",
        "outputId": "b90286ed-6238-4cc0-ebae-eeab6518874f"
      },
      "execution_count": 30,
      "outputs": [
        {
          "output_type": "execute_result",
          "data": {
            "text/plain": [
              "{'AC/DC', 'Back in Black', 'Thriller', 'cañonazos bailables'}"
            ]
          },
          "metadata": {},
          "execution_count": 30
        }
      ]
    },
    {
      "cell_type": "code",
      "source": [
        "#quitando cosas\n",
        "A.remove(\"Thriller\")\n",
        "A"
      ],
      "metadata": {
        "colab": {
          "base_uri": "https://localhost:8080/"
        },
        "id": "6oVNFiDbGJHU",
        "outputId": "4ebda50b-927d-43e5-9de0-c1b0446747ac"
      },
      "execution_count": 31,
      "outputs": [
        {
          "output_type": "execute_result",
          "data": {
            "text/plain": [
              "{'AC/DC', 'Back in Black', 'cañonazos bailables'}"
            ]
          },
          "metadata": {},
          "execution_count": 31
        }
      ]
    },
    {
      "cell_type": "code",
      "source": [
        "#Quiz of sets\n",
        "\n",
        "\n",
        "conjunto = ['rap','house','electronic music', 'rap']\n",
        "type(conjunto)\n",
        "\n",
        "#convertir esa lista a un conjunto\n",
        "conjunto2 = set(conjunto)\n",
        "type(conjunto2)"
      ],
      "metadata": {
        "colab": {
          "base_uri": "https://localhost:8080/"
        },
        "id": "WU_Rxt-gILZl",
        "outputId": "8f562ee4-01f2-4db5-dbcc-94f06247473c"
      },
      "execution_count": 35,
      "outputs": [
        {
          "output_type": "execute_result",
          "data": {
            "text/plain": [
              "set"
            ]
          },
          "metadata": {},
          "execution_count": 35
        }
      ]
    },
    {
      "cell_type": "code",
      "source": [
        "A = [1, 2, 2, 1]\n",
        "B = set([1, 2, 2, 1])\n",
        "\n",
        "sum(A) == sum(B)\n"
      ],
      "metadata": {
        "colab": {
          "base_uri": "https://localhost:8080/"
        },
        "id": "aJUUcr-jIxt4",
        "outputId": "db356b01-a8e7-4543-acf1-8439a86f090e"
      },
      "execution_count": 38,
      "outputs": [
        {
          "output_type": "execute_result",
          "data": {
            "text/plain": [
              "False"
            ]
          },
          "metadata": {},
          "execution_count": 38
        }
      ]
    },
    {
      "cell_type": "code",
      "source": [
        "#Create a new set album_set3 that is the union of album_set1 and album_set2:\n",
        "\n",
        "album_set1 = set([\"Thriller\", 'AC/DC', 'Back in Black'])\n",
        "album_set2 = set([ \"AC/DC\", \"Back in Black\", \"The Dark Side of the Moon\"])\n",
        "\n",
        "album_set1.union(album_set2)"
      ],
      "metadata": {
        "colab": {
          "base_uri": "https://localhost:8080/"
        },
        "id": "daqB4OHuJND2",
        "outputId": "ad392d63-3be3-4ed5-8864-7e16540be280"
      },
      "execution_count": 42,
      "outputs": [
        {
          "output_type": "execute_result",
          "data": {
            "text/plain": [
              "{'AC/DC', 'Back in Black', 'The Dark Side of the Moon', 'Thriller'}"
            ]
          },
          "metadata": {},
          "execution_count": 42
        }
      ]
    },
    {
      "cell_type": "code",
      "source": [
        "#Find out if album_set1 is a subset of album_set3:\n",
        "\n",
        "set(album_set1).issubset(album_set2)"
      ],
      "metadata": {
        "colab": {
          "base_uri": "https://localhost:8080/"
        },
        "id": "NMfGV2HyKFRP",
        "outputId": "eed23cf5-1e13-4aff-fccb-c409862379c4"
      },
      "execution_count": 46,
      "outputs": [
        {
          "output_type": "execute_result",
          "data": {
            "text/plain": [
              "False"
            ]
          },
          "metadata": {},
          "execution_count": 46
        }
      ]
    },
    {
      "cell_type": "markdown",
      "source": [
        "##QUIZ "
      ],
      "metadata": {
        "id": "ILptz73aLOzh"
      }
    },
    {
      "cell_type": "code",
      "source": [],
      "metadata": {
        "id": "s5AMEMyVL2GJ"
      },
      "execution_count": null,
      "outputs": []
    }
  ]
}