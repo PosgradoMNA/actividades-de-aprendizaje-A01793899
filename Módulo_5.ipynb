{
  "nbformat": 4,
  "nbformat_minor": 0,
  "metadata": {
    "colab": {
      "provenance": []
    },
    "kernelspec": {
      "name": "python3",
      "display_name": "Python 3"
    },
    "language_info": {
      "name": "python"
    }
  },
  "cells": [
    {
      "cell_type": "markdown",
      "source": [
        "###TRABAJANDO CON ARREGLOS DE NUMPY"
      ],
      "metadata": {
        "id": "zIaBINbc5s1k"
      }
    },
    {
      "cell_type": "code",
      "execution_count": 30,
      "metadata": {
        "colab": {
          "base_uri": "https://localhost:8080/"
        },
        "id": "Q459J-IO4yro",
        "outputId": "a7daa8d2-5f7d-44d3-fb1f-ee6f55938897"
      },
      "outputs": [
        {
          "output_type": "execute_result",
          "data": {
            "text/plain": [
              "3"
            ]
          },
          "metadata": {},
          "execution_count": 30
        }
      ],
      "source": [
        "#Creando un arreglo de Numpy\n",
        "\n",
        "import numpy as np\n",
        "\n",
        "a = np.array([1, 2, 3, 4])\n",
        "a[2]"
      ]
    },
    {
      "cell_type": "code",
      "source": [
        "type(a)"
      ],
      "metadata": {
        "colab": {
          "base_uri": "https://localhost:8080/"
        },
        "id": "BhHt7FOQ6Lcj",
        "outputId": "96322fc9-9970-4e94-c128-bbb3256c2efa"
      },
      "execution_count": 31,
      "outputs": [
        {
          "output_type": "execute_result",
          "data": {
            "text/plain": [
              "numpy.ndarray"
            ]
          },
          "metadata": {},
          "execution_count": 31
        }
      ]
    },
    {
      "cell_type": "code",
      "source": [
        "a.dtype"
      ],
      "metadata": {
        "colab": {
          "base_uri": "https://localhost:8080/"
        },
        "id": "Uzeb3isM6QEd",
        "outputId": "294b1a55-f8d1-46a5-b7b1-82f5f03dc9f8"
      },
      "execution_count": 32,
      "outputs": [
        {
          "output_type": "execute_result",
          "data": {
            "text/plain": [
              "dtype('int64')"
            ]
          },
          "metadata": {},
          "execution_count": 32
        }
      ]
    },
    {
      "cell_type": "code",
      "source": [
        "a.size"
      ],
      "metadata": {
        "colab": {
          "base_uri": "https://localhost:8080/"
        },
        "id": "JZj_BAUh6W-q",
        "outputId": "ee0bb786-df3f-429f-9b4a-63e5e353ed5f"
      },
      "execution_count": 33,
      "outputs": [
        {
          "output_type": "execute_result",
          "data": {
            "text/plain": [
              "4"
            ]
          },
          "metadata": {},
          "execution_count": 33
        }
      ]
    },
    {
      "cell_type": "code",
      "source": [
        "a.shape"
      ],
      "metadata": {
        "colab": {
          "base_uri": "https://localhost:8080/"
        },
        "id": "kX4B4moO6ffA",
        "outputId": "c7aa439c-36e8-435d-d5c6-6a15b9ca875a"
      },
      "execution_count": 34,
      "outputs": [
        {
          "output_type": "execute_result",
          "data": {
            "text/plain": [
              "(4,)"
            ]
          },
          "metadata": {},
          "execution_count": 34
        }
      ]
    },
    {
      "cell_type": "code",
      "source": [
        "#Indexing and slicing\n",
        "\n",
        "a[0]= 8\n",
        "a\n",
        "\n",
        "a.mean()"
      ],
      "metadata": {
        "colab": {
          "base_uri": "https://localhost:8080/"
        },
        "id": "4qDZCuFy6tzy",
        "outputId": "8c364639-7acd-49b4-b79b-a70f0d1d92dc"
      },
      "execution_count": 35,
      "outputs": [
        {
          "output_type": "execute_result",
          "data": {
            "text/plain": [
              "4.25"
            ]
          },
          "metadata": {},
          "execution_count": 35
        }
      ]
    },
    {
      "cell_type": "markdown",
      "source": [
        "###Operaciones vectoriales"
      ],
      "metadata": {
        "id": "D3WeVF-o7hgj"
      }
    },
    {
      "cell_type": "code",
      "source": [
        "u = np.array([1,2])\n",
        "v = np.array([3,4])\n",
        "\n",
        "z = u * v\n",
        "z\n",
        "\n",
        "#Dot product\n",
        "\n",
        "z = np.dot(u, v)\n",
        "z"
      ],
      "metadata": {
        "colab": {
          "base_uri": "https://localhost:8080/"
        },
        "id": "GAuGrUNX7jo3",
        "outputId": "cfe27445-1257-4537-b92e-4b2c205dde67"
      },
      "execution_count": 36,
      "outputs": [
        {
          "output_type": "execute_result",
          "data": {
            "text/plain": [
              "11"
            ]
          },
          "metadata": {},
          "execution_count": 36
        }
      ]
    },
    {
      "cell_type": "code",
      "source": [
        "#Universial functions\n",
        "\n",
        "b = np.array([1, 2, 3, 4, 5, 6, 7])\n",
        "\n",
        "b.mean()"
      ],
      "metadata": {
        "colab": {
          "base_uri": "https://localhost:8080/",
          "height": 235
        },
        "id": "6JS1vZCa9Vsr",
        "outputId": "16652ec8-ebef-4cf9-e253-e2591d48e078"
      },
      "execution_count": 28,
      "outputs": [
        {
          "output_type": "error",
          "ename": "NameError",
          "evalue": "ignored",
          "traceback": [
            "\u001b[0;31m---------------------------------------------------------------------------\u001b[0m",
            "\u001b[0;31mNameError\u001b[0m                                 Traceback (most recent call last)",
            "\u001b[0;32m<ipython-input-28-f1e53c9700f1>\u001b[0m in \u001b[0;36m<module>\u001b[0;34m\u001b[0m\n\u001b[1;32m      1\u001b[0m \u001b[0;31m#Universial functions\u001b[0m\u001b[0;34m\u001b[0m\u001b[0;34m\u001b[0m\u001b[0;34m\u001b[0m\u001b[0m\n\u001b[1;32m      2\u001b[0m \u001b[0;34m\u001b[0m\u001b[0m\n\u001b[0;32m----> 3\u001b[0;31m \u001b[0mb\u001b[0m \u001b[0;34m=\u001b[0m \u001b[0mnp\u001b[0m\u001b[0;34m.\u001b[0m\u001b[0marray\u001b[0m\u001b[0;34m(\u001b[0m\u001b[0;34m[\u001b[0m\u001b[0;36m1\u001b[0m\u001b[0;34m,\u001b[0m \u001b[0;36m2\u001b[0m\u001b[0;34m,\u001b[0m \u001b[0;36m3\u001b[0m\u001b[0;34m,\u001b[0m \u001b[0;36m4\u001b[0m\u001b[0;34m,\u001b[0m \u001b[0;36m5\u001b[0m\u001b[0;34m,\u001b[0m \u001b[0;36m6\u001b[0m\u001b[0;34m,\u001b[0m \u001b[0;36m7\u001b[0m\u001b[0;34m]\u001b[0m\u001b[0;34m)\u001b[0m\u001b[0;34m\u001b[0m\u001b[0;34m\u001b[0m\u001b[0m\n\u001b[0m\u001b[1;32m      4\u001b[0m \u001b[0;34m\u001b[0m\u001b[0m\n\u001b[1;32m      5\u001b[0m \u001b[0mb\u001b[0m\u001b[0;34m.\u001b[0m\u001b[0mmean\u001b[0m\u001b[0;34m(\u001b[0m\u001b[0;34m)\u001b[0m\u001b[0;34m\u001b[0m\u001b[0;34m\u001b[0m\u001b[0m\n",
            "\u001b[0;31mNameError\u001b[0m: name 'np' is not defined"
          ]
        }
      ]
    },
    {
      "cell_type": "code",
      "source": [
        "np.pi\n",
        "radianes = np.array([0, np.pi/2, np.pi])\n",
        "\n",
        "y = np.sin(radianes)\n",
        "y"
      ],
      "metadata": {
        "id": "BGaJ7zVZ9zIx"
      },
      "execution_count": null,
      "outputs": []
    },
    {
      "cell_type": "code",
      "source": [
        "#Vamos a generar un conjunto de datos con linspace, quien marca el inicio, fin y espaciamiento del rango de datos\n",
        "\n",
        "x = np.linspace(-1.* np.pi, np.pi, num = 100 )\n",
        "y = np.sin(x)\n",
        "\n",
        "import matplotlib.pyplot as plt\n",
        "\n",
        "plt.plot(x, y)"
      ],
      "metadata": {
        "id": "5EZ3IfJc-ehA"
      },
      "execution_count": null,
      "outputs": []
    },
    {
      "cell_type": "code",
      "source": [
        "\n",
        "arr1 = np.array([1, 2, 3])\n",
        "arr2 = np.array([8, 9, 10])\n",
        "\n",
        "arr3 = np.add(arr1, arr2)\n",
        "arr3\n",
        "\n",
        "arr4 = np.subtract(arr1, arr2)\n",
        "arr4\n",
        "\n",
        "arr5 = np.multiply(arr1, arr2)\n",
        "arr5\n",
        "\n",
        "\n",
        "arr6 = np.divide(arr1, arr2)\n",
        "arr6\n",
        "\n",
        "arr7 = np.dot(arr1, arr2)\n",
        "arr7"
      ],
      "metadata": {
        "id": "Hg8szAzdDybN"
      },
      "execution_count": null,
      "outputs": []
    },
    {
      "cell_type": "markdown",
      "source": [
        "###APPLICATION PROGRAM INTERPHASES, APIs\n",
        "Un API es básicamente un programa que perminte la comunicación entre dos softwares.\n",
        "\n",
        "Los REST APIs permite que mi programa se comunique con internet para obtener ventajas de los repositorios. REST = representational states for transfer.\n",
        "\n",
        ">>Mi programa sería el cliente, el API se comunica con un servicio web a través de internet. La forma como se comunica mi código con el servicio web es mediante el REST API a través de un mensaje por HTTP, quien contiene un file JSON que contiene la información de lo que queremos pedir al servidor."
      ],
      "metadata": {
        "id": "efFrDVzyMwKq"
      }
    },
    {
      "cell_type": "code",
      "source": [],
      "metadata": {
        "id": "7R0PtyMcQ0Y0"
      },
      "execution_count": 1,
      "outputs": []
    },
    {
      "cell_type": "code",
      "source": [
        "import requests\n",
        "import os \n",
        "from PIL import Image\n",
        "from IPython.display import IFrame"
      ],
      "metadata": {
        "id": "ZPc7rnBaEgLO"
      },
      "execution_count": 3,
      "outputs": []
    },
    {
      "cell_type": "code",
      "source": [
        "\n",
        "#You can make a GET request via the method get to www.ibm.com:\n",
        "url='https://www.ibm.com/'\n",
        "r=requests.get(url)\n"
      ],
      "metadata": {
        "colab": {
          "base_uri": "https://localhost:8080/"
        },
        "id": "pN2aAoHaX_jz",
        "outputId": "912a2f03-cb63-40ba-cca4-333d70b52609"
      },
      "execution_count": 5,
      "outputs": [
        {
          "output_type": "execute_result",
          "data": {
            "text/plain": [
              "<Response [200]>"
            ]
          },
          "metadata": {},
          "execution_count": 5
        }
      ]
    },
    {
      "cell_type": "code",
      "source": [
        "#La siguiente línea devuelve el código del estatus. 200 es éxito.\n",
        "r.status_code"
      ],
      "metadata": {
        "colab": {
          "base_uri": "https://localhost:8080/"
        },
        "id": "H-pnAGZUYK-W",
        "outputId": "158fba08-aaba-4822-aea7-b26a61564f18"
      },
      "execution_count": 6,
      "outputs": [
        {
          "output_type": "execute_result",
          "data": {
            "text/plain": [
              "200"
            ]
          },
          "metadata": {},
          "execution_count": 6
        }
      ]
    },
    {
      "cell_type": "code",
      "source": [
        "print(r.request.headers)"
      ],
      "metadata": {
        "colab": {
          "base_uri": "https://localhost:8080/"
        },
        "id": "SUQAMLYoYWah",
        "outputId": "215d588f-7c5e-4e28-efcc-1ad7edae6f26"
      },
      "execution_count": 7,
      "outputs": [
        {
          "output_type": "stream",
          "name": "stdout",
          "text": [
            "{'User-Agent': 'python-requests/2.23.0', 'Accept-Encoding': 'gzip, deflate', 'Accept': '*/*', 'Connection': 'keep-alive', 'Cookie': '_abck=9714786791DC93A12E7A09D45887C756~-1~YAAQVvTVF+1owViDAQAAO2dgpgi20/+XYfbpXPROK7y6kzmqzCLyXklJwT9Ycpuxwf98wcT/rYVXRNVPDfOqZRtEgb1Rcf5AN8oPO2tOdav6ojlqrVNbVCjymKLNpaQW3iuX4PiKDEe163a2qeIlfnTz3ClzEk+BNaSLPcTESQRB+QZ805xKXFtCUA21xrxQEvJLLYSXHcQQTrXaP7zLJUV6BRD+TkGV3P4EZfd+AqWWKTr3//w2DfFoEskVTJ+SKvf4U0dK2wvF2puc67qFRJgnB3TjQLT55J2mduUgocSmFxyXwfG/+nVarNkc4zr8Vx+MfYboenYfGxYexogkGpDNMhSRb7RseE69Q1tkBg0n29p93VM=~-1~-1~-1; bm_sz=84BCEEE0D473845BF22AE3898A08C1E2~YAAQVvTVF+5owViDAQAAO2dgphGf2s9tHflW1bqBZNHivsLDSllR+joiG8PSAsKVfEgMwDOI436M6/7src9v6Wgn0OU85/yAbArjwJmXNyPqEXBMXFGK2gsaKp+kNhgX2Qp46Erle+1QubObPHPcNshxgR+5kAp3/dnQYjP/3hQNwfvAupUdO1MfdeI9vsiFV26xRC+k6dsuChRHzEdf5yMAxGr6MWvuunXq+VJPhBRYBZdBt3xxeL/ImlJshO2tGKWY5B7HuFKSiLU8/nqOWCDre8ja/BkivqB4gghZ/ac=~3160375~3225157'}\n"
          ]
        }
      ]
    },
    {
      "cell_type": "code",
      "source": [
        "print(\"request body:\", r.request.body)"
      ],
      "metadata": {
        "colab": {
          "base_uri": "https://localhost:8080/"
        },
        "id": "Cgq-fw-pZHSm",
        "outputId": "dd7ad3f2-1509-49bb-ceef-5832bc2b1ee0"
      },
      "execution_count": 8,
      "outputs": [
        {
          "output_type": "stream",
          "name": "stdout",
          "text": [
            "request body: None\n"
          ]
        }
      ]
    },
    {
      "cell_type": "code",
      "source": [
        "header=r.headers\n",
        "print(r.headers)"
      ],
      "metadata": {
        "colab": {
          "base_uri": "https://localhost:8080/"
        },
        "id": "tUeJRx1yZPLi",
        "outputId": "116fe407-1af0-4155-da32-22584e0e1355"
      },
      "execution_count": 9,
      "outputs": [
        {
          "output_type": "stream",
          "name": "stdout",
          "text": [
            "{'Server': 'Apache', 'Last-Modified': 'Mon, 03 Oct 2022 12:34:16 GMT', 'ETag': '\"17fce-5ea208fcd503e-gzip\"', 'Accept-Ranges': 'bytes', 'Content-Encoding': 'gzip', 'Content-Type': 'text/html', 'Cache-Control': 'max-age=3600', 'Expires': 'Wed, 05 Oct 2022 05:21:19 GMT', 'X-Akamai-Transformed': '9 21227 0 pmb=mTOE,2', 'Date': 'Wed, 05 Oct 2022 04:21:19 GMT', 'Content-Length': '21405', 'Connection': 'keep-alive', 'Vary': 'Accept-Encoding', 'x-content-type-options': 'nosniff', 'X-XSS-Protection': '1; mode=block', 'Content-Security-Policy': 'upgrade-insecure-requests', 'Strict-Transport-Security': 'max-age=31536000'}\n"
          ]
        }
      ]
    },
    {
      "cell_type": "code",
      "source": [
        "header['date']"
      ],
      "metadata": {
        "colab": {
          "base_uri": "https://localhost:8080/",
          "height": 35
        },
        "id": "eEPNj0czZQqQ",
        "outputId": "88548c99-1a5c-40c2-9894-21253e4e026f"
      },
      "execution_count": 10,
      "outputs": [
        {
          "output_type": "execute_result",
          "data": {
            "text/plain": [
              "'Wed, 05 Oct 2022 04:21:19 GMT'"
            ],
            "application/vnd.google.colaboratory.intrinsic+json": {
              "type": "string"
            }
          },
          "metadata": {},
          "execution_count": 10
        }
      ]
    },
    {
      "cell_type": "code",
      "source": [
        "header['Content-Type']"
      ],
      "metadata": {
        "colab": {
          "base_uri": "https://localhost:8080/",
          "height": 35
        },
        "id": "ujGACkY0ZVLg",
        "outputId": "871ccd8f-988b-485e-c879-cfb36ef0dc5a"
      },
      "execution_count": 11,
      "outputs": [
        {
          "output_type": "execute_result",
          "data": {
            "text/plain": [
              "'text/html'"
            ],
            "application/vnd.google.colaboratory.intrinsic+json": {
              "type": "string"
            }
          },
          "metadata": {},
          "execution_count": 11
        }
      ]
    },
    {
      "cell_type": "code",
      "source": [
        "url='https://cf-courses-data.s3.us.cloud-object-storage.appdomain.cloud/IBMDeveloperSkillsNetwork-PY0101EN-SkillsNetwork/labs/Module%205/data/Example1.txt'\n",
        "path=os.path.join(os.getcwd(),'example1.txt')\n",
        "r=requests.get(url)\n",
        "with open(path,'wb') as f:\n",
        "    f.write(r.content)"
      ],
      "metadata": {
        "id": "lwaJahWUZyHf"
      },
      "execution_count": 12,
      "outputs": []
    },
    {
      "cell_type": "code",
      "source": [
        "url_get='http://httpbin.org/get'"
      ],
      "metadata": {
        "id": "d_A76YK6Z1c-"
      },
      "execution_count": 13,
      "outputs": []
    },
    {
      "cell_type": "markdown",
      "source": [
        "###Taller sobre APIs\n"
      ],
      "metadata": {
        "id": "CZ2VLaMSbG_X"
      }
    },
    {
      "cell_type": "code",
      "source": [
        "!pip install randomuser"
      ],
      "metadata": {
        "colab": {
          "base_uri": "https://localhost:8080/"
        },
        "id": "9R34sMWgbJQR",
        "outputId": "147a8dd4-87d9-4963-c131-712b23d334de"
      },
      "execution_count": 14,
      "outputs": [
        {
          "output_type": "stream",
          "name": "stdout",
          "text": [
            "Looking in indexes: https://pypi.org/simple, https://us-python.pkg.dev/colab-wheels/public/simple/\n",
            "Collecting randomuser\n",
            "  Downloading randomuser-1.6.tar.gz (5.0 kB)\n",
            "Building wheels for collected packages: randomuser\n",
            "  Building wheel for randomuser (setup.py) ... \u001b[?25l\u001b[?25hdone\n",
            "  Created wheel for randomuser: filename=randomuser-1.6-py3-none-any.whl size=5084 sha256=a3e2743950a89dca2b86fad4cf802f820c7683c0f26b15c3fa3ab8af0397af1f\n",
            "  Stored in directory: /root/.cache/pip/wheels/21/10/7b/c13bc3e24a3c1000a34554802ad8aa0ff27df56366998a0473\n",
            "Successfully built randomuser\n",
            "Installing collected packages: randomuser\n",
            "Successfully installed randomuser-1.6\n"
          ]
        }
      ]
    },
    {
      "cell_type": "code",
      "source": [
        "from randomuser import RandomUser\n",
        "import pandas as pd"
      ],
      "metadata": {
        "id": "cXpaB4W0bL9H"
      },
      "execution_count": 15,
      "outputs": []
    },
    {
      "cell_type": "code",
      "source": [
        "#First, we will create a random user object, r.\n",
        "r = RandomUser()"
      ],
      "metadata": {
        "id": "grfo0CombPTn"
      },
      "execution_count": 16,
      "outputs": []
    },
    {
      "cell_type": "code",
      "source": [
        "#Then, using generate_users() function, we get a list of random 10 users.\n",
        "\n",
        "some_list = r.generate_users(10)"
      ],
      "metadata": {
        "id": "r31RXe-JbVP4"
      },
      "execution_count": 18,
      "outputs": []
    },
    {
      "cell_type": "code",
      "source": [
        "some_list"
      ],
      "metadata": {
        "colab": {
          "base_uri": "https://localhost:8080/"
        },
        "id": "jM3yyFGCbZkr",
        "outputId": "9a3c6a2a-40b9-4173-ce4e-6d4ed5ecc464"
      },
      "execution_count": 19,
      "outputs": [
        {
          "output_type": "execute_result",
          "data": {
            "text/plain": [
              "[<randomuser.RandomUser at 0x7f0a4170f310>,\n",
              " <randomuser.RandomUser at 0x7f0a4170f350>,\n",
              " <randomuser.RandomUser at 0x7f0a4170f2d0>,\n",
              " <randomuser.RandomUser at 0x7f0a4170f390>,\n",
              " <randomuser.RandomUser at 0x7f0a4170f3d0>,\n",
              " <randomuser.RandomUser at 0x7f0a4170f450>,\n",
              " <randomuser.RandomUser at 0x7f0a4170f490>,\n",
              " <randomuser.RandomUser at 0x7f0a4170f4d0>,\n",
              " <randomuser.RandomUser at 0x7f0a4170f510>,\n",
              " <randomuser.RandomUser at 0x7f0a4170f410>]"
            ]
          },
          "metadata": {},
          "execution_count": 19
        }
      ]
    },
    {
      "cell_type": "markdown",
      "source": [
        "The **\"Get Methods\"** functions mentioned at the beginning of this notebook, can generate the required parameters to construct a dataset. For example, to get full name, we call `get_full_name()` function."
      ],
      "metadata": {
        "id": "rejBhshBbhx8"
      }
    },
    {
      "cell_type": "code",
      "source": [
        "name = r.get_full_name()"
      ],
      "metadata": {
        "id": "k7lbgOsRbeEA"
      },
      "execution_count": 20,
      "outputs": []
    },
    {
      "cell_type": "code",
      "source": [
        "for user in some_list:\n",
        "    print (user.get_full_name(),\" \",user.get_email())"
      ],
      "metadata": {
        "colab": {
          "base_uri": "https://localhost:8080/"
        },
        "id": "w3atlLkxblvp",
        "outputId": "2f603c84-eb86-428a-bdba-e40622421ed0"
      },
      "execution_count": 21,
      "outputs": [
        {
          "output_type": "stream",
          "name": "stdout",
          "text": [
            "Thea Schroer   thea.schroer@example.com\n",
            "Elyse Bisseling   elyse.bisseling@example.com\n",
            "Ornella Lefevre   ornella.lefevre@example.com\n",
            "Elenara Rocha   elenara.rocha@example.com\n",
            "Ivan Bærheim   ivan.baerheim@example.com\n",
            "سارا نكو نظر   sr.nkwnzr@example.com\n",
            "آرش سهيلي راد   arsh.shylyrd@example.com\n",
            "Marie Hart   marie.hart@example.com\n",
            "Chris Crawford   chris.crawford@example.com\n",
            "Samuel Roy   samuel.roy@example.com\n"
          ]
        }
      ]
    },
    {
      "cell_type": "code",
      "source": [
        "#Voy a obtener la foto de cinco usuarios aleatorios\n",
        "for user in some_list:\n",
        "    print (user.get_picture())"
      ],
      "metadata": {
        "colab": {
          "base_uri": "https://localhost:8080/"
        },
        "id": "lhBrzH6VbnG5",
        "outputId": "58fa83ec-2d93-46f2-f3fe-5008996d4756"
      },
      "execution_count": 22,
      "outputs": [
        {
          "output_type": "stream",
          "name": "stdout",
          "text": [
            "https://randomuser.me/api/portraits/women/23.jpg\n",
            "https://randomuser.me/api/portraits/women/76.jpg\n",
            "https://randomuser.me/api/portraits/women/60.jpg\n",
            "https://randomuser.me/api/portraits/women/57.jpg\n",
            "https://randomuser.me/api/portraits/men/7.jpg\n",
            "https://randomuser.me/api/portraits/women/45.jpg\n",
            "https://randomuser.me/api/portraits/men/13.jpg\n",
            "https://randomuser.me/api/portraits/women/10.jpg\n",
            "https://randomuser.me/api/portraits/men/37.jpg\n",
            "https://randomuser.me/api/portraits/men/80.jpg\n"
          ]
        }
      ]
    },
    {
      "cell_type": "code",
      "source": [
        "#To generate a table with information about the users, we can write a function containing all desirable parameters. For example, name, gender, city, etc. The parameters will depend on the requirements of the test to be performed. We call the Get Methods, listed at the beginning of this notebook. Then, we return pandas dataframe with the users.\n",
        "\n",
        "def get_users():\n",
        "    users =[]\n",
        "     \n",
        "    for user in RandomUser.generate_users(10):\n",
        "        users.append({\"Name\":user.get_full_name(),\"Gender\":user.get_gender(),\"City\":user.get_city(),\"State\":user.get_state(),\"Email\":user.get_email(), \"DOB\":user.get_dob(),\"Picture\":user.get_picture()})\n",
        "      \n",
        "    return pd.DataFrame(users)     "
      ],
      "metadata": {
        "id": "v-9ri5YYbzng"
      },
      "execution_count": 24,
      "outputs": []
    },
    {
      "cell_type": "code",
      "source": [
        "get_users()"
      ],
      "metadata": {
        "colab": {
          "base_uri": "https://localhost:8080/",
          "height": 363
        },
        "id": "NntJiX4Sb6uo",
        "outputId": "caad3fa7-0383-4785-9a56-847de4972a56"
      },
      "execution_count": 25,
      "outputs": [
        {
          "output_type": "execute_result",
          "data": {
            "text/plain": [
              "               Name  Gender             City               State  \\\n",
              "0       Molly James  female        Cambridge  Greater Manchester   \n",
              "1   Marlene Griebel  female  Nebra (Unstrut)   Baden-Württemberg   \n",
              "2  Dioclécia Mendes  female         Paulista             Paraíba   \n",
              "3       Vera Torres  female           Edison          Washington   \n",
              "4     Marco Walther    male    Aschaffenburg              Berlin   \n",
              "5    Peppi Hanninen  female       Lumparland             Uusimaa   \n",
              "6      Same Elliott    male           Frisco      South Carolina   \n",
              "7          Ron Rice    male         Savannah            Michigan   \n",
              "8      Necati Özbey    male           Elazığ           Çanakkale   \n",
              "9       Sally Meyer  female           Albany            Victoria   \n",
              "\n",
              "                          Email                       DOB  \\\n",
              "0       molly.james@example.com  1951-09-29T22:59:40.420Z   \n",
              "1   marlene.griebel@example.com  1951-12-02T18:52:57.562Z   \n",
              "2  dioclecia.mendes@example.com  1967-12-22T10:05:34.932Z   \n",
              "3       vera.torres@example.com  1989-05-20T03:10:13.380Z   \n",
              "4     marco.walther@example.com  1953-05-26T10:03:25.987Z   \n",
              "5    peppi.hanninen@example.com  1974-09-13T15:39:30.614Z   \n",
              "6      same.elliott@example.com  1976-08-04T15:22:54.457Z   \n",
              "7          ron.rice@example.com  1959-08-03T14:51:18.533Z   \n",
              "8      necati.ozbey@example.com  1995-06-05T03:27:28.672Z   \n",
              "9       sally.meyer@example.com  1950-06-20T19:21:42.742Z   \n",
              "\n",
              "                                            Picture  \n",
              "0  https://randomuser.me/api/portraits/women/31.jpg  \n",
              "1  https://randomuser.me/api/portraits/women/21.jpg  \n",
              "2  https://randomuser.me/api/portraits/women/34.jpg  \n",
              "3  https://randomuser.me/api/portraits/women/19.jpg  \n",
              "4    https://randomuser.me/api/portraits/men/88.jpg  \n",
              "5  https://randomuser.me/api/portraits/women/40.jpg  \n",
              "6    https://randomuser.me/api/portraits/men/37.jpg  \n",
              "7    https://randomuser.me/api/portraits/men/31.jpg  \n",
              "8    https://randomuser.me/api/portraits/men/36.jpg  \n",
              "9  https://randomuser.me/api/portraits/women/88.jpg  "
            ],
            "text/html": [
              "\n",
              "  <div id=\"df-9faedbb8-b56c-4e25-ac06-33c646a31f5e\">\n",
              "    <div class=\"colab-df-container\">\n",
              "      <div>\n",
              "<style scoped>\n",
              "    .dataframe tbody tr th:only-of-type {\n",
              "        vertical-align: middle;\n",
              "    }\n",
              "\n",
              "    .dataframe tbody tr th {\n",
              "        vertical-align: top;\n",
              "    }\n",
              "\n",
              "    .dataframe thead th {\n",
              "        text-align: right;\n",
              "    }\n",
              "</style>\n",
              "<table border=\"1\" class=\"dataframe\">\n",
              "  <thead>\n",
              "    <tr style=\"text-align: right;\">\n",
              "      <th></th>\n",
              "      <th>Name</th>\n",
              "      <th>Gender</th>\n",
              "      <th>City</th>\n",
              "      <th>State</th>\n",
              "      <th>Email</th>\n",
              "      <th>DOB</th>\n",
              "      <th>Picture</th>\n",
              "    </tr>\n",
              "  </thead>\n",
              "  <tbody>\n",
              "    <tr>\n",
              "      <th>0</th>\n",
              "      <td>Molly James</td>\n",
              "      <td>female</td>\n",
              "      <td>Cambridge</td>\n",
              "      <td>Greater Manchester</td>\n",
              "      <td>molly.james@example.com</td>\n",
              "      <td>1951-09-29T22:59:40.420Z</td>\n",
              "      <td>https://randomuser.me/api/portraits/women/31.jpg</td>\n",
              "    </tr>\n",
              "    <tr>\n",
              "      <th>1</th>\n",
              "      <td>Marlene Griebel</td>\n",
              "      <td>female</td>\n",
              "      <td>Nebra (Unstrut)</td>\n",
              "      <td>Baden-Württemberg</td>\n",
              "      <td>marlene.griebel@example.com</td>\n",
              "      <td>1951-12-02T18:52:57.562Z</td>\n",
              "      <td>https://randomuser.me/api/portraits/women/21.jpg</td>\n",
              "    </tr>\n",
              "    <tr>\n",
              "      <th>2</th>\n",
              "      <td>Dioclécia Mendes</td>\n",
              "      <td>female</td>\n",
              "      <td>Paulista</td>\n",
              "      <td>Paraíba</td>\n",
              "      <td>dioclecia.mendes@example.com</td>\n",
              "      <td>1967-12-22T10:05:34.932Z</td>\n",
              "      <td>https://randomuser.me/api/portraits/women/34.jpg</td>\n",
              "    </tr>\n",
              "    <tr>\n",
              "      <th>3</th>\n",
              "      <td>Vera Torres</td>\n",
              "      <td>female</td>\n",
              "      <td>Edison</td>\n",
              "      <td>Washington</td>\n",
              "      <td>vera.torres@example.com</td>\n",
              "      <td>1989-05-20T03:10:13.380Z</td>\n",
              "      <td>https://randomuser.me/api/portraits/women/19.jpg</td>\n",
              "    </tr>\n",
              "    <tr>\n",
              "      <th>4</th>\n",
              "      <td>Marco Walther</td>\n",
              "      <td>male</td>\n",
              "      <td>Aschaffenburg</td>\n",
              "      <td>Berlin</td>\n",
              "      <td>marco.walther@example.com</td>\n",
              "      <td>1953-05-26T10:03:25.987Z</td>\n",
              "      <td>https://randomuser.me/api/portraits/men/88.jpg</td>\n",
              "    </tr>\n",
              "    <tr>\n",
              "      <th>5</th>\n",
              "      <td>Peppi Hanninen</td>\n",
              "      <td>female</td>\n",
              "      <td>Lumparland</td>\n",
              "      <td>Uusimaa</td>\n",
              "      <td>peppi.hanninen@example.com</td>\n",
              "      <td>1974-09-13T15:39:30.614Z</td>\n",
              "      <td>https://randomuser.me/api/portraits/women/40.jpg</td>\n",
              "    </tr>\n",
              "    <tr>\n",
              "      <th>6</th>\n",
              "      <td>Same Elliott</td>\n",
              "      <td>male</td>\n",
              "      <td>Frisco</td>\n",
              "      <td>South Carolina</td>\n",
              "      <td>same.elliott@example.com</td>\n",
              "      <td>1976-08-04T15:22:54.457Z</td>\n",
              "      <td>https://randomuser.me/api/portraits/men/37.jpg</td>\n",
              "    </tr>\n",
              "    <tr>\n",
              "      <th>7</th>\n",
              "      <td>Ron Rice</td>\n",
              "      <td>male</td>\n",
              "      <td>Savannah</td>\n",
              "      <td>Michigan</td>\n",
              "      <td>ron.rice@example.com</td>\n",
              "      <td>1959-08-03T14:51:18.533Z</td>\n",
              "      <td>https://randomuser.me/api/portraits/men/31.jpg</td>\n",
              "    </tr>\n",
              "    <tr>\n",
              "      <th>8</th>\n",
              "      <td>Necati Özbey</td>\n",
              "      <td>male</td>\n",
              "      <td>Elazığ</td>\n",
              "      <td>Çanakkale</td>\n",
              "      <td>necati.ozbey@example.com</td>\n",
              "      <td>1995-06-05T03:27:28.672Z</td>\n",
              "      <td>https://randomuser.me/api/portraits/men/36.jpg</td>\n",
              "    </tr>\n",
              "    <tr>\n",
              "      <th>9</th>\n",
              "      <td>Sally Meyer</td>\n",
              "      <td>female</td>\n",
              "      <td>Albany</td>\n",
              "      <td>Victoria</td>\n",
              "      <td>sally.meyer@example.com</td>\n",
              "      <td>1950-06-20T19:21:42.742Z</td>\n",
              "      <td>https://randomuser.me/api/portraits/women/88.jpg</td>\n",
              "    </tr>\n",
              "  </tbody>\n",
              "</table>\n",
              "</div>\n",
              "      <button class=\"colab-df-convert\" onclick=\"convertToInteractive('df-9faedbb8-b56c-4e25-ac06-33c646a31f5e')\"\n",
              "              title=\"Convert this dataframe to an interactive table.\"\n",
              "              style=\"display:none;\">\n",
              "        \n",
              "  <svg xmlns=\"http://www.w3.org/2000/svg\" height=\"24px\"viewBox=\"0 0 24 24\"\n",
              "       width=\"24px\">\n",
              "    <path d=\"M0 0h24v24H0V0z\" fill=\"none\"/>\n",
              "    <path d=\"M18.56 5.44l.94 2.06.94-2.06 2.06-.94-2.06-.94-.94-2.06-.94 2.06-2.06.94zm-11 1L8.5 8.5l.94-2.06 2.06-.94-2.06-.94L8.5 2.5l-.94 2.06-2.06.94zm10 10l.94 2.06.94-2.06 2.06-.94-2.06-.94-.94-2.06-.94 2.06-2.06.94z\"/><path d=\"M17.41 7.96l-1.37-1.37c-.4-.4-.92-.59-1.43-.59-.52 0-1.04.2-1.43.59L10.3 9.45l-7.72 7.72c-.78.78-.78 2.05 0 2.83L4 21.41c.39.39.9.59 1.41.59.51 0 1.02-.2 1.41-.59l7.78-7.78 2.81-2.81c.8-.78.8-2.07 0-2.86zM5.41 20L4 18.59l7.72-7.72 1.47 1.35L5.41 20z\"/>\n",
              "  </svg>\n",
              "      </button>\n",
              "      \n",
              "  <style>\n",
              "    .colab-df-container {\n",
              "      display:flex;\n",
              "      flex-wrap:wrap;\n",
              "      gap: 12px;\n",
              "    }\n",
              "\n",
              "    .colab-df-convert {\n",
              "      background-color: #E8F0FE;\n",
              "      border: none;\n",
              "      border-radius: 50%;\n",
              "      cursor: pointer;\n",
              "      display: none;\n",
              "      fill: #1967D2;\n",
              "      height: 32px;\n",
              "      padding: 0 0 0 0;\n",
              "      width: 32px;\n",
              "    }\n",
              "\n",
              "    .colab-df-convert:hover {\n",
              "      background-color: #E2EBFA;\n",
              "      box-shadow: 0px 1px 2px rgba(60, 64, 67, 0.3), 0px 1px 3px 1px rgba(60, 64, 67, 0.15);\n",
              "      fill: #174EA6;\n",
              "    }\n",
              "\n",
              "    [theme=dark] .colab-df-convert {\n",
              "      background-color: #3B4455;\n",
              "      fill: #D2E3FC;\n",
              "    }\n",
              "\n",
              "    [theme=dark] .colab-df-convert:hover {\n",
              "      background-color: #434B5C;\n",
              "      box-shadow: 0px 1px 3px 1px rgba(0, 0, 0, 0.15);\n",
              "      filter: drop-shadow(0px 1px 2px rgba(0, 0, 0, 0.3));\n",
              "      fill: #FFFFFF;\n",
              "    }\n",
              "  </style>\n",
              "\n",
              "      <script>\n",
              "        const buttonEl =\n",
              "          document.querySelector('#df-9faedbb8-b56c-4e25-ac06-33c646a31f5e button.colab-df-convert');\n",
              "        buttonEl.style.display =\n",
              "          google.colab.kernel.accessAllowed ? 'block' : 'none';\n",
              "\n",
              "        async function convertToInteractive(key) {\n",
              "          const element = document.querySelector('#df-9faedbb8-b56c-4e25-ac06-33c646a31f5e');\n",
              "          const dataTable =\n",
              "            await google.colab.kernel.invokeFunction('convertToInteractive',\n",
              "                                                     [key], {});\n",
              "          if (!dataTable) return;\n",
              "\n",
              "          const docLinkHtml = 'Like what you see? Visit the ' +\n",
              "            '<a target=\"_blank\" href=https://colab.research.google.com/notebooks/data_table.ipynb>data table notebook</a>'\n",
              "            + ' to learn more about interactive tables.';\n",
              "          element.innerHTML = '';\n",
              "          dataTable['output_type'] = 'display_data';\n",
              "          await google.colab.output.renderOutput(dataTable, element);\n",
              "          const docLink = document.createElement('div');\n",
              "          docLink.innerHTML = docLinkHtml;\n",
              "          element.appendChild(docLink);\n",
              "        }\n",
              "      </script>\n",
              "    </div>\n",
              "  </div>\n",
              "  "
            ]
          },
          "metadata": {},
          "execution_count": 25
        }
      ]
    },
    {
      "cell_type": "code",
      "source": [
        "df1 = pd.DataFrame(get_users())  "
      ],
      "metadata": {
        "id": "lM5UYGH5b_Rg"
      },
      "execution_count": 26,
      "outputs": []
    }
  ]
}