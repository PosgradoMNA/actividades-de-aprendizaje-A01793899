{
  "cells": [
    {
      "cell_type": "code",
      "execution_count": 2,
      "metadata": {
        "id": "jjDZHiesYmNn"
      },
      "outputs": [],
      "source": [
        "import numpy as np\n",
        "import pandas as pd\n",
        "import matplotlib.pyplot as plt\n",
        "import seaborn as sns"
      ]
    },
    {
      "cell_type": "markdown",
      "metadata": {
        "id": "f7-ip0_3bqP2"
      },
      "source": [
        "###**1. Obtener y descargar los datos**"
      ]
    },
    {
      "cell_type": "code",
      "execution_count": 3,
      "metadata": {
        "id": "MTvNnuvGY9eP"
      },
      "outputs": [],
      "source": [
        "ruta = (\"https://raw.githubusercontent.com/PosgradoMNA/Actividades_Aprendizaje-/main/default%20of%20credit%20card%20clients.csv\")"
      ]
    },
    {
      "cell_type": "code",
      "execution_count": 4,
      "metadata": {
        "id": "bgx0Pdx0Zwe6"
      },
      "outputs": [],
      "source": [
        "df = pd.read_csv(ruta)"
      ]
    },
    {
      "cell_type": "markdown",
      "metadata": {
        "id": "qJynweGlbyL0"
      },
      "source": [
        "###**2. Obtener información del dataframe**\n",
        "Usar las funciones shape, columns, head(), dtypes, info(), isna()"
      ]
    },
    {
      "cell_type": "code",
      "execution_count": 5,
      "metadata": {
        "colab": {
          "base_uri": "https://localhost:8080/"
        },
        "id": "TOlIfD95cKNW",
        "outputId": "fd407f27-4a3f-4b2e-d28a-d1f5ce4d3461"
      },
      "outputs": [
        {
          "output_type": "execute_result",
          "data": {
            "text/plain": [
              "(30000, 25)"
            ]
          },
          "metadata": {},
          "execution_count": 5
        }
      ],
      "source": [
        "#Voy a usar ahora la función shape para obtener información del tamaño del dataframe. Es un arreglo de 30000 filas y 25 columnas.\n",
        "\n",
        "df.shape"
      ]
    },
    {
      "cell_type": "code",
      "execution_count": 6,
      "metadata": {
        "colab": {
          "base_uri": "https://localhost:8080/"
        },
        "id": "vUyG_gxNcJ42",
        "outputId": "4c8afc15-ee14-4614-fcff-357ddc89e9c2"
      },
      "outputs": [
        {
          "output_type": "execute_result",
          "data": {
            "text/plain": [
              "Index(['ID', 'X1', 'X2', 'X3', 'X4', 'X5', 'X6', 'X7', 'X8', 'X9', 'X10',\n",
              "       'X11', 'X12', 'X13', 'X14', 'X15', 'X16', 'X17', 'X18', 'X19', 'X20',\n",
              "       'X21', 'X22', 'X23', 'Y'],\n",
              "      dtype='object')"
            ]
          },
          "metadata": {},
          "execution_count": 6
        }
      ],
      "source": [
        "#Voy a usar ahora la función columns para obtner el nombre de las columnas. Tiene el ID (identificador único de cada fila)\n",
        "#las variables están identificadas desde X1 hasta X23 y la salida Y.\n",
        "\n",
        "df.columns"
      ]
    },
    {
      "cell_type": "code",
      "execution_count": 7,
      "metadata": {
        "colab": {
          "base_uri": "https://localhost:8080/",
          "height": 173
        },
        "id": "GXTEc5rLlaQm",
        "outputId": "4c7f7c79-6903-4755-8b90-5d11f657072c"
      },
      "outputs": [
        {
          "output_type": "execute_result",
          "data": {
            "text/plain": [
              "   ID      X1   X2   X3   X4    X5   X6   X7   X8   X9  ...      X15      X16  \\\n",
              "0   1   20000  2.0  2.0  1.0  24.0  2.0  2.0 -1.0 -1.0  ...      0.0      0.0   \n",
              "1   2  120000  2.0  2.0  2.0  26.0 -1.0  2.0  0.0  0.0  ...   3272.0   3455.0   \n",
              "2   3   90000  2.0  2.0  2.0  34.0  0.0  0.0  0.0  0.0  ...  14331.0  14948.0   \n",
              "\n",
              "       X17     X18     X19     X20     X21     X22     X23    Y  \n",
              "0      0.0     0.0   689.0     0.0     0.0     0.0     0.0  1.0  \n",
              "1   3261.0     0.0  1000.0  1000.0  1000.0     0.0  2000.0  1.0  \n",
              "2  15549.0  1518.0  1500.0  1000.0  1000.0  1000.0  5000.0  0.0  \n",
              "\n",
              "[3 rows x 25 columns]"
            ],
            "text/html": [
              "\n",
              "  <div id=\"df-8f08fc64-7a3a-4708-9c4a-5017c95eea3e\">\n",
              "    <div class=\"colab-df-container\">\n",
              "      <div>\n",
              "<style scoped>\n",
              "    .dataframe tbody tr th:only-of-type {\n",
              "        vertical-align: middle;\n",
              "    }\n",
              "\n",
              "    .dataframe tbody tr th {\n",
              "        vertical-align: top;\n",
              "    }\n",
              "\n",
              "    .dataframe thead th {\n",
              "        text-align: right;\n",
              "    }\n",
              "</style>\n",
              "<table border=\"1\" class=\"dataframe\">\n",
              "  <thead>\n",
              "    <tr style=\"text-align: right;\">\n",
              "      <th></th>\n",
              "      <th>ID</th>\n",
              "      <th>X1</th>\n",
              "      <th>X2</th>\n",
              "      <th>X3</th>\n",
              "      <th>X4</th>\n",
              "      <th>X5</th>\n",
              "      <th>X6</th>\n",
              "      <th>X7</th>\n",
              "      <th>X8</th>\n",
              "      <th>X9</th>\n",
              "      <th>...</th>\n",
              "      <th>X15</th>\n",
              "      <th>X16</th>\n",
              "      <th>X17</th>\n",
              "      <th>X18</th>\n",
              "      <th>X19</th>\n",
              "      <th>X20</th>\n",
              "      <th>X21</th>\n",
              "      <th>X22</th>\n",
              "      <th>X23</th>\n",
              "      <th>Y</th>\n",
              "    </tr>\n",
              "  </thead>\n",
              "  <tbody>\n",
              "    <tr>\n",
              "      <th>0</th>\n",
              "      <td>1</td>\n",
              "      <td>20000</td>\n",
              "      <td>2.0</td>\n",
              "      <td>2.0</td>\n",
              "      <td>1.0</td>\n",
              "      <td>24.0</td>\n",
              "      <td>2.0</td>\n",
              "      <td>2.0</td>\n",
              "      <td>-1.0</td>\n",
              "      <td>-1.0</td>\n",
              "      <td>...</td>\n",
              "      <td>0.0</td>\n",
              "      <td>0.0</td>\n",
              "      <td>0.0</td>\n",
              "      <td>0.0</td>\n",
              "      <td>689.0</td>\n",
              "      <td>0.0</td>\n",
              "      <td>0.0</td>\n",
              "      <td>0.0</td>\n",
              "      <td>0.0</td>\n",
              "      <td>1.0</td>\n",
              "    </tr>\n",
              "    <tr>\n",
              "      <th>1</th>\n",
              "      <td>2</td>\n",
              "      <td>120000</td>\n",
              "      <td>2.0</td>\n",
              "      <td>2.0</td>\n",
              "      <td>2.0</td>\n",
              "      <td>26.0</td>\n",
              "      <td>-1.0</td>\n",
              "      <td>2.0</td>\n",
              "      <td>0.0</td>\n",
              "      <td>0.0</td>\n",
              "      <td>...</td>\n",
              "      <td>3272.0</td>\n",
              "      <td>3455.0</td>\n",
              "      <td>3261.0</td>\n",
              "      <td>0.0</td>\n",
              "      <td>1000.0</td>\n",
              "      <td>1000.0</td>\n",
              "      <td>1000.0</td>\n",
              "      <td>0.0</td>\n",
              "      <td>2000.0</td>\n",
              "      <td>1.0</td>\n",
              "    </tr>\n",
              "    <tr>\n",
              "      <th>2</th>\n",
              "      <td>3</td>\n",
              "      <td>90000</td>\n",
              "      <td>2.0</td>\n",
              "      <td>2.0</td>\n",
              "      <td>2.0</td>\n",
              "      <td>34.0</td>\n",
              "      <td>0.0</td>\n",
              "      <td>0.0</td>\n",
              "      <td>0.0</td>\n",
              "      <td>0.0</td>\n",
              "      <td>...</td>\n",
              "      <td>14331.0</td>\n",
              "      <td>14948.0</td>\n",
              "      <td>15549.0</td>\n",
              "      <td>1518.0</td>\n",
              "      <td>1500.0</td>\n",
              "      <td>1000.0</td>\n",
              "      <td>1000.0</td>\n",
              "      <td>1000.0</td>\n",
              "      <td>5000.0</td>\n",
              "      <td>0.0</td>\n",
              "    </tr>\n",
              "  </tbody>\n",
              "</table>\n",
              "<p>3 rows × 25 columns</p>\n",
              "</div>\n",
              "      <button class=\"colab-df-convert\" onclick=\"convertToInteractive('df-8f08fc64-7a3a-4708-9c4a-5017c95eea3e')\"\n",
              "              title=\"Convert this dataframe to an interactive table.\"\n",
              "              style=\"display:none;\">\n",
              "        \n",
              "  <svg xmlns=\"http://www.w3.org/2000/svg\" height=\"24px\"viewBox=\"0 0 24 24\"\n",
              "       width=\"24px\">\n",
              "    <path d=\"M0 0h24v24H0V0z\" fill=\"none\"/>\n",
              "    <path d=\"M18.56 5.44l.94 2.06.94-2.06 2.06-.94-2.06-.94-.94-2.06-.94 2.06-2.06.94zm-11 1L8.5 8.5l.94-2.06 2.06-.94-2.06-.94L8.5 2.5l-.94 2.06-2.06.94zm10 10l.94 2.06.94-2.06 2.06-.94-2.06-.94-.94-2.06-.94 2.06-2.06.94z\"/><path d=\"M17.41 7.96l-1.37-1.37c-.4-.4-.92-.59-1.43-.59-.52 0-1.04.2-1.43.59L10.3 9.45l-7.72 7.72c-.78.78-.78 2.05 0 2.83L4 21.41c.39.39.9.59 1.41.59.51 0 1.02-.2 1.41-.59l7.78-7.78 2.81-2.81c.8-.78.8-2.07 0-2.86zM5.41 20L4 18.59l7.72-7.72 1.47 1.35L5.41 20z\"/>\n",
              "  </svg>\n",
              "      </button>\n",
              "      \n",
              "  <style>\n",
              "    .colab-df-container {\n",
              "      display:flex;\n",
              "      flex-wrap:wrap;\n",
              "      gap: 12px;\n",
              "    }\n",
              "\n",
              "    .colab-df-convert {\n",
              "      background-color: #E8F0FE;\n",
              "      border: none;\n",
              "      border-radius: 50%;\n",
              "      cursor: pointer;\n",
              "      display: none;\n",
              "      fill: #1967D2;\n",
              "      height: 32px;\n",
              "      padding: 0 0 0 0;\n",
              "      width: 32px;\n",
              "    }\n",
              "\n",
              "    .colab-df-convert:hover {\n",
              "      background-color: #E2EBFA;\n",
              "      box-shadow: 0px 1px 2px rgba(60, 64, 67, 0.3), 0px 1px 3px 1px rgba(60, 64, 67, 0.15);\n",
              "      fill: #174EA6;\n",
              "    }\n",
              "\n",
              "    [theme=dark] .colab-df-convert {\n",
              "      background-color: #3B4455;\n",
              "      fill: #D2E3FC;\n",
              "    }\n",
              "\n",
              "    [theme=dark] .colab-df-convert:hover {\n",
              "      background-color: #434B5C;\n",
              "      box-shadow: 0px 1px 3px 1px rgba(0, 0, 0, 0.15);\n",
              "      filter: drop-shadow(0px 1px 2px rgba(0, 0, 0, 0.3));\n",
              "      fill: #FFFFFF;\n",
              "    }\n",
              "  </style>\n",
              "\n",
              "      <script>\n",
              "        const buttonEl =\n",
              "          document.querySelector('#df-8f08fc64-7a3a-4708-9c4a-5017c95eea3e button.colab-df-convert');\n",
              "        buttonEl.style.display =\n",
              "          google.colab.kernel.accessAllowed ? 'block' : 'none';\n",
              "\n",
              "        async function convertToInteractive(key) {\n",
              "          const element = document.querySelector('#df-8f08fc64-7a3a-4708-9c4a-5017c95eea3e');\n",
              "          const dataTable =\n",
              "            await google.colab.kernel.invokeFunction('convertToInteractive',\n",
              "                                                     [key], {});\n",
              "          if (!dataTable) return;\n",
              "\n",
              "          const docLinkHtml = 'Like what you see? Visit the ' +\n",
              "            '<a target=\"_blank\" href=https://colab.research.google.com/notebooks/data_table.ipynb>data table notebook</a>'\n",
              "            + ' to learn more about interactive tables.';\n",
              "          element.innerHTML = '';\n",
              "          dataTable['output_type'] = 'display_data';\n",
              "          await google.colab.output.renderOutput(dataTable, element);\n",
              "          const docLink = document.createElement('div');\n",
              "          docLink.innerHTML = docLinkHtml;\n",
              "          element.appendChild(docLink);\n",
              "        }\n",
              "      </script>\n",
              "    </div>\n",
              "  </div>\n",
              "  "
            ]
          },
          "metadata": {},
          "execution_count": 7
        }
      ],
      "source": [
        "#Voy a traner una muestra del dataframe con head\n",
        "\n",
        "df.head(3)"
      ]
    },
    {
      "cell_type": "code",
      "execution_count": 8,
      "metadata": {
        "colab": {
          "base_uri": "https://localhost:8080/"
        },
        "id": "iCr-I4nUcluk",
        "outputId": "d0c10b66-0888-4aa8-ae57-7bfd28c6dc2e"
      },
      "outputs": [
        {
          "output_type": "execute_result",
          "data": {
            "text/plain": [
              "ID       int64\n",
              "X1       int64\n",
              "X2     float64\n",
              "X3     float64\n",
              "X4     float64\n",
              "X5     float64\n",
              "X6     float64\n",
              "X7     float64\n",
              "X8     float64\n",
              "X9     float64\n",
              "X10    float64\n",
              "X11    float64\n",
              "X12    float64\n",
              "X13    float64\n",
              "X14    float64\n",
              "X15    float64\n",
              "X16    float64\n",
              "X17    float64\n",
              "X18    float64\n",
              "X19    float64\n",
              "X20    float64\n",
              "X21    float64\n",
              "X22    float64\n",
              "X23    float64\n",
              "Y      float64\n",
              "dtype: object"
            ]
          },
          "metadata": {},
          "execution_count": 8
        }
      ],
      "source": [
        "#Voy a obtener ahora la clase de cada una des las variables. Al parecer todas son variables numéricas: enteros o racionales.\n",
        "\n",
        "df.dtypes"
      ]
    },
    {
      "cell_type": "code",
      "execution_count": 9,
      "metadata": {
        "colab": {
          "base_uri": "https://localhost:8080/"
        },
        "id": "6J1Y2l6NeD5d",
        "outputId": "ba342d85-46e7-4904-d269-294cee2b92a9"
      },
      "outputs": [
        {
          "output_type": "stream",
          "name": "stdout",
          "text": [
            "<class 'pandas.core.frame.DataFrame'>\n",
            "RangeIndex: 30000 entries, 0 to 29999\n",
            "Data columns (total 25 columns):\n",
            " #   Column  Non-Null Count  Dtype  \n",
            "---  ------  --------------  -----  \n",
            " 0   ID      30000 non-null  int64  \n",
            " 1   X1      30000 non-null  int64  \n",
            " 2   X2      29999 non-null  float64\n",
            " 3   X3      29998 non-null  float64\n",
            " 4   X4      29998 non-null  float64\n",
            " 5   X5      29995 non-null  float64\n",
            " 6   X6      29997 non-null  float64\n",
            " 7   X7      29995 non-null  float64\n",
            " 8   X8      29993 non-null  float64\n",
            " 9   X9      29991 non-null  float64\n",
            " 10  X10     29984 non-null  float64\n",
            " 11  X11     29986 non-null  float64\n",
            " 12  X12     29989 non-null  float64\n",
            " 13  X13     29989 non-null  float64\n",
            " 14  X14     29987 non-null  float64\n",
            " 15  X15     29985 non-null  float64\n",
            " 16  X16     29983 non-null  float64\n",
            " 17  X17     29990 non-null  float64\n",
            " 18  X18     29992 non-null  float64\n",
            " 19  X19     29991 non-null  float64\n",
            " 20  X20     29992 non-null  float64\n",
            " 21  X21     29989 non-null  float64\n",
            " 22  X22     29989 non-null  float64\n",
            " 23  X23     29995 non-null  float64\n",
            " 24  Y       29997 non-null  float64\n",
            "dtypes: float64(23), int64(2)\n",
            "memory usage: 5.7 MB\n"
          ]
        }
      ],
      "source": [
        "#Con este procedimiento estoy obteniendo información del dataframe: el tipo de datos que contiene cada columna\n",
        "#y la cantidad de valores na en cada columna.\n",
        "df.info()"
      ]
    },
    {
      "cell_type": "code",
      "execution_count": 10,
      "metadata": {
        "colab": {
          "base_uri": "https://localhost:8080/"
        },
        "id": "ULmErMzXedvu",
        "outputId": "35dc3250-f789-4d75-9307-db4423a553d0"
      },
      "outputs": [
        {
          "output_type": "execute_result",
          "data": {
            "text/plain": [
              "ID      0\n",
              "X1      0\n",
              "X2      1\n",
              "X3      2\n",
              "X4      2\n",
              "X5      5\n",
              "X6      3\n",
              "X7      5\n",
              "X8      7\n",
              "X9      9\n",
              "X10    16\n",
              "X11    14\n",
              "X12    11\n",
              "X13    11\n",
              "X14    13\n",
              "X15    15\n",
              "X16    17\n",
              "X17    10\n",
              "X18     8\n",
              "X19     9\n",
              "X20     8\n",
              "X21    11\n",
              "X22    11\n",
              "X23     5\n",
              "Y       3\n",
              "dtype: int64"
            ]
          },
          "metadata": {},
          "execution_count": 10
        }
      ],
      "source": [
        "#Usaré ahora la función isna(). Esta función compara cada uno de los valores del dataframe, pero para obtener el resumen\n",
        "#voy a poner el .sum() para que sume la cantidad de valores verdaderos, es decir, aquellos que tienen valores nulos.\n",
        "\n",
        "df.isna().sum()"
      ]
    },
    {
      "cell_type": "markdown",
      "metadata": {
        "id": "A5oUm0W6fnqx"
      },
      "source": [
        "###**3. Limpieza de los datos**\n",
        "\n",
        "Para la limpieza de los datos voy a usar dos cosas:\n",
        "1. Cuando no tiene los datos de salida, es decir, cuando el valor de salida es NA entonces voy a borrar completamente esa fila. Apenas son tres filas.\n",
        "2. Para los demás casos, voy a usar no la media sino la moda, dado que no sé si los datos se encuentran centrados."
      ]
    },
    {
      "cell_type": "code",
      "execution_count": 11,
      "metadata": {
        "id": "ClfHR790gDzT"
      },
      "outputs": [],
      "source": [
        "#Voy a crear primero un dataframe de copia para hacer el ejercicio de preparación de datos.\n",
        "\n",
        "df_respaldo = df.copy()"
      ]
    },
    {
      "cell_type": "code",
      "execution_count": 12,
      "metadata": {
        "id": "Z8enVxRtgQ2E"
      },
      "outputs": [],
      "source": [
        "#Voy ahora a eliminar NaN de la salida Y\n",
        "df_respaldo.dropna(subset = [\"Y\"], inplace = True)\n",
        "\n",
        "#Voy tambien a reemplazar los valores nulos en las variables desde la X2 a la X23 con la moda de los datos de la columna.\n",
        "\n",
        "columnas = [\"X2\", \"X3\", \"X4\",\"X5\", \"X6\", \"X7\", \"X8\", \"X9\", \n",
        "            \"X10\", \"X11\", \"X12\", \"X13\", \"X14\", \"X15\", \"X16\", \"X17\", \"X18\", \"X19\",  \n",
        "            \"X20\", \"X21\", \"X22\", \"X23\"]\n",
        "\n",
        "\n",
        "for columna in columnas:\n",
        "  #print(columna)\n",
        "  df_respaldo[columna].fillna(df_respaldo[columna].mode()[0], inplace = True)\n"
      ]
    },
    {
      "cell_type": "code",
      "execution_count": 13,
      "metadata": {
        "colab": {
          "base_uri": "https://localhost:8080/"
        },
        "id": "71xcRaUBoOzH",
        "outputId": "bec2aee8-c8f7-45cc-992e-58cfe842f327"
      },
      "outputs": [
        {
          "output_type": "stream",
          "name": "stdout",
          "text": [
            "<class 'pandas.core.frame.DataFrame'>\n",
            "Int64Index: 29997 entries, 0 to 29999\n",
            "Data columns (total 25 columns):\n",
            " #   Column  Non-Null Count  Dtype  \n",
            "---  ------  --------------  -----  \n",
            " 0   ID      29997 non-null  int64  \n",
            " 1   X1      29997 non-null  int64  \n",
            " 2   X2      29997 non-null  float64\n",
            " 3   X3      29997 non-null  float64\n",
            " 4   X4      29997 non-null  float64\n",
            " 5   X5      29997 non-null  float64\n",
            " 6   X6      29997 non-null  float64\n",
            " 7   X7      29997 non-null  float64\n",
            " 8   X8      29997 non-null  float64\n",
            " 9   X9      29997 non-null  float64\n",
            " 10  X10     29997 non-null  float64\n",
            " 11  X11     29997 non-null  float64\n",
            " 12  X12     29997 non-null  float64\n",
            " 13  X13     29997 non-null  float64\n",
            " 14  X14     29997 non-null  float64\n",
            " 15  X15     29997 non-null  float64\n",
            " 16  X16     29997 non-null  float64\n",
            " 17  X17     29997 non-null  float64\n",
            " 18  X18     29997 non-null  float64\n",
            " 19  X19     29997 non-null  float64\n",
            " 20  X20     29997 non-null  float64\n",
            " 21  X21     29997 non-null  float64\n",
            " 22  X22     29997 non-null  float64\n",
            " 23  X23     29997 non-null  float64\n",
            " 24  Y       29997 non-null  float64\n",
            "dtypes: float64(23), int64(2)\n",
            "memory usage: 6.0 MB\n"
          ]
        }
      ],
      "source": [
        "#Voy a verificar ahora los valores nulos al final de la transformación\n",
        "\n",
        "df_respaldo.info()"
      ]
    },
    {
      "cell_type": "code",
      "execution_count": 14,
      "metadata": {
        "colab": {
          "base_uri": "https://localhost:8080/"
        },
        "id": "rhWrqPalp2Ek",
        "outputId": "4ed57931-84e3-4a14-8cf2-a4ab3057f46c"
      },
      "outputs": [
        {
          "output_type": "execute_result",
          "data": {
            "text/plain": [
              "ID     0\n",
              "X1     0\n",
              "X2     0\n",
              "X3     0\n",
              "X4     0\n",
              "X5     0\n",
              "X6     0\n",
              "X7     0\n",
              "X8     0\n",
              "X9     0\n",
              "X10    0\n",
              "X11    0\n",
              "X12    0\n",
              "X13    0\n",
              "X14    0\n",
              "X15    0\n",
              "X16    0\n",
              "X17    0\n",
              "X18    0\n",
              "X19    0\n",
              "X20    0\n",
              "X21    0\n",
              "X22    0\n",
              "X23    0\n",
              "Y      0\n",
              "dtype: int64"
            ]
          },
          "metadata": {},
          "execution_count": 14
        }
      ],
      "source": [
        "#Voy a aplicar ahora las mismas transformaciones al df original.\n",
        "\n",
        "#Voy ahora a eliminar NaN de la salida Y\n",
        "df.dropna(subset = [\"Y\"], inplace = True)\n",
        "\n",
        "#Voy tambien a reemplazar los valores nulos en las variables desde la X2 a la X23 con la moda de los datos de la columna.\n",
        "\n",
        "columnas = [\"X2\", \"X3\", \"X4\",\"X5\", \"X6\", \"X7\", \"X8\", \"X9\", \n",
        "            \"X10\", \"X11\", \"X12\", \"X13\", \"X14\", \"X15\", \"X16\", \"X17\", \"X18\", \"X19\",  \n",
        "            \"X20\", \"X21\", \"X22\", \"X23\"]\n",
        "\n",
        "\n",
        "for columna in columnas:\n",
        "  #print(columna)\n",
        "  df[columna].fillna(df[columna].mode()[0], inplace = True)\n",
        "\n",
        "#Con esta última línea calculo la cantidad de valores nulos que quedaon en el arreglo.\n",
        "df.isna().sum()\n"
      ]
    },
    {
      "cell_type": "markdown",
      "metadata": {
        "id": "l31F1931rSiK"
      },
      "source": [
        "###**4. Estadística descriptiva del arreglo**###"
      ]
    },
    {
      "cell_type": "code",
      "execution_count": 15,
      "metadata": {
        "colab": {
          "base_uri": "https://localhost:8080/",
          "height": 394
        },
        "id": "Ccv11A7BrZgS",
        "outputId": "b2b64a2d-44ff-45c2-de0e-7fe94b05fc36"
      },
      "outputs": [
        {
          "output_type": "execute_result",
          "data": {
            "text/plain": [
              "                 ID              X1            X2            X3            X4  \\\n",
              "count  29997.000000    29997.000000  29997.000000  29997.000000  29997.000000   \n",
              "mean   14999.803847   167496.072274      1.603794      1.853085      1.551955   \n",
              "std     8659.837419   129748.803871      0.489116      0.790317      0.521963   \n",
              "min        1.000000    10000.000000      1.000000      0.000000      0.000000   \n",
              "25%     7501.000000    50000.000000      1.000000      1.000000      1.000000   \n",
              "50%    15000.000000   140000.000000      2.000000      2.000000      2.000000   \n",
              "75%    22499.000000   240000.000000      2.000000      2.000000      2.000000   \n",
              "max    30000.000000  1000000.000000      2.000000      6.000000      3.000000   \n",
              "\n",
              "                 X5            X6            X7            X8            X9  \\\n",
              "count  29997.000000  29997.000000  29997.000000  29997.000000  29997.000000   \n",
              "mean      35.482782     -0.016768     -0.133813     -0.166517     -0.220822   \n",
              "std        9.217726      1.123708      1.197088      1.195840      1.168970   \n",
              "min       21.000000     -2.000000     -2.000000     -2.000000     -2.000000   \n",
              "25%       28.000000     -1.000000     -1.000000     -1.000000     -1.000000   \n",
              "50%       34.000000      0.000000      0.000000      0.000000      0.000000   \n",
              "75%       41.000000      0.000000      0.000000      0.000000      0.000000   \n",
              "max       79.000000      8.000000      8.000000      8.000000      8.000000   \n",
              "\n",
              "       ...            X15            X16            X17            X18  \\\n",
              "count  ...   29997.000000   29997.000000   29997.000000   29997.000000   \n",
              "mean   ...   43258.340334   40305.674001   38872.062573    5662.001967   \n",
              "std    ...   64338.448338   60802.030849   59557.323940   16562.945844   \n",
              "min    ... -170000.000000  -81334.000000 -339603.000000       0.000000   \n",
              "25%    ...    2316.000000    1759.000000    1255.000000    1000.000000   \n",
              "50%    ...   19037.000000   18094.000000   17068.000000    2100.000000   \n",
              "75%    ...   54515.000000   50180.000000   49205.000000    5006.000000   \n",
              "max    ...  891586.000000  927171.000000  961664.000000  873552.000000   \n",
              "\n",
              "                X19            X20           X21            X22  \\\n",
              "count  2.999700e+04   29997.000000   29997.00000   29997.000000   \n",
              "mean   5.921304e+03    5224.752375    4825.96513    4799.017002   \n",
              "std    2.304202e+04   17607.084239   15666.86068   15279.005275   \n",
              "min    0.000000e+00       0.000000       0.00000       0.000000   \n",
              "25%    8.320000e+02     390.000000     294.00000     250.000000   \n",
              "50%    2.009000e+03    1800.000000    1500.00000    1500.000000   \n",
              "75%    5.000000e+03    4505.000000    4013.00000    4031.000000   \n",
              "max    1.684259e+06  896040.000000  621000.00000  426529.000000   \n",
              "\n",
              "                 X23             Y  \n",
              "count   29997.000000  29997.000000  \n",
              "mean     5215.912191      0.221189  \n",
              "std     17778.306661      0.415054  \n",
              "min         0.000000      0.000000  \n",
              "25%       117.000000      0.000000  \n",
              "50%      1500.000000      0.000000  \n",
              "75%      4000.000000      0.000000  \n",
              "max    528666.000000      1.000000  \n",
              "\n",
              "[8 rows x 25 columns]"
            ],
            "text/html": [
              "\n",
              "  <div id=\"df-d1fb4698-7f68-4634-976f-a8976c141fcf\">\n",
              "    <div class=\"colab-df-container\">\n",
              "      <div>\n",
              "<style scoped>\n",
              "    .dataframe tbody tr th:only-of-type {\n",
              "        vertical-align: middle;\n",
              "    }\n",
              "\n",
              "    .dataframe tbody tr th {\n",
              "        vertical-align: top;\n",
              "    }\n",
              "\n",
              "    .dataframe thead th {\n",
              "        text-align: right;\n",
              "    }\n",
              "</style>\n",
              "<table border=\"1\" class=\"dataframe\">\n",
              "  <thead>\n",
              "    <tr style=\"text-align: right;\">\n",
              "      <th></th>\n",
              "      <th>ID</th>\n",
              "      <th>X1</th>\n",
              "      <th>X2</th>\n",
              "      <th>X3</th>\n",
              "      <th>X4</th>\n",
              "      <th>X5</th>\n",
              "      <th>X6</th>\n",
              "      <th>X7</th>\n",
              "      <th>X8</th>\n",
              "      <th>X9</th>\n",
              "      <th>...</th>\n",
              "      <th>X15</th>\n",
              "      <th>X16</th>\n",
              "      <th>X17</th>\n",
              "      <th>X18</th>\n",
              "      <th>X19</th>\n",
              "      <th>X20</th>\n",
              "      <th>X21</th>\n",
              "      <th>X22</th>\n",
              "      <th>X23</th>\n",
              "      <th>Y</th>\n",
              "    </tr>\n",
              "  </thead>\n",
              "  <tbody>\n",
              "    <tr>\n",
              "      <th>count</th>\n",
              "      <td>29997.000000</td>\n",
              "      <td>29997.000000</td>\n",
              "      <td>29997.000000</td>\n",
              "      <td>29997.000000</td>\n",
              "      <td>29997.000000</td>\n",
              "      <td>29997.000000</td>\n",
              "      <td>29997.000000</td>\n",
              "      <td>29997.000000</td>\n",
              "      <td>29997.000000</td>\n",
              "      <td>29997.000000</td>\n",
              "      <td>...</td>\n",
              "      <td>29997.000000</td>\n",
              "      <td>29997.000000</td>\n",
              "      <td>29997.000000</td>\n",
              "      <td>29997.000000</td>\n",
              "      <td>2.999700e+04</td>\n",
              "      <td>29997.000000</td>\n",
              "      <td>29997.00000</td>\n",
              "      <td>29997.000000</td>\n",
              "      <td>29997.000000</td>\n",
              "      <td>29997.000000</td>\n",
              "    </tr>\n",
              "    <tr>\n",
              "      <th>mean</th>\n",
              "      <td>14999.803847</td>\n",
              "      <td>167496.072274</td>\n",
              "      <td>1.603794</td>\n",
              "      <td>1.853085</td>\n",
              "      <td>1.551955</td>\n",
              "      <td>35.482782</td>\n",
              "      <td>-0.016768</td>\n",
              "      <td>-0.133813</td>\n",
              "      <td>-0.166517</td>\n",
              "      <td>-0.220822</td>\n",
              "      <td>...</td>\n",
              "      <td>43258.340334</td>\n",
              "      <td>40305.674001</td>\n",
              "      <td>38872.062573</td>\n",
              "      <td>5662.001967</td>\n",
              "      <td>5.921304e+03</td>\n",
              "      <td>5224.752375</td>\n",
              "      <td>4825.96513</td>\n",
              "      <td>4799.017002</td>\n",
              "      <td>5215.912191</td>\n",
              "      <td>0.221189</td>\n",
              "    </tr>\n",
              "    <tr>\n",
              "      <th>std</th>\n",
              "      <td>8659.837419</td>\n",
              "      <td>129748.803871</td>\n",
              "      <td>0.489116</td>\n",
              "      <td>0.790317</td>\n",
              "      <td>0.521963</td>\n",
              "      <td>9.217726</td>\n",
              "      <td>1.123708</td>\n",
              "      <td>1.197088</td>\n",
              "      <td>1.195840</td>\n",
              "      <td>1.168970</td>\n",
              "      <td>...</td>\n",
              "      <td>64338.448338</td>\n",
              "      <td>60802.030849</td>\n",
              "      <td>59557.323940</td>\n",
              "      <td>16562.945844</td>\n",
              "      <td>2.304202e+04</td>\n",
              "      <td>17607.084239</td>\n",
              "      <td>15666.86068</td>\n",
              "      <td>15279.005275</td>\n",
              "      <td>17778.306661</td>\n",
              "      <td>0.415054</td>\n",
              "    </tr>\n",
              "    <tr>\n",
              "      <th>min</th>\n",
              "      <td>1.000000</td>\n",
              "      <td>10000.000000</td>\n",
              "      <td>1.000000</td>\n",
              "      <td>0.000000</td>\n",
              "      <td>0.000000</td>\n",
              "      <td>21.000000</td>\n",
              "      <td>-2.000000</td>\n",
              "      <td>-2.000000</td>\n",
              "      <td>-2.000000</td>\n",
              "      <td>-2.000000</td>\n",
              "      <td>...</td>\n",
              "      <td>-170000.000000</td>\n",
              "      <td>-81334.000000</td>\n",
              "      <td>-339603.000000</td>\n",
              "      <td>0.000000</td>\n",
              "      <td>0.000000e+00</td>\n",
              "      <td>0.000000</td>\n",
              "      <td>0.00000</td>\n",
              "      <td>0.000000</td>\n",
              "      <td>0.000000</td>\n",
              "      <td>0.000000</td>\n",
              "    </tr>\n",
              "    <tr>\n",
              "      <th>25%</th>\n",
              "      <td>7501.000000</td>\n",
              "      <td>50000.000000</td>\n",
              "      <td>1.000000</td>\n",
              "      <td>1.000000</td>\n",
              "      <td>1.000000</td>\n",
              "      <td>28.000000</td>\n",
              "      <td>-1.000000</td>\n",
              "      <td>-1.000000</td>\n",
              "      <td>-1.000000</td>\n",
              "      <td>-1.000000</td>\n",
              "      <td>...</td>\n",
              "      <td>2316.000000</td>\n",
              "      <td>1759.000000</td>\n",
              "      <td>1255.000000</td>\n",
              "      <td>1000.000000</td>\n",
              "      <td>8.320000e+02</td>\n",
              "      <td>390.000000</td>\n",
              "      <td>294.00000</td>\n",
              "      <td>250.000000</td>\n",
              "      <td>117.000000</td>\n",
              "      <td>0.000000</td>\n",
              "    </tr>\n",
              "    <tr>\n",
              "      <th>50%</th>\n",
              "      <td>15000.000000</td>\n",
              "      <td>140000.000000</td>\n",
              "      <td>2.000000</td>\n",
              "      <td>2.000000</td>\n",
              "      <td>2.000000</td>\n",
              "      <td>34.000000</td>\n",
              "      <td>0.000000</td>\n",
              "      <td>0.000000</td>\n",
              "      <td>0.000000</td>\n",
              "      <td>0.000000</td>\n",
              "      <td>...</td>\n",
              "      <td>19037.000000</td>\n",
              "      <td>18094.000000</td>\n",
              "      <td>17068.000000</td>\n",
              "      <td>2100.000000</td>\n",
              "      <td>2.009000e+03</td>\n",
              "      <td>1800.000000</td>\n",
              "      <td>1500.00000</td>\n",
              "      <td>1500.000000</td>\n",
              "      <td>1500.000000</td>\n",
              "      <td>0.000000</td>\n",
              "    </tr>\n",
              "    <tr>\n",
              "      <th>75%</th>\n",
              "      <td>22499.000000</td>\n",
              "      <td>240000.000000</td>\n",
              "      <td>2.000000</td>\n",
              "      <td>2.000000</td>\n",
              "      <td>2.000000</td>\n",
              "      <td>41.000000</td>\n",
              "      <td>0.000000</td>\n",
              "      <td>0.000000</td>\n",
              "      <td>0.000000</td>\n",
              "      <td>0.000000</td>\n",
              "      <td>...</td>\n",
              "      <td>54515.000000</td>\n",
              "      <td>50180.000000</td>\n",
              "      <td>49205.000000</td>\n",
              "      <td>5006.000000</td>\n",
              "      <td>5.000000e+03</td>\n",
              "      <td>4505.000000</td>\n",
              "      <td>4013.00000</td>\n",
              "      <td>4031.000000</td>\n",
              "      <td>4000.000000</td>\n",
              "      <td>0.000000</td>\n",
              "    </tr>\n",
              "    <tr>\n",
              "      <th>max</th>\n",
              "      <td>30000.000000</td>\n",
              "      <td>1000000.000000</td>\n",
              "      <td>2.000000</td>\n",
              "      <td>6.000000</td>\n",
              "      <td>3.000000</td>\n",
              "      <td>79.000000</td>\n",
              "      <td>8.000000</td>\n",
              "      <td>8.000000</td>\n",
              "      <td>8.000000</td>\n",
              "      <td>8.000000</td>\n",
              "      <td>...</td>\n",
              "      <td>891586.000000</td>\n",
              "      <td>927171.000000</td>\n",
              "      <td>961664.000000</td>\n",
              "      <td>873552.000000</td>\n",
              "      <td>1.684259e+06</td>\n",
              "      <td>896040.000000</td>\n",
              "      <td>621000.00000</td>\n",
              "      <td>426529.000000</td>\n",
              "      <td>528666.000000</td>\n",
              "      <td>1.000000</td>\n",
              "    </tr>\n",
              "  </tbody>\n",
              "</table>\n",
              "<p>8 rows × 25 columns</p>\n",
              "</div>\n",
              "      <button class=\"colab-df-convert\" onclick=\"convertToInteractive('df-d1fb4698-7f68-4634-976f-a8976c141fcf')\"\n",
              "              title=\"Convert this dataframe to an interactive table.\"\n",
              "              style=\"display:none;\">\n",
              "        \n",
              "  <svg xmlns=\"http://www.w3.org/2000/svg\" height=\"24px\"viewBox=\"0 0 24 24\"\n",
              "       width=\"24px\">\n",
              "    <path d=\"M0 0h24v24H0V0z\" fill=\"none\"/>\n",
              "    <path d=\"M18.56 5.44l.94 2.06.94-2.06 2.06-.94-2.06-.94-.94-2.06-.94 2.06-2.06.94zm-11 1L8.5 8.5l.94-2.06 2.06-.94-2.06-.94L8.5 2.5l-.94 2.06-2.06.94zm10 10l.94 2.06.94-2.06 2.06-.94-2.06-.94-.94-2.06-.94 2.06-2.06.94z\"/><path d=\"M17.41 7.96l-1.37-1.37c-.4-.4-.92-.59-1.43-.59-.52 0-1.04.2-1.43.59L10.3 9.45l-7.72 7.72c-.78.78-.78 2.05 0 2.83L4 21.41c.39.39.9.59 1.41.59.51 0 1.02-.2 1.41-.59l7.78-7.78 2.81-2.81c.8-.78.8-2.07 0-2.86zM5.41 20L4 18.59l7.72-7.72 1.47 1.35L5.41 20z\"/>\n",
              "  </svg>\n",
              "      </button>\n",
              "      \n",
              "  <style>\n",
              "    .colab-df-container {\n",
              "      display:flex;\n",
              "      flex-wrap:wrap;\n",
              "      gap: 12px;\n",
              "    }\n",
              "\n",
              "    .colab-df-convert {\n",
              "      background-color: #E8F0FE;\n",
              "      border: none;\n",
              "      border-radius: 50%;\n",
              "      cursor: pointer;\n",
              "      display: none;\n",
              "      fill: #1967D2;\n",
              "      height: 32px;\n",
              "      padding: 0 0 0 0;\n",
              "      width: 32px;\n",
              "    }\n",
              "\n",
              "    .colab-df-convert:hover {\n",
              "      background-color: #E2EBFA;\n",
              "      box-shadow: 0px 1px 2px rgba(60, 64, 67, 0.3), 0px 1px 3px 1px rgba(60, 64, 67, 0.15);\n",
              "      fill: #174EA6;\n",
              "    }\n",
              "\n",
              "    [theme=dark] .colab-df-convert {\n",
              "      background-color: #3B4455;\n",
              "      fill: #D2E3FC;\n",
              "    }\n",
              "\n",
              "    [theme=dark] .colab-df-convert:hover {\n",
              "      background-color: #434B5C;\n",
              "      box-shadow: 0px 1px 3px 1px rgba(0, 0, 0, 0.15);\n",
              "      filter: drop-shadow(0px 1px 2px rgba(0, 0, 0, 0.3));\n",
              "      fill: #FFFFFF;\n",
              "    }\n",
              "  </style>\n",
              "\n",
              "      <script>\n",
              "        const buttonEl =\n",
              "          document.querySelector('#df-d1fb4698-7f68-4634-976f-a8976c141fcf button.colab-df-convert');\n",
              "        buttonEl.style.display =\n",
              "          google.colab.kernel.accessAllowed ? 'block' : 'none';\n",
              "\n",
              "        async function convertToInteractive(key) {\n",
              "          const element = document.querySelector('#df-d1fb4698-7f68-4634-976f-a8976c141fcf');\n",
              "          const dataTable =\n",
              "            await google.colab.kernel.invokeFunction('convertToInteractive',\n",
              "                                                     [key], {});\n",
              "          if (!dataTable) return;\n",
              "\n",
              "          const docLinkHtml = 'Like what you see? Visit the ' +\n",
              "            '<a target=\"_blank\" href=https://colab.research.google.com/notebooks/data_table.ipynb>data table notebook</a>'\n",
              "            + ' to learn more about interactive tables.';\n",
              "          element.innerHTML = '';\n",
              "          dataTable['output_type'] = 'display_data';\n",
              "          await google.colab.output.renderOutput(dataTable, element);\n",
              "          const docLink = document.createElement('div');\n",
              "          docLink.innerHTML = docLinkHtml;\n",
              "          element.appendChild(docLink);\n",
              "        }\n",
              "      </script>\n",
              "    </div>\n",
              "  </div>\n",
              "  "
            ]
          },
          "metadata": {},
          "execution_count": 15
        }
      ],
      "source": [
        "#df.drop(columns = [\"ID\"], inplace = True)\n",
        "df.describe()"
      ]
    },
    {
      "cell_type": "markdown",
      "metadata": {
        "id": "NsjeFtvFs6dR"
      },
      "source": [
        "###***Descripción de las medias***###\n",
        "\n",
        "1. El método describe trajo caracterización de todas las columnas. Eso quiere decir que todas las variables son numéricas. Eso ya se sabía desde cuando aplicamos el método dtypes.\n",
        "\n",
        "2. Para el caso de las variables categóricas, se observa que los valores de los percentiles son tran valores enteros. Este es el caso de X2 a X10.\n",
        "\n",
        "3. Para el caso de las variables numéricas contínuas, la media ya se parece a la moda por lo que podemos pensar que se trata de una distribución centrada.\n",
        "\n"
      ]
    },
    {
      "cell_type": "markdown",
      "metadata": {
        "id": "3aI49yAAujrJ"
      },
      "source": [
        "###**5. Conteo de variables categóricas**###"
      ]
    },
    {
      "cell_type": "code",
      "execution_count": 16,
      "metadata": {
        "colab": {
          "base_uri": "https://localhost:8080/"
        },
        "id": "6Yg8NBdFusnI",
        "outputId": "3a1c782b-a993-433c-9365-1f3bd4f356f2"
      },
      "outputs": [
        {
          "output_type": "stream",
          "name": "stdout",
          "text": [
            "\n",
            "\n",
            "Conteo variable categorica  X2\n",
            "2.0    18112\n",
            "1.0    11885\n",
            "Name: X2, dtype: int64\n",
            "\n",
            "\n",
            "Conteo variable categorica  X3\n",
            "2.0    14030\n",
            "1.0    10584\n",
            "3.0     4915\n",
            "5.0      280\n",
            "4.0      123\n",
            "6.0       51\n",
            "0.0       14\n",
            "Name: X3, dtype: int64\n",
            "\n",
            "\n",
            "Conteo variable categorica  X4\n",
            "2.0    15965\n",
            "1.0    13655\n",
            "3.0      323\n",
            "0.0       54\n",
            "Name: X4, dtype: int64\n",
            "\n",
            "\n",
            "Conteo variable categorica  X6\n",
            " 0.0    14738\n",
            "-1.0     5684\n",
            " 1.0     3688\n",
            "-2.0     2759\n",
            " 2.0     2665\n",
            " 3.0      322\n",
            " 4.0       76\n",
            " 5.0       26\n",
            " 8.0       19\n",
            " 6.0       11\n",
            " 7.0        9\n",
            "Name: X6, dtype: int64\n",
            "\n",
            "\n",
            "Conteo variable categorica  X7\n",
            " 0.0    15732\n",
            "-1.0     6047\n",
            " 2.0     3925\n",
            "-2.0     3782\n",
            " 3.0      326\n",
            " 4.0       99\n",
            " 1.0       28\n",
            " 5.0       25\n",
            " 7.0       20\n",
            " 6.0       12\n",
            " 8.0        1\n",
            "Name: X7, dtype: int64\n",
            "\n",
            "\n",
            "Conteo variable categorica  X8\n",
            " 0.0    15767\n",
            "-1.0     5935\n",
            "-2.0     4085\n",
            " 2.0     3817\n",
            " 3.0      240\n",
            " 4.0       76\n",
            " 7.0       27\n",
            " 6.0       23\n",
            " 5.0       21\n",
            " 1.0        4\n",
            " 8.0        2\n",
            "Name: X8, dtype: int64\n",
            "\n",
            "\n",
            "Conteo variable categorica  X9\n",
            " 0.0    16457\n",
            "-1.0     5685\n",
            "-2.0     4348\n",
            " 2.0     3156\n",
            " 3.0      180\n",
            " 4.0       69\n",
            " 7.0       58\n",
            " 5.0       35\n",
            " 6.0        5\n",
            " 1.0        2\n",
            " 8.0        2\n",
            "Name: X9, dtype: int64\n",
            "\n",
            "\n",
            "Conteo variable categorica  X10\n",
            " 0.0    16951\n",
            "-1.0     5535\n",
            "-2.0     4546\n",
            " 2.0     2623\n",
            " 3.0      178\n",
            " 4.0       84\n",
            " 7.0       58\n",
            " 5.0       17\n",
            " 6.0        4\n",
            " 8.0        1\n",
            "Name: X10, dtype: int64\n",
            "\n",
            "\n",
            "Conteo variable categorica  X11\n",
            " 0.0    16290\n",
            "-1.0     5735\n",
            "-2.0     4895\n",
            " 2.0     2764\n",
            " 3.0      184\n",
            " 4.0       49\n",
            " 7.0       46\n",
            " 6.0       19\n",
            " 5.0       13\n",
            " 8.0        2\n",
            "Name: X11, dtype: int64\n"
          ]
        }
      ],
      "source": [
        "#Definición del vector con las variables categóricas, que van desde la X2 hasta la X11. X5 la saqué porque es la edad\n",
        "\n",
        "var_categoricas = [\"X2\", \"X3\", \"X4\",\"X6\", \"X7\", \"X8\", \"X9\", \"X10\", \"X11\"]\n",
        "\n",
        "\n",
        "for var in var_categoricas:\n",
        "  print(\"\\n\\nConteo variable categorica \", var)\n",
        "  print(pd.value_counts(df[var]))\n"
      ]
    },
    {
      "cell_type": "markdown",
      "metadata": {
        "id": "oHUZDRidwi9z"
      },
      "source": [
        "###***6. Escalamiento de los datos."
      ]
    },
    {
      "cell_type": "code",
      "execution_count": 17,
      "metadata": {
        "colab": {
          "base_uri": "https://localhost:8080/"
        },
        "id": "FoYtSzkKNp4y",
        "outputId": "cff33b3d-bf71-420a-ff97-4274e2b6f4c3"
      },
      "outputs": [
        {
          "output_type": "stream",
          "name": "stdout",
          "text": [
            "           X1       X12       X13       X14      X15      X16      X17  \\\n",
            "0       20000    3913.0    3102.0     689.0      0.0      0.0      0.0   \n",
            "1      120000    2682.0    1725.0    2682.0   3272.0   3455.0   3261.0   \n",
            "2       90000   29239.0   14027.0   13559.0  14331.0  14948.0  15549.0   \n",
            "3       50000   46990.0   48233.0   49291.0  28314.0  28959.0  29547.0   \n",
            "4       50000    8617.0    5670.0   35835.0  20940.0  19146.0  19131.0   \n",
            "...       ...       ...       ...       ...      ...      ...      ...   \n",
            "29995  220000  188948.0  192815.0  208365.0  88004.0  31237.0  15980.0   \n",
            "29996  150000    1683.0    1828.0    3502.0   8979.0   5190.0      0.0   \n",
            "29997   30000    3565.0    3356.0    2758.0  20878.0  20582.0  19357.0   \n",
            "29998   80000   -1645.0   78379.0   76304.0  52774.0  11855.0  48944.0   \n",
            "29999   50000   47929.0   48905.0   49764.0  36535.0  32428.0  15313.0   \n",
            "\n",
            "           X18      X19      X20     X21      X22     X23  \n",
            "0          0.0    689.0      0.0     0.0      0.0     0.0  \n",
            "1          0.0   1000.0   1000.0  1000.0      0.0  2000.0  \n",
            "2       1518.0   1500.0   1000.0  1000.0   1000.0  5000.0  \n",
            "3       2000.0   2019.0   1200.0  1100.0   1069.0  1000.0  \n",
            "4       2000.0  36681.0  10000.0  9000.0    689.0   679.0  \n",
            "...        ...      ...      ...     ...      ...     ...  \n",
            "29995   8500.0  20000.0   5003.0  3047.0   5000.0  1000.0  \n",
            "29996   1837.0   3526.0   8998.0   129.0      0.0     0.0  \n",
            "29997      0.0      0.0  22000.0  4200.0   2000.0  3100.0  \n",
            "29998  85900.0   3409.0   1178.0  1926.0  52964.0  1804.0  \n",
            "29999   2078.0   1800.0   1430.0  1000.0   1000.0  1000.0  \n",
            "\n",
            "[29997 rows x 13 columns]\n"
          ]
        }
      ],
      "source": [
        "#Voy a comenzar escalando apenas los valores que no son categóricos\n",
        "#Separamos las variables categoricas y dejamos afuera la variable y (obejtivo)\n",
        "nonCategorical = [df.iloc[:,1:2].copy(),df.iloc[:,12:-1].copy()]\n",
        "\n",
        "new_df = pd.concat(nonCategorical,axis =1, sort=False)\n",
        "\n",
        "\n",
        "print(new_df)"
      ]
    },
    {
      "cell_type": "markdown",
      "metadata": {
        "id": "SVCkP_5pOc4-"
      },
      "source": [
        "Voy ahora a estandarizar los datos no categóricos"
      ]
    },
    {
      "cell_type": "code",
      "execution_count": 18,
      "metadata": {
        "id": "XePZSTwLOXUi"
      },
      "outputs": [],
      "source": [
        "from sklearn.preprocessing import StandardScaler\n",
        "from sklearn.decomposition import PCA\n",
        "\n",
        "#Escalar los datos con standarizacion\n",
        "sc = StandardScaler()\n",
        "scaledData = sc.fit_transform(new_df)"
      ]
    },
    {
      "cell_type": "markdown",
      "metadata": {
        "id": "OO5zyWqCOuZh"
      },
      "source": [
        "###**Determinar los componentes principales**"
      ]
    },
    {
      "cell_type": "code",
      "execution_count": 19,
      "metadata": {
        "colab": {
          "base_uri": "https://localhost:8080/"
        },
        "id": "WaqtctSHO1U9",
        "outputId": "13e8a2d6-66de-4517-ba0f-0934bb6ba97b"
      },
      "outputs": [
        {
          "output_type": "stream",
          "name": "stdout",
          "text": [
            "      Porcentaje de varianza  Porcentaje acumulado de varianza\n",
            "PC1                     45.5                         45.491954\n",
            "PC2                     13.2                         58.664040\n",
            "PC3                      7.2                         65.909655\n",
            "PC4                      6.8                         72.708492\n",
            "PC5                      6.7                         79.427645\n",
            "PC6                      6.0                         85.444813\n",
            "PC7                      5.7                         91.142750\n",
            "PC8                      5.6                         96.729470\n",
            "PC9                      2.0                         98.763825\n",
            "PC10                     0.5                         99.310078\n",
            "PC11                     0.3                         99.626108\n",
            "PC12                     0.2                         99.821204\n",
            "PC13                     0.2                        100.000000\n",
            "\n",
            "\n",
            "--------Cantidad de varianza por componente-------------\n",
            "             0\n",
            "PC1   5.914151\n",
            "PC2   1.712428\n",
            "PC3   0.941961\n",
            "PC4   0.883878\n",
            "PC5   0.873519\n",
            "PC6   0.782258\n",
            "PC7   0.740757\n",
            "PC8   0.726298\n",
            "PC9   0.264475\n",
            "PC10  0.071015\n",
            "PC11  0.041085\n",
            "PC12  0.025363\n",
            "PC13  0.023244\n"
          ]
        }
      ],
      "source": [
        "#Realizamos la extraccion de componentes principales\n",
        "pca = PCA()\n",
        "pca.fit(scaledData)\n",
        "pcaData = pca.transform(scaledData)\n",
        "\n",
        "#Creamos un diccionario con los valores promedio de varianza y la varianza acumulada de los componentes principales\n",
        "dictionaryVariance = {\n",
        "    'Porcentaje de varianza':np.round(pca.explained_variance_ratio_,3)*100,\n",
        "    'Porcentaje acumulado de varianza':np.cumsum(pca.explained_variance_ratio_)*100\n",
        "    }\n",
        "\n",
        "#Creamos las etiquetas para los componentes principales\n",
        "labels = [f'PC{i+1}'for i in range(len(new_df.columns))]\n",
        "frameVariance = pd.DataFrame(dictionaryVariance)\n",
        "frameVariance.index = labels\n",
        "print(frameVariance)\n",
        "print('\\n')\n",
        "print('--------Cantidad de varianza por componente-------------')\n",
        "varPCA = pd.DataFrame(pca.explained_variance_)\n",
        "varPCA.index = labels\n",
        "print(varPCA)"
      ]
    },
    {
      "cell_type": "markdown",
      "metadata": {
        "id": "lmwPTz0mT6Su"
      },
      "source": [
        "Ahora voy a crear un gráfico con los componentes principales de la varianza\n"
      ]
    },
    {
      "cell_type": "code",
      "execution_count": 20,
      "metadata": {
        "colab": {
          "base_uri": "https://localhost:8080/",
          "height": 388
        },
        "id": "bh60ADIZT-jn",
        "outputId": "aa6b0d23-bfae-4f55-80c2-c874743e25eb"
      },
      "outputs": [
        {
          "output_type": "display_data",
          "data": {
            "text/plain": [
              "<Figure size 1080x432 with 1 Axes>"
            ],
            "image/png": "[encoded data removed]"
          },
          "metadata": {
            "needs_background": "light"
          }
        }
      ],
      "source": [
        "\n",
        "pcaVariations = np.round(pca.explained_variance_ratio_ *100,decimals = 2)\n",
        "\n",
        "#Generamos etiquetas para realizar una visualizacion de nuestros componentes principales\n",
        "labels = ['PC'+str(x) for x in range(1,len(pcaVariations)+1)]\n",
        "plt.figure(figsize=(15, 6))\n",
        "\n",
        "\n",
        "plt.bar(x=range(1,len(pcaVariations)+1),height = pcaVariations,tick_label = labels)\n",
        "plt.ylabel('Porcentaje de Varianza')\n",
        "plt.xlabel('Componentes Principales')\n",
        "plt.show()"
      ]
    },
    {
      "cell_type": "markdown",
      "metadata": {
        "id": "sj-sb_0KUGqj"
      },
      "source": [
        "Con esto observamos que el 70% de la varianza es explicada por las primeras cuatro variables del dataframe sin las variables categóricas. Voy a entender ahora cuáles son estas cuatro variables."
      ]
    },
    {
      "cell_type": "code",
      "execution_count": 21,
      "metadata": {
        "colab": {
          "base_uri": "https://localhost:8080/"
        },
        "id": "VS42eArZfxIQ",
        "outputId": "b5415d33-6987-413a-c35a-a8541972aa9d"
      },
      "outputs": [
        {
          "output_type": "stream",
          "name": "stdout",
          "text": [
            "     Porcentaje de varianza  Porcentaje acumulado de varianza\n",
            "X1                 7.692308                          7.692308\n",
            "X12                7.692308                         15.384615\n",
            "X13                7.692308                         23.076923\n",
            "X14                7.692308                         30.769231\n",
            "X15                7.692308                         38.461538\n",
            "X16                7.692308                         46.153846\n",
            "X17                7.692308                         53.846154\n",
            "X18                7.692308                         61.538462\n",
            "X19                7.692308                         69.230769\n",
            "X20                7.692308                         76.923077\n",
            "X21                7.692308                         84.615385\n",
            "X22                7.692308                         92.307692\n",
            "X23                7.692308                        100.000000\n",
            "Varianza total por variables originales: 13.000433391118817\n",
            "Notamos que es la misma que la varianza de PCA\n",
            "Varianza total por componentes: 13.000433391118825\n"
          ]
        }
      ],
      "source": [
        "\n",
        "scaledDataDf = pd.DataFrame(scaledData.transpose(),index = new_df.columns)\n",
        "\n",
        "#Calculamos el total de varianza de las variables originales\n",
        "totalVariableVariance = scaledDataDf.transpose().var().sum()\n",
        "\n",
        "#Obtenemos el diccionario de porcentajes de varianza que resulta ser igual para cada variable\n",
        "dictionaryVariableVariance = {\n",
        "    'Porcentaje de varianza':(scaledDataDf.transpose().var()/totalVariableVariance)*100,\n",
        "    'Porcentaje acumulado de varianza':(scaledDataDf.transpose().var().cumsum()/totalVariableVariance)*100\n",
        "    }\n",
        "\n",
        "print(pd.DataFrame(dictionaryVariableVariance))\n",
        "print('Varianza total por variables originales:', totalVariableVariance)\n",
        "print('Notamos que es la misma que la varianza de PCA')\n",
        "print('Varianza total por componentes:',pca.explained_variance_.sum())"
      ]
    },
    {
      "cell_type": "code",
      "execution_count": 22,
      "metadata": {
        "colab": {
          "base_uri": "https://localhost:8080/"
        },
        "id": "H1Q-IkOagVk3",
        "outputId": "f86dc2d9-891d-4d77-a1aa-efd13166f548"
      },
      "outputs": [
        {
          "output_type": "stream",
          "name": "stdout",
          "text": [
            "       PC1    PC2    PC3    PC4    PC5    PC6    PC7    PC8    PC9   PC10  \\\n",
            "X1   0.165  0.373  0.384  0.389  0.392  0.389  0.381  0.135  0.117  0.128   \n",
            "X12  0.294  0.191  0.174  0.126  0.119  0.105  0.093  0.386  0.411  0.395   \n",
            "X13  0.393  0.074  0.004  0.072  0.081  0.051  0.045  0.394  0.411  0.266   \n",
            "X14  0.050  0.041  0.084  0.111  0.031  0.102  0.172  0.236  0.144  0.224   \n",
            "X15  0.104  0.039  0.025  0.102  0.011  0.103  0.070  0.033  0.398  0.134   \n",
            "X16  0.256  0.003  0.033  0.116  0.122  0.014  0.005  0.179  0.252  0.752   \n",
            "X17  0.800  0.018  0.013  0.026  0.045  0.035  0.065  0.169  0.074  0.285   \n",
            "X18  0.108  0.007  0.136  0.097  0.033  0.044  0.012  0.735  0.595  0.029   \n",
            "X19  0.031  0.567  0.387  0.123  0.205  0.420  0.489  0.057  0.051  0.145   \n",
            "X20  0.006  0.416  0.038  0.485  0.523  0.068  0.513  0.048  0.147  0.000   \n",
            "X21  0.016  0.433  0.345  0.496  0.489  0.250  0.339  0.069  0.069  0.125   \n",
            "X22  0.000  0.183  0.327  0.084  0.364  0.719  0.428  0.045  0.038  0.026   \n",
            "X23  0.004  0.317  0.646  0.528  0.345  0.224  0.071  0.085  0.125  0.063   \n",
            "\n",
            "      PC11   PC12   PC13  \n",
            "X1   0.117  0.114  0.106  \n",
            "X12  0.352  0.306  0.325  \n",
            "X13  0.052  0.534  0.376  \n",
            "X14  0.568  0.247  0.651  \n",
            "X15  0.505  0.639  0.346  \n",
            "X16  0.487  0.043  0.068  \n",
            "X17  0.058  0.254  0.410  \n",
            "X18  0.061  0.212  0.112  \n",
            "X19  0.124  0.060  0.099  \n",
            "X20  0.116  0.099  0.035  \n",
            "X21  0.001  0.069  0.028  \n",
            "X22  0.081  0.095  0.017  \n",
            "X23  0.042  0.008  0.008  \n"
          ]
        }
      ],
      "source": [
        "componentsDf = pd.DataFrame(\n",
        "    pca.components_.round(3),\n",
        "    #las columnas sean los PCs\n",
        "    columns = labels,\n",
        "    #para las filas utilizamos los nombres de las variables originales\n",
        "    index = scaledDataDf.transpose().columns\n",
        ")\n",
        "print(componentsDf.abs())"
      ]
    },
    {
      "cell_type": "code",
      "execution_count": 23,
      "metadata": {
        "colab": {
          "base_uri": "https://localhost:8080/"
        },
        "id": "Tn35Zi6UgXjE",
        "outputId": "07e2596a-e197-482d-9167-4c54980ee57f"
      },
      "outputs": [
        {
          "output_type": "execute_result",
          "data": {
            "text/plain": [
              "PC1     X17\n",
              "PC2     X19\n",
              "PC3     X23\n",
              "PC4     X23\n",
              "PC5     X20\n",
              "PC6     X22\n",
              "PC7     X20\n",
              "PC8     X18\n",
              "PC9     X18\n",
              "PC10    X16\n",
              "PC11    X14\n",
              "PC12    X15\n",
              "PC13    X14\n",
              "dtype: object"
            ]
          },
          "metadata": {},
          "execution_count": 23
        }
      ],
      "source": [
        "componentsDf.abs().idxmax()\n"
      ]
    },
    {
      "cell_type": "markdown",
      "metadata": {
        "id": "HhOKMgCPgsXF"
      },
      "source": [
        "Recordando de la clasificación anterior, tenemos que las primeras cuatro variables, las que más explican la varianza son: X17, X19, X23 y X20"
      ]
    },
    {
      "cell_type": "code",
      "execution_count": 23,
      "metadata": {
        "id": "xww5MSXxgdRL"
      },
      "outputs": [],
      "source": []
    },
    {
      "cell_type": "markdown",
      "metadata": {
        "id": "Yo_tMZ2QU27p"
      },
      "source": [
        "###**8. Histogramas de los datos**###\n",
        "Voy a realizar ahora los histogramas de cada uno de los atributos no categóricos"
      ]
    },
    {
      "cell_type": "code",
      "execution_count": 24,
      "metadata": {
        "colab": {
          "base_uri": "https://localhost:8080/",
          "height": 886
        },
        "id": "dozDvVNwVCG1",
        "outputId": "e9d14ae2-f865-4d46-faa4-a3410f7350a6"
      },
      "outputs": [
        {
          "output_type": "display_data",
          "data": {
            "text/plain": [
              "<Figure size 1440x1080 with 16 Axes>"
            ],
            "image/png": "[encoded data removed]"
          },
          "metadata": {}
        }
      ],
      "source": [
        "##Antes de escalar los datos, creo que voy a visualizarlos primero.\n",
        "\n",
        "var_numericas = [\"X1\",\"X12\", \"X13\", \"X14\", \"X15\", \"X16\", \"X17\", \"X18\", \"X19\", \n",
        "                 \"X20\", \"X21\", \"X22\", \"X23\", \"X23\", \"X23\", \"X23\"]\n",
        "\n",
        "#var_numericas = [\"X1\",\"X12\", \"X13\", \"X14\"]\n",
        "\n",
        "sns.set(rc={'figure.figsize':(20,15)})\n",
        "fig, axes = plt.subplots(4, 4)  \n",
        "\n",
        "k = 0\n",
        "\n",
        "for columna in var_numericas:\n",
        "  plt.subplot(4,4,k+1) \n",
        "\n",
        "  plt.hist((df[columna]), bins = 20)\n",
        "  plt.xlabel(columna)\n",
        "\n",
        "  k = k +1\n",
        "\n",
        "plt.show()"
      ]
    },
    {
      "cell_type": "markdown",
      "metadata": {
        "id": "ggfwuam4VKij"
      },
      "source": [
        "###**9. Visualización de los datos con diferentes estrategias de visualización**"
      ]
    },
    {
      "cell_type": "code",
      "execution_count": null,
      "metadata": {
        "colab": {
          "base_uri": "https://localhost:8080/",
          "height": 380
        },
        "id": "xAjqiKYJVKKM",
        "outputId": "575eff3e-7a7d-472a-800f-548d5a562337"
      },
      "outputs": [
        {
          "output_type": "error",
          "ename": "KeyboardInterrupt",
          "evalue": "ignored",
          "traceback": [
            "\u001b[0;31m---------------------------------------------------------------------------\u001b[0m",
            "\u001b[0;31mKeyboardInterrupt\u001b[0m                         Traceback (most recent call last)",
            "\u001b[0;32m<ipython-input-25-7127581819f0>\u001b[0m in \u001b[0;36m<module>\u001b[0;34m\u001b[0m\n\u001b[1;32m      9\u001b[0m \u001b[0mfig\u001b[0m\u001b[0;34m=\u001b[0m\u001b[0mplt\u001b[0m\u001b[0;34m.\u001b[0m\u001b[0mfigure\u001b[0m\u001b[0;34m(\u001b[0m\u001b[0;36m1\u001b[0m\u001b[0;34m,\u001b[0m\u001b[0mfigsize\u001b[0m\u001b[0;34m=\u001b[0m\u001b[0;34m(\u001b[0m\u001b[0;36m9\u001b[0m\u001b[0;34m,\u001b[0m\u001b[0;36m6\u001b[0m\u001b[0;34m)\u001b[0m\u001b[0;34m)\u001b[0m\u001b[0;34m\u001b[0m\u001b[0;34m\u001b[0m\u001b[0m\n\u001b[1;32m     10\u001b[0m \u001b[0max\u001b[0m\u001b[0;34m=\u001b[0m\u001b[0mfig\u001b[0m\u001b[0;34m.\u001b[0m\u001b[0madd_subplot\u001b[0m\u001b[0;34m(\u001b[0m\u001b[0;34m)\u001b[0m\u001b[0;34m\u001b[0m\u001b[0;34m\u001b[0m\u001b[0m\n\u001b[0;32m---> 11\u001b[0;31m \u001b[0mbp\u001b[0m\u001b[0;34m=\u001b[0m\u001b[0max\u001b[0m\u001b[0;34m.\u001b[0m\u001b[0mboxplot\u001b[0m\u001b[0;34m(\u001b[0m\u001b[0mnew_df_2\u001b[0m\u001b[0;34m)\u001b[0m\u001b[0;34m\u001b[0m\u001b[0;34m\u001b[0m\u001b[0m\n\u001b[0m\u001b[1;32m     12\u001b[0m \u001b[0;34m\u001b[0m\u001b[0m\n\u001b[1;32m     13\u001b[0m \u001b[0mfig\u001b[0m\u001b[0;34m.\u001b[0m\u001b[0msavefig\u001b[0m\u001b[0;34m(\u001b[0m\u001b[0;34m'boxplot.png'\u001b[0m\u001b[0;34m,\u001b[0m\u001b[0mbbox_inches\u001b[0m\u001b[0;34m=\u001b[0m\u001b[0;34m'tight'\u001b[0m\u001b[0;34m)\u001b[0m\u001b[0;34m\u001b[0m\u001b[0;34m\u001b[0m\u001b[0m\n",
            "\u001b[0;32m/usr/local/lib/python3.7/dist-packages/matplotlib/cbook/deprecation.py\u001b[0m in \u001b[0;36mwrapper\u001b[0;34m(*args, **kwargs)\u001b[0m\n\u001b[1;32m    294\u001b[0m                 f\"for the old name will be dropped %(removal)s.\")\n\u001b[1;32m    295\u001b[0m             \u001b[0mkwargs\u001b[0m\u001b[0;34m[\u001b[0m\u001b[0mnew\u001b[0m\u001b[0;34m]\u001b[0m \u001b[0;34m=\u001b[0m \u001b[0mkwargs\u001b[0m\u001b[0;34m.\u001b[0m\u001b[0mpop\u001b[0m\u001b[0;34m(\u001b[0m\u001b[0mold\u001b[0m\u001b[0;34m)\u001b[0m\u001b[0;34m\u001b[0m\u001b[0;34m\u001b[0m\u001b[0m\n\u001b[0;32m--> 296\u001b[0;31m         \u001b[0;32mreturn\u001b[0m \u001b[0mfunc\u001b[0m\u001b[0;34m(\u001b[0m\u001b[0;34m*\u001b[0m\u001b[0margs\u001b[0m\u001b[0;34m,\u001b[0m \u001b[0;34m**\u001b[0m\u001b[0mkwargs\u001b[0m\u001b[0;34m)\u001b[0m\u001b[0;34m\u001b[0m\u001b[0;34m\u001b[0m\u001b[0m\n\u001b[0m\u001b[1;32m    297\u001b[0m \u001b[0;34m\u001b[0m\u001b[0m\n\u001b[1;32m    298\u001b[0m     \u001b[0;31m# wrapper() must keep the same documented signature as func(): if we\u001b[0m\u001b[0;34m\u001b[0m\u001b[0;34m\u001b[0m\u001b[0;34m\u001b[0m\u001b[0m\n",
            "\u001b[0;32m/usr/local/lib/python3.7/dist-packages/matplotlib/__init__.py\u001b[0m in \u001b[0;36minner\u001b[0;34m(ax, data, *args, **kwargs)\u001b[0m\n\u001b[1;32m   1563\u001b[0m     \u001b[0;32mdef\u001b[0m \u001b[0minner\u001b[0m\u001b[0;34m(\u001b[0m\u001b[0max\u001b[0m\u001b[0;34m,\u001b[0m \u001b[0;34m*\u001b[0m\u001b[0margs\u001b[0m\u001b[0;34m,\u001b[0m \u001b[0mdata\u001b[0m\u001b[0;34m=\u001b[0m\u001b[0;32mNone\u001b[0m\u001b[0;34m,\u001b[0m \u001b[0;34m**\u001b[0m\u001b[0mkwargs\u001b[0m\u001b[0;34m)\u001b[0m\u001b[0;34m:\u001b[0m\u001b[0;34m\u001b[0m\u001b[0;34m\u001b[0m\u001b[0m\n\u001b[1;32m   1564\u001b[0m         \u001b[0;32mif\u001b[0m \u001b[0mdata\u001b[0m \u001b[0;32mis\u001b[0m \u001b[0;32mNone\u001b[0m\u001b[0;34m:\u001b[0m\u001b[0;34m\u001b[0m\u001b[0;34m\u001b[0m\u001b[0m\n\u001b[0;32m-> 1565\u001b[0;31m             \u001b[0;32mreturn\u001b[0m \u001b[0mfunc\u001b[0m\u001b[0;34m(\u001b[0m\u001b[0max\u001b[0m\u001b[0;34m,\u001b[0m \u001b[0;34m*\u001b[0m\u001b[0mmap\u001b[0m\u001b[0;34m(\u001b[0m\u001b[0msanitize_sequence\u001b[0m\u001b[0;34m,\u001b[0m \u001b[0margs\u001b[0m\u001b[0;34m)\u001b[0m\u001b[0;34m,\u001b[0m \u001b[0;34m**\u001b[0m\u001b[0mkwargs\u001b[0m\u001b[0;34m)\u001b[0m\u001b[0;34m\u001b[0m\u001b[0;34m\u001b[0m\u001b[0m\n\u001b[0m\u001b[1;32m   1566\u001b[0m \u001b[0;34m\u001b[0m\u001b[0m\n\u001b[1;32m   1567\u001b[0m         \u001b[0mbound\u001b[0m \u001b[0;34m=\u001b[0m \u001b[0mnew_sig\u001b[0m\u001b[0;34m.\u001b[0m\u001b[0mbind\u001b[0m\u001b[0;34m(\u001b[0m\u001b[0max\u001b[0m\u001b[0;34m,\u001b[0m \u001b[0;34m*\u001b[0m\u001b[0margs\u001b[0m\u001b[0;34m,\u001b[0m \u001b[0;34m**\u001b[0m\u001b[0mkwargs\u001b[0m\u001b[0;34m)\u001b[0m\u001b[0;34m\u001b[0m\u001b[0;34m\u001b[0m\u001b[0m\n",
            "\u001b[0;32m/usr/local/lib/python3.7/dist-packages/matplotlib/axes/_axes.py\u001b[0m in \u001b[0;36mboxplot\u001b[0;34m(self, x, notch, sym, vert, whis, positions, widths, patch_artist, bootstrap, usermedians, conf_intervals, meanline, showmeans, showcaps, showbox, showfliers, boxprops, labels, flierprops, medianprops, meanprops, capprops, whiskerprops, manage_ticks, autorange, zorder)\u001b[0m\n\u001b[1;32m   3728\u001b[0m                            \u001b[0mmeanline\u001b[0m\u001b[0;34m=\u001b[0m\u001b[0mmeanline\u001b[0m\u001b[0;34m,\u001b[0m \u001b[0mshowfliers\u001b[0m\u001b[0;34m=\u001b[0m\u001b[0mshowfliers\u001b[0m\u001b[0;34m,\u001b[0m\u001b[0;34m\u001b[0m\u001b[0;34m\u001b[0m\u001b[0m\n\u001b[1;32m   3729\u001b[0m                            \u001b[0mcapprops\u001b[0m\u001b[0;34m=\u001b[0m\u001b[0mcapprops\u001b[0m\u001b[0;34m,\u001b[0m \u001b[0mwhiskerprops\u001b[0m\u001b[0;34m=\u001b[0m\u001b[0mwhiskerprops\u001b[0m\u001b[0;34m,\u001b[0m\u001b[0;34m\u001b[0m\u001b[0;34m\u001b[0m\u001b[0m\n\u001b[0;32m-> 3730\u001b[0;31m                            manage_ticks=manage_ticks, zorder=zorder)\n\u001b[0m\u001b[1;32m   3731\u001b[0m         \u001b[0;32mreturn\u001b[0m \u001b[0martists\u001b[0m\u001b[0;34m\u001b[0m\u001b[0;34m\u001b[0m\u001b[0m\n\u001b[1;32m   3732\u001b[0m \u001b[0;34m\u001b[0m\u001b[0m\n",
            "\u001b[0;32m/usr/local/lib/python3.7/dist-packages/matplotlib/cbook/deprecation.py\u001b[0m in \u001b[0;36mwrapper\u001b[0;34m(*args, **kwargs)\u001b[0m\n\u001b[1;32m    294\u001b[0m                 f\"for the old name will be dropped %(removal)s.\")\n\u001b[1;32m    295\u001b[0m             \u001b[0mkwargs\u001b[0m\u001b[0;34m[\u001b[0m\u001b[0mnew\u001b[0m\u001b[0;34m]\u001b[0m \u001b[0;34m=\u001b[0m \u001b[0mkwargs\u001b[0m\u001b[0;34m.\u001b[0m\u001b[0mpop\u001b[0m\u001b[0;34m(\u001b[0m\u001b[0mold\u001b[0m\u001b[0;34m)\u001b[0m\u001b[0;34m\u001b[0m\u001b[0;34m\u001b[0m\u001b[0m\n\u001b[0;32m--> 296\u001b[0;31m         \u001b[0;32mreturn\u001b[0m \u001b[0mfunc\u001b[0m\u001b[0;34m(\u001b[0m\u001b[0;34m*\u001b[0m\u001b[0margs\u001b[0m\u001b[0;34m,\u001b[0m \u001b[0;34m**\u001b[0m\u001b[0mkwargs\u001b[0m\u001b[0;34m)\u001b[0m\u001b[0;34m\u001b[0m\u001b[0;34m\u001b[0m\u001b[0m\n\u001b[0m\u001b[1;32m    297\u001b[0m \u001b[0;34m\u001b[0m\u001b[0m\n\u001b[1;32m    298\u001b[0m     \u001b[0;31m# wrapper() must keep the same documented signature as func(): if we\u001b[0m\u001b[0;34m\u001b[0m\u001b[0;34m\u001b[0m\u001b[0;34m\u001b[0m\u001b[0m\n",
            "\u001b[0;32m/usr/local/lib/python3.7/dist-packages/matplotlib/axes/_axes.py\u001b[0m in \u001b[0;36mbxp\u001b[0;34m(self, bxpstats, positions, widths, vert, patch_artist, shownotches, showmeans, showcaps, showbox, showfliers, boxprops, whiskerprops, flierprops, medianprops, capprops, meanprops, meanline, manage_ticks, zorder)\u001b[0m\n\u001b[1;32m   4044\u001b[0m             \u001b[0;31m# maybe draw the caps:\u001b[0m\u001b[0;34m\u001b[0m\u001b[0;34m\u001b[0m\u001b[0;34m\u001b[0m\u001b[0m\n\u001b[1;32m   4045\u001b[0m             \u001b[0;32mif\u001b[0m \u001b[0mshowcaps\u001b[0m\u001b[0;34m:\u001b[0m\u001b[0;34m\u001b[0m\u001b[0;34m\u001b[0m\u001b[0m\n\u001b[0;32m-> 4046\u001b[0;31m                 \u001b[0mcaps\u001b[0m\u001b[0;34m.\u001b[0m\u001b[0mextend\u001b[0m\u001b[0;34m(\u001b[0m\u001b[0mdoplot\u001b[0m\u001b[0;34m(\u001b[0m\u001b[0mcap_x\u001b[0m\u001b[0;34m,\u001b[0m \u001b[0mcap_lo\u001b[0m\u001b[0;34m,\u001b[0m \u001b[0;34m**\u001b[0m\u001b[0mfinal_capprops\u001b[0m\u001b[0;34m)\u001b[0m\u001b[0;34m)\u001b[0m\u001b[0;34m\u001b[0m\u001b[0;34m\u001b[0m\u001b[0m\n\u001b[0m\u001b[1;32m   4047\u001b[0m                 \u001b[0mcaps\u001b[0m\u001b[0;34m.\u001b[0m\u001b[0mextend\u001b[0m\u001b[0;34m(\u001b[0m\u001b[0mdoplot\u001b[0m\u001b[0;34m(\u001b[0m\u001b[0mcap_x\u001b[0m\u001b[0;34m,\u001b[0m \u001b[0mcap_hi\u001b[0m\u001b[0;34m,\u001b[0m \u001b[0;34m**\u001b[0m\u001b[0mfinal_capprops\u001b[0m\u001b[0;34m)\u001b[0m\u001b[0;34m)\u001b[0m\u001b[0;34m\u001b[0m\u001b[0;34m\u001b[0m\u001b[0m\n\u001b[1;32m   4048\u001b[0m \u001b[0;34m\u001b[0m\u001b[0m\n",
            "\u001b[0;32m/usr/local/lib/python3.7/dist-packages/matplotlib/axes/_axes.py\u001b[0m in \u001b[0;36mdoplot\u001b[0;34m(*args, **kwargs)\u001b[0m\n\u001b[1;32m   3950\u001b[0m         \u001b[0;32mif\u001b[0m \u001b[0mvert\u001b[0m\u001b[0;34m:\u001b[0m\u001b[0;34m\u001b[0m\u001b[0;34m\u001b[0m\u001b[0m\n\u001b[1;32m   3951\u001b[0m             \u001b[0;32mdef\u001b[0m \u001b[0mdoplot\u001b[0m\u001b[0;34m(\u001b[0m\u001b[0;34m*\u001b[0m\u001b[0margs\u001b[0m\u001b[0;34m,\u001b[0m \u001b[0;34m**\u001b[0m\u001b[0mkwargs\u001b[0m\u001b[0;34m)\u001b[0m\u001b[0;34m:\u001b[0m\u001b[0;34m\u001b[0m\u001b[0;34m\u001b[0m\u001b[0m\n\u001b[0;32m-> 3952\u001b[0;31m                 \u001b[0;32mreturn\u001b[0m \u001b[0mself\u001b[0m\u001b[0;34m.\u001b[0m\u001b[0mplot\u001b[0m\u001b[0;34m(\u001b[0m\u001b[0;34m*\u001b[0m\u001b[0margs\u001b[0m\u001b[0;34m,\u001b[0m \u001b[0;34m**\u001b[0m\u001b[0mkwargs\u001b[0m\u001b[0;34m)\u001b[0m\u001b[0;34m\u001b[0m\u001b[0;34m\u001b[0m\u001b[0m\n\u001b[0m\u001b[1;32m   3953\u001b[0m \u001b[0;34m\u001b[0m\u001b[0m\n\u001b[1;32m   3954\u001b[0m             \u001b[0;32mdef\u001b[0m \u001b[0mdopatch\u001b[0m\u001b[0;34m(\u001b[0m\u001b[0mxs\u001b[0m\u001b[0;34m,\u001b[0m \u001b[0mys\u001b[0m\u001b[0;34m,\u001b[0m \u001b[0;34m**\u001b[0m\u001b[0mkwargs\u001b[0m\u001b[0;34m)\u001b[0m\u001b[0;34m:\u001b[0m\u001b[0;34m\u001b[0m\u001b[0;34m\u001b[0m\u001b[0m\n",
            "\u001b[0;32m/usr/local/lib/python3.7/dist-packages/matplotlib/axes/_axes.py\u001b[0m in \u001b[0;36mplot\u001b[0;34m(self, scalex, scaley, data, *args, **kwargs)\u001b[0m\n\u001b[1;32m   1647\u001b[0m         \u001b[0mlines\u001b[0m \u001b[0;34m=\u001b[0m \u001b[0;34m[\u001b[0m\u001b[0;34m*\u001b[0m\u001b[0mself\u001b[0m\u001b[0;34m.\u001b[0m\u001b[0m_get_lines\u001b[0m\u001b[0;34m(\u001b[0m\u001b[0;34m*\u001b[0m\u001b[0margs\u001b[0m\u001b[0;34m,\u001b[0m \u001b[0mdata\u001b[0m\u001b[0;34m=\u001b[0m\u001b[0mdata\u001b[0m\u001b[0;34m,\u001b[0m \u001b[0;34m**\u001b[0m\u001b[0mkwargs\u001b[0m\u001b[0;34m)\u001b[0m\u001b[0;34m]\u001b[0m\u001b[0;34m\u001b[0m\u001b[0;34m\u001b[0m\u001b[0m\n\u001b[1;32m   1648\u001b[0m         \u001b[0;32mfor\u001b[0m \u001b[0mline\u001b[0m \u001b[0;32min\u001b[0m \u001b[0mlines\u001b[0m\u001b[0;34m:\u001b[0m\u001b[0;34m\u001b[0m\u001b[0;34m\u001b[0m\u001b[0m\n\u001b[0;32m-> 1649\u001b[0;31m             \u001b[0mself\u001b[0m\u001b[0;34m.\u001b[0m\u001b[0madd_line\u001b[0m\u001b[0;34m(\u001b[0m\u001b[0mline\u001b[0m\u001b[0;34m)\u001b[0m\u001b[0;34m\u001b[0m\u001b[0;34m\u001b[0m\u001b[0m\n\u001b[0m\u001b[1;32m   1650\u001b[0m         \u001b[0mself\u001b[0m\u001b[0;34m.\u001b[0m\u001b[0m_request_autoscale_view\u001b[0m\u001b[0;34m(\u001b[0m\u001b[0mscalex\u001b[0m\u001b[0;34m=\u001b[0m\u001b[0mscalex\u001b[0m\u001b[0;34m,\u001b[0m \u001b[0mscaley\u001b[0m\u001b[0;34m=\u001b[0m\u001b[0mscaley\u001b[0m\u001b[0;34m)\u001b[0m\u001b[0;34m\u001b[0m\u001b[0;34m\u001b[0m\u001b[0m\n\u001b[1;32m   1651\u001b[0m         \u001b[0;32mreturn\u001b[0m \u001b[0mlines\u001b[0m\u001b[0;34m\u001b[0m\u001b[0;34m\u001b[0m\u001b[0m\n",
            "\u001b[0;32m/usr/local/lib/python3.7/dist-packages/matplotlib/axes/_base.py\u001b[0m in \u001b[0;36madd_line\u001b[0;34m(self, line)\u001b[0m\n\u001b[1;32m   1848\u001b[0m             \u001b[0mline\u001b[0m\u001b[0;34m.\u001b[0m\u001b[0mset_clip_path\u001b[0m\u001b[0;34m(\u001b[0m\u001b[0mself\u001b[0m\u001b[0;34m.\u001b[0m\u001b[0mpatch\u001b[0m\u001b[0;34m)\u001b[0m\u001b[0;34m\u001b[0m\u001b[0;34m\u001b[0m\u001b[0m\n\u001b[1;32m   1849\u001b[0m \u001b[0;34m\u001b[0m\u001b[0m\n\u001b[0;32m-> 1850\u001b[0;31m         \u001b[0mself\u001b[0m\u001b[0;34m.\u001b[0m\u001b[0m_update_line_limits\u001b[0m\u001b[0;34m(\u001b[0m\u001b[0mline\u001b[0m\u001b[0;34m)\u001b[0m\u001b[0;34m\u001b[0m\u001b[0;34m\u001b[0m\u001b[0m\n\u001b[0m\u001b[1;32m   1851\u001b[0m         \u001b[0;32mif\u001b[0m \u001b[0;32mnot\u001b[0m \u001b[0mline\u001b[0m\u001b[0;34m.\u001b[0m\u001b[0mget_label\u001b[0m\u001b[0;34m(\u001b[0m\u001b[0;34m)\u001b[0m\u001b[0;34m:\u001b[0m\u001b[0;34m\u001b[0m\u001b[0;34m\u001b[0m\u001b[0m\n\u001b[1;32m   1852\u001b[0m             \u001b[0mline\u001b[0m\u001b[0;34m.\u001b[0m\u001b[0mset_label\u001b[0m\u001b[0;34m(\u001b[0m\u001b[0;34m'_line%d'\u001b[0m \u001b[0;34m%\u001b[0m \u001b[0mlen\u001b[0m\u001b[0;34m(\u001b[0m\u001b[0mself\u001b[0m\u001b[0;34m.\u001b[0m\u001b[0mlines\u001b[0m\u001b[0;34m)\u001b[0m\u001b[0;34m)\u001b[0m\u001b[0;34m\u001b[0m\u001b[0;34m\u001b[0m\u001b[0m\n",
            "\u001b[0;32m/usr/local/lib/python3.7/dist-packages/matplotlib/axes/_base.py\u001b[0m in \u001b[0;36m_update_line_limits\u001b[0;34m(self, line)\u001b[0m\n\u001b[1;32m   1870\u001b[0m         \u001b[0mFigures\u001b[0m \u001b[0mout\u001b[0m \u001b[0mthe\u001b[0m \u001b[0mdata\u001b[0m \u001b[0mlimit\u001b[0m \u001b[0mof\u001b[0m \u001b[0mthe\u001b[0m \u001b[0mgiven\u001b[0m \u001b[0mline\u001b[0m\u001b[0;34m,\u001b[0m \u001b[0mupdating\u001b[0m \u001b[0mself\u001b[0m\u001b[0;34m.\u001b[0m\u001b[0mdataLim\u001b[0m\u001b[0;34m.\u001b[0m\u001b[0;34m\u001b[0m\u001b[0;34m\u001b[0m\u001b[0m\n\u001b[1;32m   1871\u001b[0m         \"\"\"\n\u001b[0;32m-> 1872\u001b[0;31m         \u001b[0mpath\u001b[0m \u001b[0;34m=\u001b[0m \u001b[0mline\u001b[0m\u001b[0;34m.\u001b[0m\u001b[0mget_path\u001b[0m\u001b[0;34m(\u001b[0m\u001b[0;34m)\u001b[0m\u001b[0;34m\u001b[0m\u001b[0;34m\u001b[0m\u001b[0m\n\u001b[0m\u001b[1;32m   1873\u001b[0m         \u001b[0;32mif\u001b[0m \u001b[0mpath\u001b[0m\u001b[0;34m.\u001b[0m\u001b[0mvertices\u001b[0m\u001b[0;34m.\u001b[0m\u001b[0msize\u001b[0m \u001b[0;34m==\u001b[0m \u001b[0;36m0\u001b[0m\u001b[0;34m:\u001b[0m\u001b[0;34m\u001b[0m\u001b[0;34m\u001b[0m\u001b[0m\n\u001b[1;32m   1874\u001b[0m             \u001b[0;32mreturn\u001b[0m\u001b[0;34m\u001b[0m\u001b[0;34m\u001b[0m\u001b[0m\n",
            "\u001b[0;32m/usr/local/lib/python3.7/dist-packages/matplotlib/lines.py\u001b[0m in \u001b[0;36mget_path\u001b[0;34m(self)\u001b[0m\n\u001b[1;32m   1025\u001b[0m         \"\"\"\n\u001b[1;32m   1026\u001b[0m         \u001b[0;32mif\u001b[0m \u001b[0mself\u001b[0m\u001b[0;34m.\u001b[0m\u001b[0m_invalidy\u001b[0m \u001b[0;32mor\u001b[0m \u001b[0mself\u001b[0m\u001b[0;34m.\u001b[0m\u001b[0m_invalidx\u001b[0m\u001b[0;34m:\u001b[0m\u001b[0;34m\u001b[0m\u001b[0;34m\u001b[0m\u001b[0m\n\u001b[0;32m-> 1027\u001b[0;31m             \u001b[0mself\u001b[0m\u001b[0;34m.\u001b[0m\u001b[0mrecache\u001b[0m\u001b[0;34m(\u001b[0m\u001b[0;34m)\u001b[0m\u001b[0;34m\u001b[0m\u001b[0;34m\u001b[0m\u001b[0m\n\u001b[0m\u001b[1;32m   1028\u001b[0m         \u001b[0;32mreturn\u001b[0m \u001b[0mself\u001b[0m\u001b[0;34m.\u001b[0m\u001b[0m_path\u001b[0m\u001b[0;34m\u001b[0m\u001b[0;34m\u001b[0m\u001b[0m\n\u001b[1;32m   1029\u001b[0m \u001b[0;34m\u001b[0m\u001b[0m\n",
            "\u001b[0;32m/usr/local/lib/python3.7/dist-packages/matplotlib/lines.py\u001b[0m in \u001b[0;36mrecache\u001b[0;34m(self, always)\u001b[0m\n\u001b[1;32m    677\u001b[0m             \u001b[0my\u001b[0m \u001b[0;34m=\u001b[0m \u001b[0mself\u001b[0m\u001b[0;34m.\u001b[0m\u001b[0m_y\u001b[0m\u001b[0;34m\u001b[0m\u001b[0;34m\u001b[0m\u001b[0m\n\u001b[1;32m    678\u001b[0m \u001b[0;34m\u001b[0m\u001b[0m\n\u001b[0;32m--> 679\u001b[0;31m         \u001b[0mself\u001b[0m\u001b[0;34m.\u001b[0m\u001b[0m_xy\u001b[0m \u001b[0;34m=\u001b[0m \u001b[0mnp\u001b[0m\u001b[0;34m.\u001b[0m\u001b[0mcolumn_stack\u001b[0m\u001b[0;34m(\u001b[0m\u001b[0mnp\u001b[0m\u001b[0;34m.\u001b[0m\u001b[0mbroadcast_arrays\u001b[0m\u001b[0;34m(\u001b[0m\u001b[0mx\u001b[0m\u001b[0;34m,\u001b[0m \u001b[0my\u001b[0m\u001b[0;34m)\u001b[0m\u001b[0;34m)\u001b[0m\u001b[0;34m.\u001b[0m\u001b[0mastype\u001b[0m\u001b[0;34m(\u001b[0m\u001b[0mfloat\u001b[0m\u001b[0;34m)\u001b[0m\u001b[0;34m\u001b[0m\u001b[0;34m\u001b[0m\u001b[0m\n\u001b[0m\u001b[1;32m    680\u001b[0m         \u001b[0mself\u001b[0m\u001b[0;34m.\u001b[0m\u001b[0m_x\u001b[0m\u001b[0;34m,\u001b[0m \u001b[0mself\u001b[0m\u001b[0;34m.\u001b[0m\u001b[0m_y\u001b[0m \u001b[0;34m=\u001b[0m \u001b[0mself\u001b[0m\u001b[0;34m.\u001b[0m\u001b[0m_xy\u001b[0m\u001b[0;34m.\u001b[0m\u001b[0mT\u001b[0m  \u001b[0;31m# views\u001b[0m\u001b[0;34m\u001b[0m\u001b[0;34m\u001b[0m\u001b[0m\n\u001b[1;32m    681\u001b[0m \u001b[0;34m\u001b[0m\u001b[0m\n",
            "\u001b[0;31mKeyboardInterrupt\u001b[0m: "
          ]
        }
      ],
      "source": [
        "#Habiendo aprendido del ejercicio anterior que las primeras 5 variables son las que explican el 70% de la variación, entonces voy a hacer\n",
        "#un nuevo dataframe con apenas 7 variables\n",
        "\n",
        "new_df_2_columns = [\"X17\"]\n",
        "\n",
        "\n",
        "new_df_2 = new_df[new_df_2_columns]\n",
        "\n",
        "fig=plt.figure(1,figsize=(9,6))\n",
        "ax=fig.add_subplot()\n",
        "bp=ax.boxplot(new_df_2)\n",
        "\n",
        "fig.savefig('boxplot.png',bbox_inches='tight')\n",
        "\n",
        "#sns.pairplot(new_df_2)"
      ]
    },
    {
      "cell_type": "code",
      "execution_count": null,
      "metadata": {
        "id": "sT32gfb5aneB"
      },
      "outputs": [],
      "source": [
        "new_df_2.head(3)"
      ]
    }
  ],
  "metadata": {
    "colab": {
      "provenance": []
    },
    "kernelspec": {
      "display_name": "Python 3",
      "name": "python3"
    },
    "language_info": {
      "name": "python"
    }
  },
  "nbformat": 4,
  "nbformat_minor": 0
}