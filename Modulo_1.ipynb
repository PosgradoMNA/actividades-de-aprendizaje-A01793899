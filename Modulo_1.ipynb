{
  "nbformat": 4,
  "nbformat_minor": 0,
  "metadata": {
    "colab": {
      "provenance": [],
      "collapsed_sections": []
    },
    "kernelspec": {
      "name": "python3",
      "display_name": "Python 3"
    },
    "language_info": {
      "name": "python"
    }
  },
  "cells": [
    {
      "cell_type": "markdown",
      "source": [
        "##CUADERNO PARA ESTUDIO PYTHON IBM\n",
        "This notebook is inteded to display the development of activities included in IBM Python online course.\n",
        "\n"
      ],
      "metadata": {
        "id": "yNSVl4r7Qlll"
      }
    },
    {
      "cell_type": "code",
      "source": [
        "#Modulo 1.\n",
        "\n",
        "#Línea para imprimir 101\n",
        "print (\"Hello Python 102\")\n",
        "print(\"Hello\\nWorld\")"
      ],
      "metadata": {
        "colab": {
          "base_uri": "https://localhost:8080/"
        },
        "id": "cmzNdmhNQ-4U",
        "outputId": "729c0ee2-d9a1-4b0b-f6ab-aa9ccdbd5f34"
      },
      "execution_count": 4,
      "outputs": [
        {
          "output_type": "stream",
          "name": "stdout",
          "text": [
            "Hello Python 102\n",
            "Hello\n",
            "World\n"
          ]
        }
      ]
    },
    {
      "cell_type": "code",
      "source": [
        "#Tipos de variables. Aquí aprendí que para usar type debo iniciar con t minúscula\n",
        "type(\"Hello world\")\n",
        "type(\"1.1\") #Sè que va a ser un string porque está entre comillas\n",
        "type(1.1) #Sè que va a ser un float porque está entre comillas"
      ],
      "metadata": {
        "colab": {
          "base_uri": "https://localhost:8080/"
        },
        "id": "bg2_QFSXXeAJ",
        "outputId": "f4f753d1-557d-484d-9318-d68902c8e500"
      },
      "execution_count": 9,
      "outputs": [
        {
          "output_type": "execute_result",
          "data": {
            "text/plain": [
              "float"
            ]
          },
          "metadata": {},
          "execution_count": 9
        }
      ]
    },
    {
      "cell_type": "code",
      "source": [
        "#Cast a float to boolean\n",
        "bool(1) #va a salir un True"
      ],
      "metadata": {
        "colab": {
          "base_uri": "https://localhost:8080/"
        },
        "id": "tx8K4SzdYfb-",
        "outputId": "71b69101-d129-43f0-aea0-38f3a4b58605"
      },
      "execution_count": 10,
      "outputs": [
        {
          "output_type": "execute_result",
          "data": {
            "text/plain": [
              "True"
            ]
          },
          "metadata": {},
          "execution_count": 10
        }
      ]
    },
    {
      "cell_type": "code",
      "source": [
        "#Checking Python version\n",
        "\n",
        "#import(sys)\n",
        "#print(sys.version)"
      ],
      "metadata": {
        "id": "6sbQkB4Qbw6w"
      },
      "execution_count": 15,
      "outputs": []
    },
    {
      "cell_type": "code",
      "source": [
        "# Print string as error message. Aquí vamos a ver cómo funcionan los errores. \n",
        "\n",
        "#frint(\"Hello, Python!\")"
      ],
      "metadata": {
        "id": "THVP0NoxdQOP"
      },
      "execution_count": 17,
      "outputs": []
    },
    {
      "cell_type": "code",
      "source": [
        "#Types of variables\n",
        "type(-1)\n",
        "#sys.float_info"
      ],
      "metadata": {
        "colab": {
          "base_uri": "https://localhost:8080/"
        },
        "id": "KzPHsjuKu1h8",
        "outputId": "72f0b072-a9f3-47dd-ef0d-9b29510c8019"
      },
      "execution_count": 22,
      "outputs": [
        {
          "output_type": "execute_result",
          "data": {
            "text/plain": [
              "int"
            ]
          },
          "metadata": {},
          "execution_count": 22
        }
      ]
    },
    {
      "cell_type": "code",
      "source": [
        "#convirtiendo un tipo de datos en otros\n",
        "type(2)\n",
        "float(2)"
      ],
      "metadata": {
        "colab": {
          "base_uri": "https://localhost:8080/"
        },
        "id": "sRYIEHmfvtZW",
        "outputId": "d43846d0-4344-4cae-a9b6-945f4a0df72e"
      },
      "execution_count": 24,
      "outputs": [
        {
          "output_type": "execute_result",
          "data": {
            "text/plain": [
              "2.0"
            ]
          },
          "metadata": {},
          "execution_count": 24
        }
      ]
    },
    {
      "cell_type": "code",
      "source": [
        "int(1.1)"
      ],
      "metadata": {
        "colab": {
          "base_uri": "https://localhost:8080/"
        },
        "id": "f4Z6tc8lv8TN",
        "outputId": "3485e35c-9eb6-4249-b5e8-6cdf29f707d0"
      },
      "execution_count": 25,
      "outputs": [
        {
          "output_type": "execute_result",
          "data": {
            "text/plain": [
              "1"
            ]
          },
          "metadata": {},
          "execution_count": 25
        }
      ]
    },
    {
      "cell_type": "code",
      "source": [
        "#Boolean data type\n",
        "type(True)"
      ],
      "metadata": {
        "colab": {
          "base_uri": "https://localhost:8080/"
        },
        "id": "vXMRpxbhwWaI",
        "outputId": "0ddcb1e3-7eac-44a0-db26-c392c9be8f96"
      },
      "execution_count": 29,
      "outputs": [
        {
          "output_type": "execute_result",
          "data": {
            "text/plain": [
              "bool"
            ]
          },
          "metadata": {},
          "execution_count": 29
        }
      ]
    },
    {
      "cell_type": "code",
      "source": [
        "bool(1)"
      ],
      "metadata": {
        "colab": {
          "base_uri": "https://localhost:8080/"
        },
        "id": "WWkSb_pLwmOK",
        "outputId": "8126609b-b910-4c2a-e12f-c7fdd58370de"
      },
      "execution_count": 30,
      "outputs": [
        {
          "output_type": "execute_result",
          "data": {
            "text/plain": [
              "True"
            ]
          },
          "metadata": {},
          "execution_count": 30
        }
      ]
    },
    {
      "cell_type": "code",
      "source": [
        "#Data type of 6/2: float\n",
        "print(6/2)\n",
        "print(type(6/2))\n",
        "\n",
        "print(6//2)\n",
        "type(6//2)"
      ],
      "metadata": {
        "colab": {
          "base_uri": "https://localhost:8080/"
        },
        "id": "kXOu0iVmwq_r",
        "outputId": "722e2ba6-33c3-4720-9afe-c51abc65a794"
      },
      "execution_count": 36,
      "outputs": [
        {
          "output_type": "stream",
          "name": "stdout",
          "text": [
            "3.0\n",
            "<class 'float'>\n",
            "3\n"
          ]
        },
        {
          "output_type": "execute_result",
          "data": {
            "text/plain": [
              "int"
            ]
          },
          "metadata": {},
          "execution_count": 36
        }
      ]
    },
    {
      "cell_type": "code",
      "source": [
        "#Exercise expresions\n",
        "#Calculationg the ampunt of hours in a given amount of minutes\n",
        "\n",
        "Total_hours = 160//60\n",
        "\n",
        "print(\"The amount of hours in \" + str(160) + \" minutes is \" + str(Total_hours) + \".\")\n",
        "\n"
      ],
      "metadata": {
        "colab": {
          "base_uri": "https://localhost:8080/"
        },
        "id": "__mH8WUdxJx9",
        "outputId": "0071372a-3d7f-4bf2-d1d1-09abd45190af"
      },
      "execution_count": 42,
      "outputs": [
        {
          "output_type": "stream",
          "name": "stdout",
          "text": [
            "The amount of hours in 160 minutes is 2.\n"
          ]
        }
      ]
    },
    {
      "cell_type": "code",
      "source": [
        "#Complicate expressions\n",
        "\n",
        "x = 3 + 2 * 2 # 3 + 4 = 7, primero se hace la multiplicación\n",
        "x"
      ],
      "metadata": {
        "colab": {
          "base_uri": "https://localhost:8080/"
        },
        "id": "O_7JFQL2ycs6",
        "outputId": "abb9da7a-9a0a-4cc5-fe8f-3e0dec10c7c6"
      },
      "execution_count": 44,
      "outputs": [
        {
          "output_type": "execute_result",
          "data": {
            "text/plain": [
              "7"
            ]
          },
          "metadata": {},
          "execution_count": 44
        }
      ]
    },
    {
      "cell_type": "markdown",
      "source": [
        "##Ahora vamos a trabajar con cadenas de caracteres o <code> strings <code>"
      ],
      "metadata": {
        "id": "5GKeJt010Nqc"
      }
    },
    {
      "cell_type": "code",
      "source": [
        "name = \"Michael Jackson\"\n",
        "print(name)\n",
        "\n",
        "#voy a sacar la longitud de la cadena de caracteres\n",
        "print(len(name))\n",
        "\n",
        "#Voy a sacar la M y la J\n",
        "name[0]\n",
        "name[8]\n",
        "\n",
        "#Voy ahora a sacar las letras de dos en dos comenzando desde el principio, así: name[posicion_inicial: posicion_final : paso]\n",
        "print(name[::2])\n",
        "\n",
        "\n",
        "#Voy ahora a sacar las letras de dos en dos comenzando desde la segunda letra hasta la sexta y a cada dos posiciones, así: name[posicion_inicial: posicion_final : paso]\n",
        "print(name[1:6:2])\n",
        "\n",
        "new_name = name + \" es el mejor\"\n",
        "print(new_name)"
      ],
      "metadata": {
        "colab": {
          "base_uri": "https://localhost:8080/"
        },
        "id": "YTIlWxKy0NW3",
        "outputId": "215f8a40-1776-4ce6-c02e-e074b35cf03f"
      },
      "execution_count": 55,
      "outputs": [
        {
          "output_type": "stream",
          "name": "stdout",
          "text": [
            "Michael Jackson\n",
            "15\n",
            "McalJcsn\n",
            "ihe\n",
            "Michael Jackson es el mejor\n"
          ]
        }
      ]
    },
    {
      "cell_type": "code",
      "source": [
        "A = \"Estudiar Python me hace feliz\"\n",
        "A\n",
        "B = A.upper()\n",
        "print(B)\n",
        "\n",
        "B = A.replace('Estudiar', 'Repasar')\n",
        "print(B)\n",
        "\n",
        "A.find('Python')"
      ],
      "metadata": {
        "colab": {
          "base_uri": "https://localhost:8080/"
        },
        "id": "xgx6g8392nCv",
        "outputId": "c2e5c030-2d3c-42fa-c9ca-469791656ddf"
      },
      "execution_count": 63,
      "outputs": [
        {
          "output_type": "stream",
          "name": "stdout",
          "text": [
            "ESTUDIAR PYTHON ME HACE FELIZ\n",
            "Repasar Python me hace feliz\n"
          ]
        },
        {
          "output_type": "execute_result",
          "data": {
            "text/plain": [
              "9"
            ]
          },
          "metadata": {},
          "execution_count": 63
        }
      ]
    },
    {
      "cell_type": "code",
      "source": [
        "g = \"Mary had a little lamb Little lamb, little lamb Mary had a little lamb \\\n",
        "Its fleece was white as snow And everywhere that Mary went Mary went, Mary went \\\n",
        "Everywhere that Mary went The lamb was sure to go\"\n",
        "\n",
        "g\n",
        "i = g.replace(\"lamb\", \"horse\")\n",
        "i"
      ],
      "metadata": {
        "colab": {
          "base_uri": "https://localhost:8080/",
          "height": 53
        },
        "id": "CwJhJlUq6MJy",
        "outputId": "afce1b9e-9807-45da-d711-a59d867cf54a"
      },
      "execution_count": 66,
      "outputs": [
        {
          "output_type": "execute_result",
          "data": {
            "text/plain": [
              "'Mary had a little horse Little horse, little horse Mary had a little horse Its fleece was white as snow And everywhere that Mary went Mary went, Mary went Everywhere that Mary went The horse was sure to go'"
            ],
            "application/vnd.google.colaboratory.intrinsic+json": {
              "type": "string"
            }
          },
          "metadata": {},
          "execution_count": 66
        }
      ]
    },
    {
      "cell_type": "code",
      "source": [
        "name = \"lizz\"\n",
        "name\n",
        "print(name[0:2])\n",
        "\n",
        "var = \"01234567\"\n",
        "print(var[::2])"
      ],
      "metadata": {
        "colab": {
          "base_uri": "https://localhost:8080/"
        },
        "id": "fKz1QaJW6rkW",
        "outputId": "1b20254f-c1bb-44d2-f00f-294e7513dfe3"
      },
      "execution_count": 71,
      "outputs": [
        {
          "output_type": "stream",
          "name": "stdout",
          "text": [
            "li\n",
            "0246\n"
          ]
        }
      ]
    }
  ]
}