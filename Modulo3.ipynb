{
  "nbformat": 4,
  "nbformat_minor": 0,
  "metadata": {
    "colab": {
      "provenance": []
    },
    "kernelspec": {
      "name": "python3",
      "display_name": "Python 3"
    },
    "language_info": {
      "name": "python"
    }
  },
  "cells": [
    {
      "cell_type": "markdown",
      "source": [],
      "metadata": {
        "id": "nYUaWqwNu3WW"
      }
    },
    {
      "cell_type": "code",
      "execution_count": null,
      "metadata": {
        "id": "VCuVuMJStbmg"
      },
      "outputs": [],
      "source": []
    },
    {
      "cell_type": "markdown",
      "source": [
        "##Conditions and branching"
      ],
      "metadata": {
        "id": "H8Ylktstu-B3"
      }
    },
    {
      "cell_type": "code",
      "source": [
        "age = 19\n",
        "\n",
        "if(age >= 18):\n",
        "  print(\"Puedes pasar\")\n",
        "\n",
        "else: \n",
        "  print(\"No puedes pasar\")\n",
        "\n",
        "print(\"Move on\")"
      ],
      "metadata": {
        "colab": {
          "base_uri": "https://localhost:8080/"
        },
        "id": "pV7tljluvMLB",
        "outputId": "c4f99543-b2d0-45ee-de2b-a78c7edd7bac"
      },
      "execution_count": null,
      "outputs": [
        {
          "output_type": "stream",
          "name": "stdout",
          "text": [
            "Puedes pasar\n",
            "Move on\n"
          ]
        }
      ]
    },
    {
      "cell_type": "code",
      "source": [
        "#En este ejemplo introducimos ya if, elif, else\n",
        "age = 15\n",
        "\n",
        "if(age > 18):\n",
        "  print(\"Puedes ver a AC/DC\")\n",
        "\n",
        "elif(age==18):\n",
        "  print(\"Te toca Pink Floyd\")\n",
        "else:\n",
        "  print(\"Te toca Meat Loaf\")\n",
        "\n",
        "print(\"Move on\")"
      ],
      "metadata": {
        "colab": {
          "base_uri": "https://localhost:8080/"
        },
        "id": "grB1r26HwAJS",
        "outputId": "abd490ef-3c16-43c8-f8d3-6fa7bc5723bb"
      },
      "execution_count": null,
      "outputs": [
        {
          "output_type": "stream",
          "name": "stdout",
          "text": [
            "Te toca Meat Loaf\n",
            "Move on\n"
          ]
        }
      ]
    },
    {
      "cell_type": "code",
      "source": [
        "#Para compaciones booleanas, es posible comparar caracteres según su equivalente en números ASII 2\n",
        "\n",
        "'B' > 'C'\n",
        "\n"
      ],
      "metadata": {
        "colab": {
          "base_uri": "https://localhost:8080/"
        },
        "id": "RmhcwY_UyR3w",
        "outputId": "8498370a-2dfd-4a11-97a3-b5f6f30af4ef"
      },
      "execution_count": null,
      "outputs": [
        {
          "output_type": "execute_result",
          "data": {
            "text/plain": [
              "True"
            ]
          },
          "metadata": {},
          "execution_count": 18
        }
      ]
    },
    {
      "cell_type": "code",
      "source": [
        "\n",
        "age = 18\n",
        "# age = 19\n",
        "\n",
        "if age > 18:\n",
        "    print(\"you can enter\" )\n",
        "else:\n",
        "    print(\"go see Meat Loaf\" )\n",
        "    \n",
        "print(\"move on\")"
      ],
      "metadata": {
        "colab": {
          "base_uri": "https://localhost:8080/"
        },
        "id": "z8Dq15WA13IX",
        "outputId": "681b6424-e166-4587-f13b-c6dedb6af655"
      },
      "execution_count": null,
      "outputs": [
        {
          "output_type": "stream",
          "name": "stdout",
          "text": [
            "go see Meat Loaf\n",
            "move on\n"
          ]
        }
      ]
    },
    {
      "cell_type": "code",
      "source": [
        "# Respuesta a las preguntas del taller interno\n",
        "# Write your code below and press Shift+Enter to execute\n",
        "\n",
        "rating = 9\n",
        "\n",
        "if rating >8:\n",
        "    print(\"This album is amazing\")\n",
        "else:\n",
        "    print(\"You should try another better\")"
      ],
      "metadata": {
        "id": "nMIlmxmn_MEe"
      },
      "execution_count": null,
      "outputs": []
    },
    {
      "cell_type": "code",
      "source": [
        "#En el siguiente ejemplo uso listas y condicionales\n",
        "\n",
        "year = 1995\n",
        "\n",
        "lower_year = 1980\n",
        "reference_year = [1991, 1993]\n",
        "\n",
        "if (year < lower_year)or(year in reference_year):\n",
        "    print(year)\n",
        "else:\n",
        "    print(\"It'll better next time\")"
      ],
      "metadata": {
        "id": "1E1sTFw5AcOE"
      },
      "execution_count": null,
      "outputs": []
    },
    {
      "cell_type": "markdown",
      "source": [
        "##CICLOS\n",
        "* For y While"
      ],
      "metadata": {
        "id": "77kBXOVTCXUz"
      }
    },
    {
      "cell_type": "code",
      "source": [
        "dates = [1985, 1989, 1990]\n",
        "\n",
        "for year in dates:\n",
        "  print(year)\n"
      ],
      "metadata": {
        "colab": {
          "base_uri": "https://localhost:8080/"
        },
        "id": "CpentVtdCeEb",
        "outputId": "88e9f544-8fcc-4037-e546-0c8d6231fe6d"
      },
      "execution_count": null,
      "outputs": [
        {
          "output_type": "stream",
          "name": "stdout",
          "text": [
            "1985\n",
            "1989\n",
            "1990\n"
          ]
        }
      ]
    },
    {
      "cell_type": "code",
      "source": [
        "#Usar un ciclo para cambiar los elementos en una lista\n",
        "\n",
        "squares = ['red', 'yellow', 'green', 'purple', 'blue']\n",
        "\n",
        "for i in range(0, 5):\n",
        "    print(\"Before square \", i, 'is',  squares[i])\n",
        "    squares[i] = 'white'\n",
        "    print(\"After square \", i, 'is',  squares[i])"
      ],
      "metadata": {
        "colab": {
          "base_uri": "https://localhost:8080/"
        },
        "id": "skH-rLlzGGWt",
        "outputId": "9e19d738-2822-45c9-db49-9d4a729ac942"
      },
      "execution_count": null,
      "outputs": [
        {
          "output_type": "stream",
          "name": "stdout",
          "text": [
            "Before square  0 is red\n",
            "After square  0 is white\n",
            "Before square  1 is yellow\n",
            "After square  1 is white\n",
            "Before square  2 is green\n",
            "After square  2 is white\n",
            "Before square  3 is purple\n",
            "After square  3 is white\n",
            "Before square  4 is blue\n",
            "After square  4 is white\n"
          ]
        }
      ]
    },
    {
      "cell_type": "code",
      "source": [
        "squares=['red', 'yellow', 'green', 'purple', 'blue']\n",
        "\n",
        "print(enumerate(squares))\n",
        "\n",
        "for i, square in enumerate(squares):\n",
        "    print(i, square)"
      ],
      "metadata": {
        "colab": {
          "base_uri": "https://localhost:8080/"
        },
        "id": "Cs5gbWrfGekr",
        "outputId": "4f18802b-d12f-451a-9242-5f7ff6e5b694"
      },
      "execution_count": null,
      "outputs": [
        {
          "output_type": "stream",
          "name": "stdout",
          "text": [
            "<enumerate object at 0x7f0c9e5eefa0>\n",
            "0 red\n",
            "1 yellow\n",
            "2 green\n",
            "3 purple\n",
            "4 blue\n"
          ]
        }
      ]
    },
    {
      "cell_type": "code",
      "source": [
        "#QUIZ ON LOOPS\n",
        "#Write a <code>for</code> loop the prints out all the element between <b>-5</b> and <b>5</b> using the range function.\n",
        "\n",
        "for i in range(-5,6):\n",
        "  print(i)\n",
        "\n",
        "\n",
        "\n"
      ],
      "metadata": {
        "id": "88NYhpOdG5o9",
        "colab": {
          "base_uri": "https://localhost:8080/"
        },
        "outputId": "7065d8ce-491f-4006-8d6e-0605bc5b72d0"
      },
      "execution_count": null,
      "outputs": [
        {
          "output_type": "stream",
          "name": "stdout",
          "text": [
            "-5\n",
            "-4\n",
            "-3\n",
            "-2\n",
            "-1\n",
            "0\n",
            "1\n",
            "2\n",
            "3\n",
            "4\n",
            "5\n"
          ]
        }
      ]
    },
    {
      "cell_type": "code",
      "source": [
        "#Print the elements of the following list: Genres=[ 'rock', 'R&B', 'Soundtrack', 'R&B', 'soul', 'pop'] Make sure you follow Python conventions.\n",
        "\n",
        "Genres=[ 'rock', 'R&B', 'Soundtrack', 'R&B', 'soul', 'pop']\n",
        "\n",
        "#for Genre in enumerate(Genres):\n",
        "#    print(Genre)\n",
        "\n",
        "\n",
        "for i in range(0,6):\n",
        "    print(Genres[i])\n",
        "\n",
        "\n",
        "#Solución propuesta en el taller\n",
        "for Genre in Genres:\n",
        "    print(Genre)"
      ],
      "metadata": {
        "colab": {
          "base_uri": "https://localhost:8080/"
        },
        "id": "NIl8M9N3L73F",
        "outputId": "c5815276-0049-481c-f0d6-a76f04c81821"
      },
      "execution_count": null,
      "outputs": [
        {
          "output_type": "stream",
          "name": "stdout",
          "text": [
            "rock\n",
            "R&B\n",
            "Soundtrack\n",
            "R&B\n",
            "soul\n",
            "pop\n",
            "rock\n",
            "R&B\n",
            "Soundtrack\n",
            "R&B\n",
            "soul\n",
            "pop\n"
          ]
        }
      ]
    },
    {
      "cell_type": "code",
      "source": [
        "#Write a while loop that prints out the following list: squares=['red', 'yellow', 'green', 'purple', 'blue']\n",
        "\n",
        "squares=['red', 'yellow', 'green', 'purple', 'blue']\n",
        "\n",
        "#Definición de la longitud de la lista\n",
        "longitud = len(squares)\n",
        "\n",
        "#Definición de la bandera (flag) para salir del ciclo\n",
        "i = 0\n",
        "\n",
        "while i <= longitud - 1 :\n",
        "  print(i, squares[i])\n",
        "  i = i+1\n",
        "\n"
      ],
      "metadata": {
        "colab": {
          "base_uri": "https://localhost:8080/"
        },
        "id": "tbbR5yCHOMSm",
        "outputId": "4f7fe843-396a-49a7-f17a-a48aa614d266"
      },
      "execution_count": 20,
      "outputs": [
        {
          "output_type": "stream",
          "name": "stdout",
          "text": [
            "0 red\n",
            "1 yellow\n",
            "2 green\n",
            "3 purple\n",
            "4 blue\n"
          ]
        }
      ]
    },
    {
      "cell_type": "code",
      "source": [
        "#Write a for loop that prints out the following list: squares=['red', 'yellow', 'green', 'purple', 'blue']\n",
        "\n",
        "squares=['red', 'yellow', 'green', 'purple', 'blue']\n",
        "\n",
        "for square in squares:\n",
        "  print(square)\n",
        "  \n",
        "\n"
      ],
      "metadata": {
        "colab": {
          "base_uri": "https://localhost:8080/"
        },
        "id": "y18Az5jMPpMx",
        "outputId": "488112f0-926b-4b32-ff91-2d90885eb5d8"
      },
      "execution_count": 21,
      "outputs": [
        {
          "output_type": "stream",
          "name": "stdout",
          "text": [
            "red\n",
            "yellow\n",
            "green\n",
            "purple\n",
            "blue\n"
          ]
        }
      ]
    },
    {
      "cell_type": "code",
      "source": [
        "# Write a while loop to display the values of the Rating of an album playlist stored in the list PlayListRatings. If the score is less than 6, exit the loop. The list PlayListRatings is given by: PlayListRatings = [10, 9.5, 10, 8, 7.5, 5, 10, 10]\n",
        "\n",
        "PlayListRatings = [10, 9.5, 10, 8, 7.5, 5, 10, 10]\n",
        "\n",
        "i = 0\n",
        "\n",
        "while PlayListRatings[i] > 6:\n",
        "  print(PlayListRatings[i])\n",
        "  i = i+1\n",
        "\n"
      ],
      "metadata": {
        "colab": {
          "base_uri": "https://localhost:8080/"
        },
        "id": "TEqZAQfYQMuL",
        "outputId": "a0a843d5-f751-4d2d-b1f2-211e309e2075"
      },
      "execution_count": 22,
      "outputs": [
        {
          "output_type": "stream",
          "name": "stdout",
          "text": [
            "10\n",
            "9.5\n",
            "10\n",
            "8\n",
            "7.5\n"
          ]
        }
      ]
    },
    {
      "cell_type": "code",
      "source": [
        "#Write a while loop to copy the strings 'orange' of the list squares to the list new_squares. Stop and exit the loop if the value on the list is not 'orange':\n",
        "\n",
        "\n",
        "squares = ['orange', 'orange', 'purple', 'blue ', 'orange']\n",
        "new_squares = []\n",
        "i = 0\n",
        "while(i < len(squares) and squares[i] == 'orange'):\n",
        "    new_squares.append(squares[i])\n",
        "    i = i + 1\n",
        "print (new_squares)\n",
        "    "
      ],
      "metadata": {
        "colab": {
          "base_uri": "https://localhost:8080/"
        },
        "id": "mGk7wHKzRuWh",
        "outputId": "6a3c6c96-66d6-4cd9-edaf-ebaec1154da0"
      },
      "execution_count": 23,
      "outputs": [
        {
          "output_type": "stream",
          "name": "stdout",
          "text": [
            "['orange', 'orange']\n"
          ]
        }
      ]
    },
    {
      "cell_type": "markdown",
      "source": [
        "#FUNCIONES\n"
      ],
      "metadata": {
        "id": "nz4_7SlAi2C5"
      }
    },
    {
      "cell_type": "code",
      "source": [
        "\n",
        "def suma(a):\n",
        "  \"\"\"\n",
        "  Esta es una función de ejemplo sobre la creación de funciones\n",
        "  \"\"\"\n",
        "\n",
        "  b = a + 1\n",
        "  return b\n"
      ],
      "metadata": {
        "id": "x345w6catzcz"
      },
      "execution_count": 7,
      "outputs": []
    },
    {
      "cell_type": "code",
      "source": [
        "help(suma)"
      ],
      "metadata": {
        "colab": {
          "base_uri": "https://localhost:8080/"
        },
        "id": "kIZqpm8xuexi",
        "outputId": "7df18917-b7de-4c13-bad9-4bdf6b8be499"
      },
      "execution_count": 8,
      "outputs": [
        {
          "output_type": "stream",
          "name": "stdout",
          "text": [
            "Help on function suma in module __main__:\n",
            "\n",
            "suma(a)\n",
            "    Esta es una función de ejemplo sobre la creación de funciones\n",
            "\n"
          ]
        }
      ]
    },
    {
      "cell_type": "code",
      "source": [
        "def multiplicacion(a, b):\n",
        "  c = a * b\n",
        "  return c\n",
        "\n",
        "\n",
        "b = [\"Michael Jackson\"]\n",
        "\n",
        "multiplicacion(3, b)\n"
      ],
      "metadata": {
        "colab": {
          "base_uri": "https://localhost:8080/"
        },
        "id": "y5szHsD_vvoh",
        "outputId": "91f4158e-3a9b-4f9b-909f-b39ddf134698"
      },
      "execution_count": 17,
      "outputs": [
        {
          "output_type": "execute_result",
          "data": {
            "text/plain": [
              "['Michael Jackson', 'Michael Jackson', 'Michael Jackson']"
            ]
          },
          "metadata": {},
          "execution_count": 17
        }
      ]
    },
    {
      "cell_type": "code",
      "source": [
        "#cómo definir una función con diferentes tamaños\n",
        "\n",
        "def artist_names(*names):\n",
        "  for name in names:\n",
        "    print(name)"
      ],
      "metadata": {
        "id": "QTXr60NyyxQU"
      },
      "execution_count": 23,
      "outputs": []
    },
    {
      "cell_type": "code",
      "source": [
        "artist_names(\"Gato\", \"perro\")"
      ],
      "metadata": {
        "colab": {
          "base_uri": "https://localhost:8080/"
        },
        "id": "UK67Rah4zB72",
        "outputId": "7fe5413c-0e0d-42eb-b466-38782104dcb0"
      },
      "execution_count": 24,
      "outputs": [
        {
          "output_type": "stream",
          "name": "stdout",
          "text": [
            "Gato\n",
            "perro\n"
          ]
        }
      ]
    },
    {
      "cell_type": "code",
      "source": [
        "\n",
        "def add(b):\n",
        "  a=1\n",
        "  return a+b\n",
        "\n",
        "c=add(10)\n",
        "c"
      ],
      "metadata": {
        "colab": {
          "base_uri": "https://localhost:8080/"
        },
        "id": "vwrbT7Kb4GoB",
        "outputId": "5c3fb459-478b-40d2-f205-cb596f05c5f5"
      },
      "execution_count": 27,
      "outputs": [
        {
          "output_type": "execute_result",
          "data": {
            "text/plain": [
              "11"
            ]
          },
          "metadata": {},
          "execution_count": 27
        }
      ]
    },
    {
      "cell_type": "code",
      "source": [
        "\n",
        "def type_of_album(artist, album, year_released):\n",
        "    \n",
        "    print(artist, album, year_released)\n",
        "    if year_released > 1980:\n",
        "        return \"Modern\"\n",
        "    else:\n",
        "        return \"Oldie\"\n",
        "    \n",
        "x = type_of_album(\"Michael Jackson\", \"Thriller\", 1980)\n",
        "print(x)"
      ],
      "metadata": {
        "colab": {
          "base_uri": "https://localhost:8080/"
        },
        "id": "nt8lFgWUF-UD",
        "outputId": "a6b74846-0ed4-4399-c9f2-b102f99e23e7"
      },
      "execution_count": 28,
      "outputs": [
        {
          "output_type": "stream",
          "name": "stdout",
          "text": [
            "Michael Jackson Thriller 1980\n",
            "Oldie\n"
          ]
        }
      ]
    },
    {
      "cell_type": "code",
      "source": [
        "#Uso de fucciones con diccionarios\n",
        "\n",
        "def printDictionary(**args):\n",
        "    for key in args:\n",
        "        print(key + \" : \" + args[key])\n",
        "\n",
        "\n",
        "        \n",
        "\n",
        "printDictionary(Country='Canada',Province='Ontario',City='Toronto')"
      ],
      "metadata": {
        "colab": {
          "base_uri": "https://localhost:8080/"
        },
        "id": "A3mAVotRHcsw",
        "outputId": "2228974c-9a12-452a-a026-cb42bb316f53"
      },
      "execution_count": 29,
      "outputs": [
        {
          "output_type": "stream",
          "name": "stdout",
          "text": [
            "Country : Canada\n",
            "Province : Ontario\n",
            "City : Toronto\n"
          ]
        }
      ]
    },
    {
      "cell_type": "markdown",
      "source": [
        "##Objetos y clases en Python\n"
      ],
      "metadata": {
        "id": "7KmFnHFvRawY"
      }
    },
    {
      "cell_type": "code",
      "source": [
        "#libreria para graficar objetos\n",
        "\n",
        "import matplotlib.pyplot as plt\n",
        "%matplotlib inline  \n",
        "\n",
        "#Aquí estoy creando un objeto círculo con unos atributos: color y radio\n",
        "class circulo (object):\n",
        "  def __init__(self, radio, color):\n",
        "    self.radio = radio\n",
        "    self.color = color"
      ],
      "metadata": {
        "id": "cccFbxXtRaf2"
      },
      "execution_count": 33,
      "outputs": []
    },
    {
      "cell_type": "code",
      "source": [
        "#En este ejercicio estoy creando una instacia (que es una realización de un objeto). Estoy también /\n",
        "#revisando luego el valor asignado a los atributos mediante objeto.atributo\n",
        "circulo1 = circulo(2, \"azul\")\n",
        "\n",
        "print(\"Radio del círculo: \" + str(circulo1.radio))\n",
        "\n",
        "print(\"Color del círculo: \" + circulo1.color)"
      ],
      "metadata": {
        "colab": {
          "base_uri": "https://localhost:8080/"
        },
        "id": "_HWzKqjQT5jQ",
        "outputId": "2005cce9-9625-4c49-a101-1adb79c3830d"
      },
      "execution_count": 40,
      "outputs": [
        {
          "output_type": "stream",
          "name": "stdout",
          "text": [
            "Radio del círculo: 2\n",
            "Color del círculo: azul\n"
          ]
        }
      ]
    },
    {
      "cell_type": "code",
      "source": [
        "# ahora voy a añadir un método, que es la definición de las fomras en que se interactua con el objeto\n",
        "\n",
        "class circulo(object):\n",
        "  def __init__(self, radio = 2, color = \"yellow\"):\n",
        "    self.radio = radio\n",
        "    self.color = color\n",
        "  \n",
        "  def adicionar_radio (self, r):\n",
        "    self.radio = self.radio + r\n",
        "    return (self.radio)\n",
        "\n",
        "  def drawCircle(self):\n",
        "    plt.gca().add_patch(plt.Circle((0, 0), radius=self.radio, fc=self.color))\n",
        "    plt.axis('scaled')\n",
        "    plt.show()  "
      ],
      "metadata": {
        "id": "AxTsSr4gVfss"
      },
      "execution_count": 68,
      "outputs": []
    },
    {
      "cell_type": "code",
      "source": [
        "#ahora voy a ver qué sale de esto\n",
        "circulo1 = circulo(2, \"yellow\")\n",
        "\n",
        "circulo1.adicionar_radio(1)"
      ],
      "metadata": {
        "colab": {
          "base_uri": "https://localhost:8080/"
        },
        "id": "J35Vwd2EWiZ0",
        "outputId": "9c0701c1-1704-4cf8-9fb8-092070d9f6ed"
      },
      "execution_count": 71,
      "outputs": [
        {
          "output_type": "execute_result",
          "data": {
            "text/plain": [
              "3"
            ]
          },
          "metadata": {},
          "execution_count": 71
        }
      ]
    },
    {
      "cell_type": "code",
      "source": [
        "circulo1.drawCircle()"
      ],
      "metadata": {
        "colab": {
          "base_uri": "https://localhost:8080/",
          "height": 265
        },
        "id": "dhORGQ6cXSCB",
        "outputId": "8b700bed-66c3-4a3f-ea43-fabcace8ed89"
      },
      "execution_count": 72,
      "outputs": [
        {
          "output_type": "display_data",
          "data": {
            "text/plain": [
              "<Figure size 432x288 with 1 Axes>"
            ],
            "image/png": "[encoded data removed]"
          },
          "metadata": {
            "needs_background": "light"
          }
        }
      ]
    },
    {
      "cell_type": "code",
      "source": [
        "#dir(circulo1)"
      ],
      "metadata": {
        "id": "pRMROnTLXgy0"
      },
      "execution_count": 59,
      "outputs": []
    },
    {
      "cell_type": "code",
      "source": [
        "circulo1.drawCircle()"
      ],
      "metadata": {
        "colab": {
          "base_uri": "https://localhost:8080/",
          "height": 265
        },
        "id": "IyccignWawCp",
        "outputId": "ae59e3ca-d46a-4963-f618-45c8e4581f28"
      },
      "execution_count": 67,
      "outputs": [
        {
          "output_type": "display_data",
          "data": {
            "text/plain": [
              "<Figure size 432x288 with 1 Axes>"
            ],
            "image/png": "[encoded data removed]"
          },
          "metadata": {
            "needs_background": "light"
          }
        }
      ]
    },
    {
      "cell_type": "code",
      "source": [
        "#Ahora voy a crear un cuadrado\n",
        "\n",
        "class cuadrado (object):\n",
        "\n",
        "  #definición de propiedades\n",
        "  def __init__(self, color = \"orange\", alto = 2, ancho = 3):\n",
        "    self.color = color\n",
        "    self.alto = alto\n",
        "    self.ancho = ancho\n",
        "\n",
        "  #definición de métodos dibujar círculo\n",
        "\n",
        "  def dibujar_rectangulo(self):\n",
        "    plt.gca().add_patch(plt.Rectangle((0, 0), self.alto, self.ancho ,fc=self.color))\n",
        "    plt.axis('scaled')\n",
        "    plt.show()\n",
        "    "
      ],
      "metadata": {
        "id": "hyuZLj1icrgW"
      },
      "execution_count": 86,
      "outputs": []
    },
    {
      "cell_type": "code",
      "source": [
        "#Ahora voy a crear una instacia del objeto cuadrado\n",
        "\n",
        "cuadrado1 = cuadrado(\"green\", 5, 2)\n",
        "\n"
      ],
      "metadata": {
        "id": "TvOnblZCdc6q"
      },
      "execution_count": 87,
      "outputs": []
    },
    {
      "cell_type": "code",
      "source": [
        "atributos_cuadrado = [cuadrado1.color, cuadrado1.ancho, cuadrado1.alto]\n",
        "\n",
        "atributos_cuadrado\n",
        "\n"
      ],
      "metadata": {
        "colab": {
          "base_uri": "https://localhost:8080/"
        },
        "id": "qMJx--xXd4WS",
        "outputId": "db61aad4-e0cb-4763-95ce-4d9b1eedc406"
      },
      "execution_count": 88,
      "outputs": [
        {
          "output_type": "execute_result",
          "data": {
            "text/plain": [
              "['green', 2, 5]"
            ]
          },
          "metadata": {},
          "execution_count": 88
        }
      ]
    },
    {
      "cell_type": "code",
      "source": [
        "cuadrado1.dibujar_rectangulo()"
      ],
      "metadata": {
        "colab": {
          "base_uri": "https://localhost:8080/",
          "height": 182
        },
        "id": "9HAN-2j-eIVo",
        "outputId": "c23226cb-b7db-4d90-cac3-932a81d5af72"
      },
      "execution_count": 89,
      "outputs": [
        {
          "output_type": "display_data",
          "data": {
            "text/plain": [
              "<Figure size 432x288 with 1 Axes>"
            ],
            "image/png": "[encoded data removed]"
          },
          "metadata": {
            "needs_background": "light"
          }
        }
      ]
    },
    {
      "cell_type": "markdown",
      "source": [
        "##MANEJO DE EXCEPCIONES\n",
        "* Una excepción es un error que sucede cuando se ejecuta un código\n",
        "* Estrategias: try: y except:\n",
        "* "
      ],
      "metadata": {
        "id": "rkKFcJu1fZoE"
      }
    },
    {
      "cell_type": "code",
      "source": [
        "#Ejemplos try y except\n",
        "\n",
        "a = 1\n",
        "\n",
        "try:\n",
        "    b = int(input(\"Please enter a number to divide a \"))\n",
        "    a = a/b\n",
        "    print(\"Success a=\",a)\n",
        "except:\n",
        "    print(\"There was an error\")\n",
        "    "
      ],
      "metadata": {
        "colab": {
          "base_uri": "https://localhost:8080/"
        },
        "id": "_-90yFZngf09",
        "outputId": "7a1a1578-5d62-45f8-cec7-93852f007a6e"
      },
      "execution_count": 93,
      "outputs": [
        {
          "output_type": "stream",
          "name": "stdout",
          "text": [
            "Please enter a number to divide a 3\n",
            "Success a= 0.3333333333333333\n"
          ]
        }
      ]
    },
    {
      "cell_type": "code",
      "source": [
        "#Ejemplos de try y except cuand queremos evirar errores especídicos\n",
        "a = 1\n",
        "\n",
        "try:\n",
        "    b = int(input(\"Please enter a number to divide a\"))\n",
        "    a = a/b\n",
        "    print(\"Success a=\",a)\n",
        "except ZeroDivisionError:\n",
        "    print(\"The number you provided cant divide 1 because it is 0\")\n",
        "except ValueError:\n",
        "    print(\"You did not provide a number\")\n",
        "except:\n",
        "    print(\"Something went wrong\")"
      ],
      "metadata": {
        "colab": {
          "base_uri": "https://localhost:8080/"
        },
        "id": "jcyeoc7ThHLB",
        "outputId": "6d233f54-691d-43e8-ca22-f3851784df2a"
      },
      "execution_count": 97,
      "outputs": [
        {
          "output_type": "stream",
          "name": "stdout",
          "text": [
            "Please enter a number to divide aA\n",
            "You did not provide a number\n"
          ]
        }
      ]
    },
    {
      "cell_type": "code",
      "source": [
        "a = 1\n",
        "\n",
        "try:\n",
        "    b = int(input(\"Please enter a number to divide a\"))\n",
        "    a = a/b\n",
        "except ZeroDivisionError:\n",
        "    print(\"The number you provided cant divide 1 because it is 0\")\n",
        "except ValueError:\n",
        "    print(\"You did not provide a number\")\n",
        "except:\n",
        "    print(\"Something went wrong\")\n",
        "else:\n",
        "    print(\"success a=\",a)"
      ],
      "metadata": {
        "colab": {
          "base_uri": "https://localhost:8080/"
        },
        "id": "OUkkNrVwjybh",
        "outputId": "a4cf9201-1556-4f42-e4bc-b07bede8977b"
      },
      "execution_count": 98,
      "outputs": [
        {
          "output_type": "stream",
          "name": "stdout",
          "text": [
            "Please enter a number to divide a2\n",
            "success a= 0.5\n"
          ]
        }
      ]
    }
  ]
}